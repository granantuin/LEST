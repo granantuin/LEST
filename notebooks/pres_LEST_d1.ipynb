{
  "nbformat": 4,
  "nbformat_minor": 0,
  "metadata": {
    "colab": {
      "provenance": []
    },
    "kernelspec": {
      "name": "python3",
      "display_name": "Python 3"
    },
    "language_info": {
      "name": "python"
    }
  },
  "cells": [
    {
      "cell_type": "code",
      "source": [
        "!pip install -r \"/content/drive/MyDrive/Colab Notebooks/LEVX_1km/requirements.txt\""
      ],
      "metadata": {
        "id": "EdGOq9bNcIsN"
      },
      "execution_count": null,
      "outputs": []
    },
    {
      "cell_type": "code",
      "source": [
        "!pip install lazypredict"
      ],
      "metadata": {
        "id": "Z5pVd9re32fK"
      },
      "execution_count": null,
      "outputs": []
    },
    {
      "cell_type": "code",
      "source": [
        "import plotly.express as px\n",
        "import pandas as pd\n",
        "import numpy as np\n",
        "\n",
        "\n",
        "coor = pd.read_csv(\"/content/drive/MyDrive/Colab Notebooks/LEST/input_files/distan_lat42.896lon-8.415p4R4Km.csv\")\n",
        "px.set_mapbox_access_token(\"pk.eyJ1IjoiZ3JhbmFudHVpbiIsImEiOiJja3B4dGU4OTkwMTFmMm9ycnNhMjJvaGJqIn0.VWzx_PkD9A5cSUVsn_ijCA\")\n",
        "px.scatter_mapbox(coor, hover_data=['distance'],lat='lat', lon='lon',color='distance', title=\"Nearest points\",\n",
        "                           color_continuous_scale=px.colors.cyclical.IceFire,)"
      ],
      "metadata": {
        "id": "L5ZGyKtdklV4",
        "colab": {
          "base_uri": "https://localhost:8080/",
          "height": 542
        },
        "outputId": "3c40c3ba-e1ac-456f-a56a-c417a61aa489"
      },
      "execution_count": 1,
      "outputs": [
        {
          "output_type": "display_data",
          "data": {
            "text/html": [
              "<html>\n",
              "<head><meta charset=\"utf-8\" /></head>\n",
              "<body>\n",
              "    <div>            <script src=\"https://cdnjs.cloudflare.com/ajax/libs/mathjax/2.7.5/MathJax.js?config=TeX-AMS-MML_SVG\"></script><script type=\"text/javascript\">if (window.MathJax) {MathJax.Hub.Config({SVG: {font: \"STIX-Web\"}});}</script>                <script type=\"text/javascript\">window.PlotlyConfig = {MathJaxConfig: 'local'};</script>\n",
              "        <script src=\"https://cdn.plot.ly/plotly-2.8.3.min.js\"></script>                <div id=\"aba5363c-5099-40ce-a45e-2441a071f3e6\" class=\"plotly-graph-div\" style=\"height:525px; width:100%;\"></div>            <script type=\"text/javascript\">                                    window.PLOTLYENV=window.PLOTLYENV || {};                                    if (document.getElementById(\"aba5363c-5099-40ce-a45e-2441a071f3e6\")) {                    Plotly.newPlot(                        \"aba5363c-5099-40ce-a45e-2441a071f3e6\",                        [{\"customdata\":[[2.15],[2.64],[3.18],[3.53]],\"hovertemplate\":\"lat=%{lat}<br>lon=%{lon}<br>distance=%{marker.color}<extra></extra>\",\"lat\":[42.88149887862141,42.91738852548408,42.87906360284184,42.914951826465234],\"legendgroup\":\"\",\"lon\":[-8.432536009471237,-8.429224938795953,-8.38355936586536,-8.380219858087338],\"marker\":{\"color\":[2.15,2.64,3.18,3.53],\"coloraxis\":\"coloraxis\"},\"mode\":\"markers\",\"name\":\"\",\"showlegend\":false,\"subplot\":\"mapbox\",\"type\":\"scattermapbox\"}],                        {\"template\":{\"data\":{\"bar\":[{\"error_x\":{\"color\":\"#2a3f5f\"},\"error_y\":{\"color\":\"#2a3f5f\"},\"marker\":{\"line\":{\"color\":\"#E5ECF6\",\"width\":0.5},\"pattern\":{\"fillmode\":\"overlay\",\"size\":10,\"solidity\":0.2}},\"type\":\"bar\"}],\"barpolar\":[{\"marker\":{\"line\":{\"color\":\"#E5ECF6\",\"width\":0.5},\"pattern\":{\"fillmode\":\"overlay\",\"size\":10,\"solidity\":0.2}},\"type\":\"barpolar\"}],\"carpet\":[{\"aaxis\":{\"endlinecolor\":\"#2a3f5f\",\"gridcolor\":\"white\",\"linecolor\":\"white\",\"minorgridcolor\":\"white\",\"startlinecolor\":\"#2a3f5f\"},\"baxis\":{\"endlinecolor\":\"#2a3f5f\",\"gridcolor\":\"white\",\"linecolor\":\"white\",\"minorgridcolor\":\"white\",\"startlinecolor\":\"#2a3f5f\"},\"type\":\"carpet\"}],\"choropleth\":[{\"colorbar\":{\"outlinewidth\":0,\"ticks\":\"\"},\"type\":\"choropleth\"}],\"contour\":[{\"colorbar\":{\"outlinewidth\":0,\"ticks\":\"\"},\"colorscale\":[[0.0,\"#0d0887\"],[0.1111111111111111,\"#46039f\"],[0.2222222222222222,\"#7201a8\"],[0.3333333333333333,\"#9c179e\"],[0.4444444444444444,\"#bd3786\"],[0.5555555555555556,\"#d8576b\"],[0.6666666666666666,\"#ed7953\"],[0.7777777777777778,\"#fb9f3a\"],[0.8888888888888888,\"#fdca26\"],[1.0,\"#f0f921\"]],\"type\":\"contour\"}],\"contourcarpet\":[{\"colorbar\":{\"outlinewidth\":0,\"ticks\":\"\"},\"type\":\"contourcarpet\"}],\"heatmap\":[{\"colorbar\":{\"outlinewidth\":0,\"ticks\":\"\"},\"colorscale\":[[0.0,\"#0d0887\"],[0.1111111111111111,\"#46039f\"],[0.2222222222222222,\"#7201a8\"],[0.3333333333333333,\"#9c179e\"],[0.4444444444444444,\"#bd3786\"],[0.5555555555555556,\"#d8576b\"],[0.6666666666666666,\"#ed7953\"],[0.7777777777777778,\"#fb9f3a\"],[0.8888888888888888,\"#fdca26\"],[1.0,\"#f0f921\"]],\"type\":\"heatmap\"}],\"heatmapgl\":[{\"colorbar\":{\"outlinewidth\":0,\"ticks\":\"\"},\"colorscale\":[[0.0,\"#0d0887\"],[0.1111111111111111,\"#46039f\"],[0.2222222222222222,\"#7201a8\"],[0.3333333333333333,\"#9c179e\"],[0.4444444444444444,\"#bd3786\"],[0.5555555555555556,\"#d8576b\"],[0.6666666666666666,\"#ed7953\"],[0.7777777777777778,\"#fb9f3a\"],[0.8888888888888888,\"#fdca26\"],[1.0,\"#f0f921\"]],\"type\":\"heatmapgl\"}],\"histogram\":[{\"marker\":{\"pattern\":{\"fillmode\":\"overlay\",\"size\":10,\"solidity\":0.2}},\"type\":\"histogram\"}],\"histogram2d\":[{\"colorbar\":{\"outlinewidth\":0,\"ticks\":\"\"},\"colorscale\":[[0.0,\"#0d0887\"],[0.1111111111111111,\"#46039f\"],[0.2222222222222222,\"#7201a8\"],[0.3333333333333333,\"#9c179e\"],[0.4444444444444444,\"#bd3786\"],[0.5555555555555556,\"#d8576b\"],[0.6666666666666666,\"#ed7953\"],[0.7777777777777778,\"#fb9f3a\"],[0.8888888888888888,\"#fdca26\"],[1.0,\"#f0f921\"]],\"type\":\"histogram2d\"}],\"histogram2dcontour\":[{\"colorbar\":{\"outlinewidth\":0,\"ticks\":\"\"},\"colorscale\":[[0.0,\"#0d0887\"],[0.1111111111111111,\"#46039f\"],[0.2222222222222222,\"#7201a8\"],[0.3333333333333333,\"#9c179e\"],[0.4444444444444444,\"#bd3786\"],[0.5555555555555556,\"#d8576b\"],[0.6666666666666666,\"#ed7953\"],[0.7777777777777778,\"#fb9f3a\"],[0.8888888888888888,\"#fdca26\"],[1.0,\"#f0f921\"]],\"type\":\"histogram2dcontour\"}],\"mesh3d\":[{\"colorbar\":{\"outlinewidth\":0,\"ticks\":\"\"},\"type\":\"mesh3d\"}],\"parcoords\":[{\"line\":{\"colorbar\":{\"outlinewidth\":0,\"ticks\":\"\"}},\"type\":\"parcoords\"}],\"pie\":[{\"automargin\":true,\"type\":\"pie\"}],\"scatter\":[{\"marker\":{\"colorbar\":{\"outlinewidth\":0,\"ticks\":\"\"}},\"type\":\"scatter\"}],\"scatter3d\":[{\"line\":{\"colorbar\":{\"outlinewidth\":0,\"ticks\":\"\"}},\"marker\":{\"colorbar\":{\"outlinewidth\":0,\"ticks\":\"\"}},\"type\":\"scatter3d\"}],\"scattercarpet\":[{\"marker\":{\"colorbar\":{\"outlinewidth\":0,\"ticks\":\"\"}},\"type\":\"scattercarpet\"}],\"scattergeo\":[{\"marker\":{\"colorbar\":{\"outlinewidth\":0,\"ticks\":\"\"}},\"type\":\"scattergeo\"}],\"scattergl\":[{\"marker\":{\"colorbar\":{\"outlinewidth\":0,\"ticks\":\"\"}},\"type\":\"scattergl\"}],\"scattermapbox\":[{\"marker\":{\"colorbar\":{\"outlinewidth\":0,\"ticks\":\"\"}},\"type\":\"scattermapbox\"}],\"scatterpolar\":[{\"marker\":{\"colorbar\":{\"outlinewidth\":0,\"ticks\":\"\"}},\"type\":\"scatterpolar\"}],\"scatterpolargl\":[{\"marker\":{\"colorbar\":{\"outlinewidth\":0,\"ticks\":\"\"}},\"type\":\"scatterpolargl\"}],\"scatterternary\":[{\"marker\":{\"colorbar\":{\"outlinewidth\":0,\"ticks\":\"\"}},\"type\":\"scatterternary\"}],\"surface\":[{\"colorbar\":{\"outlinewidth\":0,\"ticks\":\"\"},\"colorscale\":[[0.0,\"#0d0887\"],[0.1111111111111111,\"#46039f\"],[0.2222222222222222,\"#7201a8\"],[0.3333333333333333,\"#9c179e\"],[0.4444444444444444,\"#bd3786\"],[0.5555555555555556,\"#d8576b\"],[0.6666666666666666,\"#ed7953\"],[0.7777777777777778,\"#fb9f3a\"],[0.8888888888888888,\"#fdca26\"],[1.0,\"#f0f921\"]],\"type\":\"surface\"}],\"table\":[{\"cells\":{\"fill\":{\"color\":\"#EBF0F8\"},\"line\":{\"color\":\"white\"}},\"header\":{\"fill\":{\"color\":\"#C8D4E3\"},\"line\":{\"color\":\"white\"}},\"type\":\"table\"}]},\"layout\":{\"annotationdefaults\":{\"arrowcolor\":\"#2a3f5f\",\"arrowhead\":0,\"arrowwidth\":1},\"autotypenumbers\":\"strict\",\"coloraxis\":{\"colorbar\":{\"outlinewidth\":0,\"ticks\":\"\"}},\"colorscale\":{\"diverging\":[[0,\"#8e0152\"],[0.1,\"#c51b7d\"],[0.2,\"#de77ae\"],[0.3,\"#f1b6da\"],[0.4,\"#fde0ef\"],[0.5,\"#f7f7f7\"],[0.6,\"#e6f5d0\"],[0.7,\"#b8e186\"],[0.8,\"#7fbc41\"],[0.9,\"#4d9221\"],[1,\"#276419\"]],\"sequential\":[[0.0,\"#0d0887\"],[0.1111111111111111,\"#46039f\"],[0.2222222222222222,\"#7201a8\"],[0.3333333333333333,\"#9c179e\"],[0.4444444444444444,\"#bd3786\"],[0.5555555555555556,\"#d8576b\"],[0.6666666666666666,\"#ed7953\"],[0.7777777777777778,\"#fb9f3a\"],[0.8888888888888888,\"#fdca26\"],[1.0,\"#f0f921\"]],\"sequentialminus\":[[0.0,\"#0d0887\"],[0.1111111111111111,\"#46039f\"],[0.2222222222222222,\"#7201a8\"],[0.3333333333333333,\"#9c179e\"],[0.4444444444444444,\"#bd3786\"],[0.5555555555555556,\"#d8576b\"],[0.6666666666666666,\"#ed7953\"],[0.7777777777777778,\"#fb9f3a\"],[0.8888888888888888,\"#fdca26\"],[1.0,\"#f0f921\"]]},\"colorway\":[\"#636efa\",\"#EF553B\",\"#00cc96\",\"#ab63fa\",\"#FFA15A\",\"#19d3f3\",\"#FF6692\",\"#B6E880\",\"#FF97FF\",\"#FECB52\"],\"font\":{\"color\":\"#2a3f5f\"},\"geo\":{\"bgcolor\":\"white\",\"lakecolor\":\"white\",\"landcolor\":\"#E5ECF6\",\"showlakes\":true,\"showland\":true,\"subunitcolor\":\"white\"},\"hoverlabel\":{\"align\":\"left\"},\"hovermode\":\"closest\",\"mapbox\":{\"style\":\"light\"},\"paper_bgcolor\":\"white\",\"plot_bgcolor\":\"#E5ECF6\",\"polar\":{\"angularaxis\":{\"gridcolor\":\"white\",\"linecolor\":\"white\",\"ticks\":\"\"},\"bgcolor\":\"#E5ECF6\",\"radialaxis\":{\"gridcolor\":\"white\",\"linecolor\":\"white\",\"ticks\":\"\"}},\"scene\":{\"xaxis\":{\"backgroundcolor\":\"#E5ECF6\",\"gridcolor\":\"white\",\"gridwidth\":2,\"linecolor\":\"white\",\"showbackground\":true,\"ticks\":\"\",\"zerolinecolor\":\"white\"},\"yaxis\":{\"backgroundcolor\":\"#E5ECF6\",\"gridcolor\":\"white\",\"gridwidth\":2,\"linecolor\":\"white\",\"showbackground\":true,\"ticks\":\"\",\"zerolinecolor\":\"white\"},\"zaxis\":{\"backgroundcolor\":\"#E5ECF6\",\"gridcolor\":\"white\",\"gridwidth\":2,\"linecolor\":\"white\",\"showbackground\":true,\"ticks\":\"\",\"zerolinecolor\":\"white\"}},\"shapedefaults\":{\"line\":{\"color\":\"#2a3f5f\"}},\"ternary\":{\"aaxis\":{\"gridcolor\":\"white\",\"linecolor\":\"white\",\"ticks\":\"\"},\"baxis\":{\"gridcolor\":\"white\",\"linecolor\":\"white\",\"ticks\":\"\"},\"bgcolor\":\"#E5ECF6\",\"caxis\":{\"gridcolor\":\"white\",\"linecolor\":\"white\",\"ticks\":\"\"}},\"title\":{\"x\":0.05},\"xaxis\":{\"automargin\":true,\"gridcolor\":\"white\",\"linecolor\":\"white\",\"ticks\":\"\",\"title\":{\"standoff\":15},\"zerolinecolor\":\"white\",\"zerolinewidth\":2},\"yaxis\":{\"automargin\":true,\"gridcolor\":\"white\",\"linecolor\":\"white\",\"ticks\":\"\",\"title\":{\"standoff\":15},\"zerolinecolor\":\"white\",\"zerolinewidth\":2}}},\"mapbox\":{\"domain\":{\"x\":[0.0,1.0],\"y\":[0.0,1.0]},\"center\":{\"lat\":42.89822570835314,\"lon\":-8.406385043054971},\"accesstoken\":\"pk.eyJ1IjoiZ3JhbmFudHVpbiIsImEiOiJja3B4dGU4OTkwMTFmMm9ycnNhMjJvaGJqIn0.VWzx_PkD9A5cSUVsn_ijCA\",\"zoom\":8},\"coloraxis\":{\"colorbar\":{\"title\":{\"text\":\"distance\"}},\"colorscale\":[[0.0,\"#000000\"],[0.0625,\"#001f4d\"],[0.125,\"#003786\"],[0.1875,\"#0e58a8\"],[0.25,\"#217eb8\"],[0.3125,\"#30a4ca\"],[0.375,\"#54c8df\"],[0.4375,\"#9be4ef\"],[0.5,\"#e1e9d1\"],[0.5625,\"#f3d573\"],[0.625,\"#e7b000\"],[0.6875,\"#da8200\"],[0.75,\"#c65400\"],[0.8125,\"#ac2301\"],[0.875,\"#820000\"],[0.9375,\"#4c0000\"],[1.0,\"#000000\"]]},\"legend\":{\"tracegroupgap\":0},\"title\":{\"text\":\"Nearest points\"}},                        {\"responsive\": true}                    ).then(function(){\n",
              "                            \n",
              "var gd = document.getElementById('aba5363c-5099-40ce-a45e-2441a071f3e6');\n",
              "var x = new MutationObserver(function (mutations, observer) {{\n",
              "        var display = window.getComputedStyle(gd).display;\n",
              "        if (!display || display === 'none') {{\n",
              "            console.log([gd, 'removed!']);\n",
              "            Plotly.purge(gd);\n",
              "            observer.disconnect();\n",
              "        }}\n",
              "}});\n",
              "\n",
              "// Listen for the removal of the full notebook cells\n",
              "var notebookContainer = gd.closest('#notebook-container');\n",
              "if (notebookContainer) {{\n",
              "    x.observe(notebookContainer, {childList: true});\n",
              "}}\n",
              "\n",
              "// Listen for the clearing of the current output cell\n",
              "var outputEl = gd.closest('.output');\n",
              "if (outputEl) {{\n",
              "    x.observe(outputEl, {childList: true});\n",
              "}}\n",
              "\n",
              "                        })                };                            </script>        </div>\n",
              "</body>\n",
              "</html>"
            ]
          },
          "metadata": {}
        }
      ]
    },
    {
      "cell_type": "code",
      "source": [
        "from scipy.stats import shapiro\n",
        "import pandas as pd\n",
        "\n",
        "\n",
        "station = pd.read_csv(\"/content/drive/MyDrive/Colab Notebooks/LEST/input_files/LESTY2018Y2022.csv\",\n",
        "                          usecols = [\"time\",\"mslp_o\"],\n",
        "                          parse_dates=[\"time\"]).set_index(\"time\")\n",
        "\n",
        "#Shapiro test normality\n",
        "print(\"Shapiro test normality\")\n",
        "\n",
        "\n",
        "sta, p = shapiro(station.mslp_o.sample(500))\n",
        "\n",
        "print(\"\\np value:\",p)\n",
        "#significance level alpha=0.01\n",
        "alpha = 0.01\n",
        "if p>alpha:\n",
        "  print(\"Accept null hypothesis: normal distribution pressure variable\\n\")\n",
        "else:\n",
        "  print(\"Reject null Hypothesis. Alternative hypothesis variable no normal distribution pressure variable\\n\")  \n",
        "\n",
        "                        \n",
        "station[\"mslp_o\"].describe()"
      ],
      "metadata": {
        "id": "OEX1x76AU35s",
        "colab": {
          "base_uri": "https://localhost:8080/"
        },
        "outputId": "dc5ee75a-5ec8-4d07-852a-db5a7df88dfe"
      },
      "execution_count": 2,
      "outputs": [
        {
          "output_type": "stream",
          "name": "stdout",
          "text": [
            "Shapiro test normality\n",
            "\n",
            "p value: 6.819948772385231e-11\n",
            "Reject null Hypothesis. Alternative hypothesis variable no normal distribution pressure variable\n",
            "\n"
          ]
        },
        {
          "output_type": "execute_result",
          "data": {
            "text/plain": [
              "count    90842.000000\n",
              "mean      1018.134805\n",
              "std          7.305043\n",
              "min        975.000000\n",
              "25%       1015.000000\n",
              "50%       1019.000000\n",
              "75%       1023.000000\n",
              "max       1037.000000\n",
              "Name: mslp_o, dtype: float64"
            ]
          },
          "metadata": {},
          "execution_count": 2
        }
      ]
    },
    {
      "cell_type": "markdown",
      "source": [
        "**Forecast **"
      ],
      "metadata": {
        "id": "eXs3F5ZTnQ8M"
      }
    },
    {
      "cell_type": "code",
      "source": [
        "#Load\n",
        "mody2018 = pd.read_csv(\"/content/drive/MyDrive/Colab Notebooks/LEST/input_files/lat42.896lon-8.415p4R4KmD1Y2018.csv\",parse_dates=[\"time\"])\n",
        "mody2019 = pd.read_csv(\"/content/drive/MyDrive/Colab Notebooks/LEST/input_files/lat42.896lon-8.415p4R4KmD1Y2019.csv\",parse_dates=[\"time\"])\n",
        "mody2020 = pd.read_csv(\"/content/drive/MyDrive/Colab Notebooks/LEST/input_files/lat42.896lon-8.415p4R4KmD1Y2020.csv\",parse_dates=[\"time\"])\n",
        "mody2021 = pd.read_csv(\"/content/drive/MyDrive/Colab Notebooks/LEST/input_files/lat42.896lon-8.415p4R4KmD1Y2021.csv\",parse_dates=[\"time\"])\n",
        "mody2022 = pd.read_csv(\"/content/drive/MyDrive/Colab Notebooks/LEST/input_files/lat42.896lon-8.415p4R4KmD1Y2022.csv\",parse_dates=[\"time\"])\n",
        "model1k = pd.concat([mody2018,mody2019,mody2020,mody2021,mody2022]).drop(columns=[\"Unnamed: 0\"]).set_index(\"time\")\n",
        "\n",
        "model1k"
      ],
      "metadata": {
        "id": "o5ZTRduTZ36H",
        "colab": {
          "base_uri": "https://localhost:8080/",
          "height": 866
        },
        "outputId": "d0bd3909-f712-4515-fc72-a1a43fa92110"
      },
      "execution_count": 3,
      "outputs": [
        {
          "output_type": "execute_result",
          "data": {
            "text/plain": [
              "                           dir0  snow_prec0   snowlevel0      mod0  \\\n",
              "time                                                                 \n",
              "2018-01-02 00:00:00  233.963104         0.0  1431.277588  8.529214   \n",
              "2018-01-02 01:00:00  232.617645         0.0  1450.688721  9.038249   \n",
              "2018-01-02 02:00:00  229.386154         0.0  1506.658691  9.148539   \n",
              "2018-01-02 03:00:00  224.010574         0.0  1530.089111  9.545937   \n",
              "2018-01-02 04:00:00  220.319962         0.0  1629.957764  8.721576   \n",
              "...                         ...         ...          ...       ...   \n",
              "2023-01-01 19:00:00  214.925400         0.0  1412.834229  3.840020   \n",
              "2023-01-01 20:00:00  218.536026         0.0  1334.450562  3.384263   \n",
              "2023-01-01 21:00:00  218.298325         0.0  1293.848755  3.525374   \n",
              "2023-01-01 22:00:00  219.277374         0.0  1319.713013  3.049916   \n",
              "2023-01-01 23:00:00  209.069260         0.0  1266.484619  2.767229   \n",
              "\n",
              "                     wind_gust0          mslp0       temp0       rh0  \\\n",
              "time                                                                   \n",
              "2018-01-02 00:00:00   12.747702  103069.140625  284.533936  0.996536   \n",
              "2018-01-02 01:00:00   13.097809  103024.101562  284.793640  0.991839   \n",
              "2018-01-02 02:00:00   13.241504  102974.367188  284.805237  0.992409   \n",
              "2018-01-02 03:00:00   13.720991  102908.781250  284.816742  0.996087   \n",
              "2018-01-02 04:00:00   12.831500  102884.570312  284.905121  0.993239   \n",
              "...                         ...            ...         ...       ...   \n",
              "2023-01-01 19:00:00    6.224229  101509.250000  282.401367  0.977776   \n",
              "2023-01-01 20:00:00    5.884864  101589.906250  282.391235  0.980421   \n",
              "2023-01-01 21:00:00    6.237169  101673.679688  282.288635  0.982895   \n",
              "2023-01-01 22:00:00    4.839274  101754.531250  281.655365  0.992891   \n",
              "2023-01-01 23:00:00    3.819226  101829.023438  281.207184  0.993105   \n",
              "\n",
              "                      visibility0    lhflx0  ...       cape3      cin3  \\\n",
              "time                                         ...                         \n",
              "2018-01-02 00:00:00  14435.375977 -2.462172  ...   27.370001 -0.000438   \n",
              "2018-01-02 01:00:00  13233.881836 -1.087396  ...   30.280001 -0.000438   \n",
              "2018-01-02 02:00:00  12632.814453 -0.456407  ...    8.658000 -0.000105   \n",
              "2018-01-02 03:00:00   1235.833618 -0.508618  ...    2.990000 -0.000125   \n",
              "2018-01-02 04:00:00  14433.916016 -0.312250  ...    1.244000  0.000562   \n",
              "...                           ...       ...  ...         ...       ...   \n",
              "2023-01-01 19:00:00  24046.664062  1.376939  ...   96.820000 -0.491957   \n",
              "2023-01-01 20:00:00  24048.144531  1.292046  ...  144.880005 -0.000320   \n",
              "2023-01-01 21:00:00  24051.210938  0.569344  ...  218.940002  0.002969   \n",
              "2023-01-01 22:00:00  24044.263672 -0.798442  ...  238.880005  0.000391   \n",
              "2023-01-01 23:00:00  24043.761719 -0.892067  ...  233.699997 -2.843711   \n",
              "\n",
              "                         cfh3      cfl3      cfm3      cft3      HGT5003  \\\n",
              "time                                                                       \n",
              "2018-01-02 00:00:00  0.500000  0.624215  0.000000  0.624215  5684.005859   \n",
              "2018-01-02 01:00:00  0.000000  0.652011  0.000000  0.652011  5682.228027   \n",
              "2018-01-02 02:00:00  0.000000  0.703125  0.100000  0.703125  5680.491211   \n",
              "2018-01-02 03:00:00  0.000000  0.769529  0.200000  0.769529  5680.566895   \n",
              "2018-01-02 04:00:00  0.296875  0.609375  0.600000  0.609375  5681.469238   \n",
              "...                       ...       ...       ...       ...          ...   \n",
              "2023-01-01 19:00:00  0.300000  0.332929  0.000000  0.332929  5466.016113   \n",
              "2023-01-01 20:00:00  0.100000  0.449521  0.000000  0.449521  5461.431152   \n",
              "2023-01-01 21:00:00  0.500000  0.357450  0.015625  0.500000  5455.578125   \n",
              "2023-01-01 22:00:00  0.300000  0.386312  0.000000  0.386312  5451.107910   \n",
              "2023-01-01 23:00:00  0.000000  0.332074  0.000000  0.332074  5448.818848   \n",
              "\n",
              "                         HGT8503       T5003       T8503  \n",
              "time                                                      \n",
              "2018-01-02 00:00:00  1578.303955  254.901123  277.214264  \n",
              "2018-01-02 01:00:00  1575.284058  255.174683  277.385498  \n",
              "2018-01-02 02:00:00  1573.386963  255.084564  278.089752  \n",
              "2018-01-02 03:00:00  1570.076050  254.978058  278.433868  \n",
              "2018-01-02 04:00:00  1570.291016  255.305695  279.794739  \n",
              "...                          ...         ...         ...  \n",
              "2023-01-01 19:00:00  1465.733032  252.778397  275.171875  \n",
              "2023-01-01 20:00:00  1470.889771  251.670898  274.828064  \n",
              "2023-01-01 21:00:00  1474.774048  250.488861  274.894684  \n",
              "2023-01-01 22:00:00  1477.870117  249.382767  275.115570  \n",
              "2023-01-01 23:00:00  1482.166260  247.952301  275.186493  \n",
              "\n",
              "[43752 rows x 100 columns]"
            ],
            "text/html": [
              "\n",
              "  <div id=\"df-fc55fe1f-f499-41b2-80c3-7855ef72f30e\">\n",
              "    <div class=\"colab-df-container\">\n",
              "      <div>\n",
              "<style scoped>\n",
              "    .dataframe tbody tr th:only-of-type {\n",
              "        vertical-align: middle;\n",
              "    }\n",
              "\n",
              "    .dataframe tbody tr th {\n",
              "        vertical-align: top;\n",
              "    }\n",
              "\n",
              "    .dataframe thead th {\n",
              "        text-align: right;\n",
              "    }\n",
              "</style>\n",
              "<table border=\"1\" class=\"dataframe\">\n",
              "  <thead>\n",
              "    <tr style=\"text-align: right;\">\n",
              "      <th></th>\n",
              "      <th>dir0</th>\n",
              "      <th>snow_prec0</th>\n",
              "      <th>snowlevel0</th>\n",
              "      <th>mod0</th>\n",
              "      <th>wind_gust0</th>\n",
              "      <th>mslp0</th>\n",
              "      <th>temp0</th>\n",
              "      <th>rh0</th>\n",
              "      <th>visibility0</th>\n",
              "      <th>lhflx0</th>\n",
              "      <th>...</th>\n",
              "      <th>cape3</th>\n",
              "      <th>cin3</th>\n",
              "      <th>cfh3</th>\n",
              "      <th>cfl3</th>\n",
              "      <th>cfm3</th>\n",
              "      <th>cft3</th>\n",
              "      <th>HGT5003</th>\n",
              "      <th>HGT8503</th>\n",
              "      <th>T5003</th>\n",
              "      <th>T8503</th>\n",
              "    </tr>\n",
              "    <tr>\n",
              "      <th>time</th>\n",
              "      <th></th>\n",
              "      <th></th>\n",
              "      <th></th>\n",
              "      <th></th>\n",
              "      <th></th>\n",
              "      <th></th>\n",
              "      <th></th>\n",
              "      <th></th>\n",
              "      <th></th>\n",
              "      <th></th>\n",
              "      <th></th>\n",
              "      <th></th>\n",
              "      <th></th>\n",
              "      <th></th>\n",
              "      <th></th>\n",
              "      <th></th>\n",
              "      <th></th>\n",
              "      <th></th>\n",
              "      <th></th>\n",
              "      <th></th>\n",
              "      <th></th>\n",
              "    </tr>\n",
              "  </thead>\n",
              "  <tbody>\n",
              "    <tr>\n",
              "      <th>2018-01-02 00:00:00</th>\n",
              "      <td>233.963104</td>\n",
              "      <td>0.0</td>\n",
              "      <td>1431.277588</td>\n",
              "      <td>8.529214</td>\n",
              "      <td>12.747702</td>\n",
              "      <td>103069.140625</td>\n",
              "      <td>284.533936</td>\n",
              "      <td>0.996536</td>\n",
              "      <td>14435.375977</td>\n",
              "      <td>-2.462172</td>\n",
              "      <td>...</td>\n",
              "      <td>27.370001</td>\n",
              "      <td>-0.000438</td>\n",
              "      <td>0.500000</td>\n",
              "      <td>0.624215</td>\n",
              "      <td>0.000000</td>\n",
              "      <td>0.624215</td>\n",
              "      <td>5684.005859</td>\n",
              "      <td>1578.303955</td>\n",
              "      <td>254.901123</td>\n",
              "      <td>277.214264</td>\n",
              "    </tr>\n",
              "    <tr>\n",
              "      <th>2018-01-02 01:00:00</th>\n",
              "      <td>232.617645</td>\n",
              "      <td>0.0</td>\n",
              "      <td>1450.688721</td>\n",
              "      <td>9.038249</td>\n",
              "      <td>13.097809</td>\n",
              "      <td>103024.101562</td>\n",
              "      <td>284.793640</td>\n",
              "      <td>0.991839</td>\n",
              "      <td>13233.881836</td>\n",
              "      <td>-1.087396</td>\n",
              "      <td>...</td>\n",
              "      <td>30.280001</td>\n",
              "      <td>-0.000438</td>\n",
              "      <td>0.000000</td>\n",
              "      <td>0.652011</td>\n",
              "      <td>0.000000</td>\n",
              "      <td>0.652011</td>\n",
              "      <td>5682.228027</td>\n",
              "      <td>1575.284058</td>\n",
              "      <td>255.174683</td>\n",
              "      <td>277.385498</td>\n",
              "    </tr>\n",
              "    <tr>\n",
              "      <th>2018-01-02 02:00:00</th>\n",
              "      <td>229.386154</td>\n",
              "      <td>0.0</td>\n",
              "      <td>1506.658691</td>\n",
              "      <td>9.148539</td>\n",
              "      <td>13.241504</td>\n",
              "      <td>102974.367188</td>\n",
              "      <td>284.805237</td>\n",
              "      <td>0.992409</td>\n",
              "      <td>12632.814453</td>\n",
              "      <td>-0.456407</td>\n",
              "      <td>...</td>\n",
              "      <td>8.658000</td>\n",
              "      <td>-0.000105</td>\n",
              "      <td>0.000000</td>\n",
              "      <td>0.703125</td>\n",
              "      <td>0.100000</td>\n",
              "      <td>0.703125</td>\n",
              "      <td>5680.491211</td>\n",
              "      <td>1573.386963</td>\n",
              "      <td>255.084564</td>\n",
              "      <td>278.089752</td>\n",
              "    </tr>\n",
              "    <tr>\n",
              "      <th>2018-01-02 03:00:00</th>\n",
              "      <td>224.010574</td>\n",
              "      <td>0.0</td>\n",
              "      <td>1530.089111</td>\n",
              "      <td>9.545937</td>\n",
              "      <td>13.720991</td>\n",
              "      <td>102908.781250</td>\n",
              "      <td>284.816742</td>\n",
              "      <td>0.996087</td>\n",
              "      <td>1235.833618</td>\n",
              "      <td>-0.508618</td>\n",
              "      <td>...</td>\n",
              "      <td>2.990000</td>\n",
              "      <td>-0.000125</td>\n",
              "      <td>0.000000</td>\n",
              "      <td>0.769529</td>\n",
              "      <td>0.200000</td>\n",
              "      <td>0.769529</td>\n",
              "      <td>5680.566895</td>\n",
              "      <td>1570.076050</td>\n",
              "      <td>254.978058</td>\n",
              "      <td>278.433868</td>\n",
              "    </tr>\n",
              "    <tr>\n",
              "      <th>2018-01-02 04:00:00</th>\n",
              "      <td>220.319962</td>\n",
              "      <td>0.0</td>\n",
              "      <td>1629.957764</td>\n",
              "      <td>8.721576</td>\n",
              "      <td>12.831500</td>\n",
              "      <td>102884.570312</td>\n",
              "      <td>284.905121</td>\n",
              "      <td>0.993239</td>\n",
              "      <td>14433.916016</td>\n",
              "      <td>-0.312250</td>\n",
              "      <td>...</td>\n",
              "      <td>1.244000</td>\n",
              "      <td>0.000562</td>\n",
              "      <td>0.296875</td>\n",
              "      <td>0.609375</td>\n",
              "      <td>0.600000</td>\n",
              "      <td>0.609375</td>\n",
              "      <td>5681.469238</td>\n",
              "      <td>1570.291016</td>\n",
              "      <td>255.305695</td>\n",
              "      <td>279.794739</td>\n",
              "    </tr>\n",
              "    <tr>\n",
              "      <th>...</th>\n",
              "      <td>...</td>\n",
              "      <td>...</td>\n",
              "      <td>...</td>\n",
              "      <td>...</td>\n",
              "      <td>...</td>\n",
              "      <td>...</td>\n",
              "      <td>...</td>\n",
              "      <td>...</td>\n",
              "      <td>...</td>\n",
              "      <td>...</td>\n",
              "      <td>...</td>\n",
              "      <td>...</td>\n",
              "      <td>...</td>\n",
              "      <td>...</td>\n",
              "      <td>...</td>\n",
              "      <td>...</td>\n",
              "      <td>...</td>\n",
              "      <td>...</td>\n",
              "      <td>...</td>\n",
              "      <td>...</td>\n",
              "      <td>...</td>\n",
              "    </tr>\n",
              "    <tr>\n",
              "      <th>2023-01-01 19:00:00</th>\n",
              "      <td>214.925400</td>\n",
              "      <td>0.0</td>\n",
              "      <td>1412.834229</td>\n",
              "      <td>3.840020</td>\n",
              "      <td>6.224229</td>\n",
              "      <td>101509.250000</td>\n",
              "      <td>282.401367</td>\n",
              "      <td>0.977776</td>\n",
              "      <td>24046.664062</td>\n",
              "      <td>1.376939</td>\n",
              "      <td>...</td>\n",
              "      <td>96.820000</td>\n",
              "      <td>-0.491957</td>\n",
              "      <td>0.300000</td>\n",
              "      <td>0.332929</td>\n",
              "      <td>0.000000</td>\n",
              "      <td>0.332929</td>\n",
              "      <td>5466.016113</td>\n",
              "      <td>1465.733032</td>\n",
              "      <td>252.778397</td>\n",
              "      <td>275.171875</td>\n",
              "    </tr>\n",
              "    <tr>\n",
              "      <th>2023-01-01 20:00:00</th>\n",
              "      <td>218.536026</td>\n",
              "      <td>0.0</td>\n",
              "      <td>1334.450562</td>\n",
              "      <td>3.384263</td>\n",
              "      <td>5.884864</td>\n",
              "      <td>101589.906250</td>\n",
              "      <td>282.391235</td>\n",
              "      <td>0.980421</td>\n",
              "      <td>24048.144531</td>\n",
              "      <td>1.292046</td>\n",
              "      <td>...</td>\n",
              "      <td>144.880005</td>\n",
              "      <td>-0.000320</td>\n",
              "      <td>0.100000</td>\n",
              "      <td>0.449521</td>\n",
              "      <td>0.000000</td>\n",
              "      <td>0.449521</td>\n",
              "      <td>5461.431152</td>\n",
              "      <td>1470.889771</td>\n",
              "      <td>251.670898</td>\n",
              "      <td>274.828064</td>\n",
              "    </tr>\n",
              "    <tr>\n",
              "      <th>2023-01-01 21:00:00</th>\n",
              "      <td>218.298325</td>\n",
              "      <td>0.0</td>\n",
              "      <td>1293.848755</td>\n",
              "      <td>3.525374</td>\n",
              "      <td>6.237169</td>\n",
              "      <td>101673.679688</td>\n",
              "      <td>282.288635</td>\n",
              "      <td>0.982895</td>\n",
              "      <td>24051.210938</td>\n",
              "      <td>0.569344</td>\n",
              "      <td>...</td>\n",
              "      <td>218.940002</td>\n",
              "      <td>0.002969</td>\n",
              "      <td>0.500000</td>\n",
              "      <td>0.357450</td>\n",
              "      <td>0.015625</td>\n",
              "      <td>0.500000</td>\n",
              "      <td>5455.578125</td>\n",
              "      <td>1474.774048</td>\n",
              "      <td>250.488861</td>\n",
              "      <td>274.894684</td>\n",
              "    </tr>\n",
              "    <tr>\n",
              "      <th>2023-01-01 22:00:00</th>\n",
              "      <td>219.277374</td>\n",
              "      <td>0.0</td>\n",
              "      <td>1319.713013</td>\n",
              "      <td>3.049916</td>\n",
              "      <td>4.839274</td>\n",
              "      <td>101754.531250</td>\n",
              "      <td>281.655365</td>\n",
              "      <td>0.992891</td>\n",
              "      <td>24044.263672</td>\n",
              "      <td>-0.798442</td>\n",
              "      <td>...</td>\n",
              "      <td>238.880005</td>\n",
              "      <td>0.000391</td>\n",
              "      <td>0.300000</td>\n",
              "      <td>0.386312</td>\n",
              "      <td>0.000000</td>\n",
              "      <td>0.386312</td>\n",
              "      <td>5451.107910</td>\n",
              "      <td>1477.870117</td>\n",
              "      <td>249.382767</td>\n",
              "      <td>275.115570</td>\n",
              "    </tr>\n",
              "    <tr>\n",
              "      <th>2023-01-01 23:00:00</th>\n",
              "      <td>209.069260</td>\n",
              "      <td>0.0</td>\n",
              "      <td>1266.484619</td>\n",
              "      <td>2.767229</td>\n",
              "      <td>3.819226</td>\n",
              "      <td>101829.023438</td>\n",
              "      <td>281.207184</td>\n",
              "      <td>0.993105</td>\n",
              "      <td>24043.761719</td>\n",
              "      <td>-0.892067</td>\n",
              "      <td>...</td>\n",
              "      <td>233.699997</td>\n",
              "      <td>-2.843711</td>\n",
              "      <td>0.000000</td>\n",
              "      <td>0.332074</td>\n",
              "      <td>0.000000</td>\n",
              "      <td>0.332074</td>\n",
              "      <td>5448.818848</td>\n",
              "      <td>1482.166260</td>\n",
              "      <td>247.952301</td>\n",
              "      <td>275.186493</td>\n",
              "    </tr>\n",
              "  </tbody>\n",
              "</table>\n",
              "<p>43752 rows × 100 columns</p>\n",
              "</div>\n",
              "      <button class=\"colab-df-convert\" onclick=\"convertToInteractive('df-fc55fe1f-f499-41b2-80c3-7855ef72f30e')\"\n",
              "              title=\"Convert this dataframe to an interactive table.\"\n",
              "              style=\"display:none;\">\n",
              "        \n",
              "  <svg xmlns=\"http://www.w3.org/2000/svg\" height=\"24px\"viewBox=\"0 0 24 24\"\n",
              "       width=\"24px\">\n",
              "    <path d=\"M0 0h24v24H0V0z\" fill=\"none\"/>\n",
              "    <path d=\"M18.56 5.44l.94 2.06.94-2.06 2.06-.94-2.06-.94-.94-2.06-.94 2.06-2.06.94zm-11 1L8.5 8.5l.94-2.06 2.06-.94-2.06-.94L8.5 2.5l-.94 2.06-2.06.94zm10 10l.94 2.06.94-2.06 2.06-.94-2.06-.94-.94-2.06-.94 2.06-2.06.94z\"/><path d=\"M17.41 7.96l-1.37-1.37c-.4-.4-.92-.59-1.43-.59-.52 0-1.04.2-1.43.59L10.3 9.45l-7.72 7.72c-.78.78-.78 2.05 0 2.83L4 21.41c.39.39.9.59 1.41.59.51 0 1.02-.2 1.41-.59l7.78-7.78 2.81-2.81c.8-.78.8-2.07 0-2.86zM5.41 20L4 18.59l7.72-7.72 1.47 1.35L5.41 20z\"/>\n",
              "  </svg>\n",
              "      </button>\n",
              "      \n",
              "  <style>\n",
              "    .colab-df-container {\n",
              "      display:flex;\n",
              "      flex-wrap:wrap;\n",
              "      gap: 12px;\n",
              "    }\n",
              "\n",
              "    .colab-df-convert {\n",
              "      background-color: #E8F0FE;\n",
              "      border: none;\n",
              "      border-radius: 50%;\n",
              "      cursor: pointer;\n",
              "      display: none;\n",
              "      fill: #1967D2;\n",
              "      height: 32px;\n",
              "      padding: 0 0 0 0;\n",
              "      width: 32px;\n",
              "    }\n",
              "\n",
              "    .colab-df-convert:hover {\n",
              "      background-color: #E2EBFA;\n",
              "      box-shadow: 0px 1px 2px rgba(60, 64, 67, 0.3), 0px 1px 3px 1px rgba(60, 64, 67, 0.15);\n",
              "      fill: #174EA6;\n",
              "    }\n",
              "\n",
              "    [theme=dark] .colab-df-convert {\n",
              "      background-color: #3B4455;\n",
              "      fill: #D2E3FC;\n",
              "    }\n",
              "\n",
              "    [theme=dark] .colab-df-convert:hover {\n",
              "      background-color: #434B5C;\n",
              "      box-shadow: 0px 1px 3px 1px rgba(0, 0, 0, 0.15);\n",
              "      filter: drop-shadow(0px 1px 2px rgba(0, 0, 0, 0.3));\n",
              "      fill: #FFFFFF;\n",
              "    }\n",
              "  </style>\n",
              "\n",
              "      <script>\n",
              "        const buttonEl =\n",
              "          document.querySelector('#df-fc55fe1f-f499-41b2-80c3-7855ef72f30e button.colab-df-convert');\n",
              "        buttonEl.style.display =\n",
              "          google.colab.kernel.accessAllowed ? 'block' : 'none';\n",
              "\n",
              "        async function convertToInteractive(key) {\n",
              "          const element = document.querySelector('#df-fc55fe1f-f499-41b2-80c3-7855ef72f30e');\n",
              "          const dataTable =\n",
              "            await google.colab.kernel.invokeFunction('convertToInteractive',\n",
              "                                                     [key], {});\n",
              "          if (!dataTable) return;\n",
              "\n",
              "          const docLinkHtml = 'Like what you see? Visit the ' +\n",
              "            '<a target=\"_blank\" href=https://colab.research.google.com/notebooks/data_table.ipynb>data table notebook</a>'\n",
              "            + ' to learn more about interactive tables.';\n",
              "          element.innerHTML = '';\n",
              "          dataTable['output_type'] = 'display_data';\n",
              "          await google.colab.output.renderOutput(dataTable, element);\n",
              "          const docLink = document.createElement('div');\n",
              "          docLink.innerHTML = docLinkHtml;\n",
              "          element.appendChild(docLink);\n",
              "        }\n",
              "      </script>\n",
              "    </div>\n",
              "  </div>\n",
              "  "
            ]
          },
          "metadata": {},
          "execution_count": 3
        }
      ]
    },
    {
      "cell_type": "code",
      "source": [
        "#concat station model\n",
        "df_all1k = pd.concat([station,model1k],axis=1).dropna()\n",
        "df_all1k"
      ],
      "metadata": {
        "colab": {
          "base_uri": "https://localhost:8080/",
          "height": 866
        },
        "id": "Pew3L8PHgA0R",
        "outputId": "c7d97617-e3c3-4313-8031-1d190312c15f"
      },
      "execution_count": 4,
      "outputs": [
        {
          "output_type": "execute_result",
          "data": {
            "text/plain": [
              "                     mslp_o        dir0  snow_prec0   snowlevel0       mod0  \\\n",
              "time                                                                          \n",
              "2018-01-02 00:00:00  1030.0  233.963104         0.0  1431.277588   8.529214   \n",
              "2018-01-02 01:00:00  1030.0  232.617645         0.0  1450.688721   9.038249   \n",
              "2018-01-02 02:00:00  1029.0  229.386154         0.0  1506.658691   9.148539   \n",
              "2018-01-02 03:00:00  1029.0  224.010574         0.0  1530.089111   9.545937   \n",
              "2018-01-02 04:00:00  1029.0  220.319962         0.0  1629.957764   8.721576   \n",
              "...                     ...         ...         ...          ...        ...   \n",
              "2022-12-30 19:00:00  1015.0  203.312912         0.0  2052.007812  13.638724   \n",
              "2022-12-30 20:00:00  1015.0  201.815460         0.0  2043.720459  13.186010   \n",
              "2022-12-30 21:00:00  1015.0  200.847214         0.0  2055.141113  12.703165   \n",
              "2022-12-30 22:00:00  1015.0  200.076248         0.0  2059.032227  12.405934   \n",
              "2022-12-30 23:00:00  1016.0  197.137436         0.0  2040.777954  12.688440   \n",
              "\n",
              "                     wind_gust0          mslp0       temp0       rh0  \\\n",
              "time                                                                   \n",
              "2018-01-02 00:00:00   12.747702  103069.140625  284.533936  0.996536   \n",
              "2018-01-02 01:00:00   13.097809  103024.101562  284.793640  0.991839   \n",
              "2018-01-02 02:00:00   13.241504  102974.367188  284.805237  0.992409   \n",
              "2018-01-02 03:00:00   13.720991  102908.781250  284.816742  0.996087   \n",
              "2018-01-02 04:00:00   12.831500  102884.570312  284.905121  0.993239   \n",
              "...                         ...            ...         ...       ...   \n",
              "2022-12-30 19:00:00   21.316725  101481.078125  287.015625  0.955191   \n",
              "2022-12-30 20:00:00   22.361063  101532.601562  287.144867  0.945404   \n",
              "2022-12-30 21:00:00   21.816742  101544.117188  287.186951  0.940966   \n",
              "2022-12-30 22:00:00   21.539074  101530.500000  287.223450  0.946108   \n",
              "2022-12-30 23:00:00   21.523283  101538.101562  287.261047  0.935192   \n",
              "\n",
              "                      visibility0  ...      cape3      cin3      cfh3  \\\n",
              "time                               ...                                  \n",
              "2018-01-02 00:00:00  14435.375977  ...  27.370001 -0.000438  0.500000   \n",
              "2018-01-02 01:00:00  13233.881836  ...  30.280001 -0.000438  0.000000   \n",
              "2018-01-02 02:00:00  12632.814453  ...   8.658000 -0.000105  0.000000   \n",
              "2018-01-02 03:00:00   1235.833618  ...   2.990000 -0.000125  0.000000   \n",
              "2018-01-02 04:00:00  14433.916016  ...   1.244000  0.000562  0.296875   \n",
              "...                           ...  ...        ...       ...       ...   \n",
              "2022-12-30 19:00:00  15237.156250  ...  13.450000 -0.153680  0.200000   \n",
              "2022-12-30 20:00:00  15238.056641  ...  17.870001 -0.202000  0.100000   \n",
              "2022-12-30 21:00:00  12834.199219  ...  25.750000 -0.350734  0.000000   \n",
              "2022-12-30 22:00:00  11433.263672  ...  39.820000 -0.170746  0.100000   \n",
              "2022-12-30 23:00:00  15834.581055  ...  45.290001 -0.472965  0.200000   \n",
              "\n",
              "                         cfl3      cfm3      cft3      HGT5003      HGT8503  \\\n",
              "time                                                                          \n",
              "2018-01-02 00:00:00  0.624215  0.000000  0.624215  5684.005859  1578.303955   \n",
              "2018-01-02 01:00:00  0.652011  0.000000  0.652011  5682.228027  1575.284058   \n",
              "2018-01-02 02:00:00  0.703125  0.100000  0.703125  5680.491211  1573.386963   \n",
              "2018-01-02 03:00:00  0.769529  0.200000  0.769529  5680.566895  1570.076050   \n",
              "2018-01-02 04:00:00  0.609375  0.600000  0.609375  5681.469238  1570.291016   \n",
              "...                       ...       ...       ...          ...          ...   \n",
              "2022-12-30 19:00:00  0.718750  0.109375  0.718750  5590.645020  1488.197021   \n",
              "2022-12-30 20:00:00  0.726562  0.023438  0.726562  5594.009766  1491.375977   \n",
              "2022-12-30 21:00:00  0.796875  0.062500  0.796875  5593.878906  1492.337036   \n",
              "2022-12-30 22:00:00  0.828125  0.078125  0.828125  5591.584961  1491.985962   \n",
              "2022-12-30 23:00:00  0.781250  0.000000  0.781250  5591.786133  1491.775024   \n",
              "\n",
              "                          T5003       T8503  \n",
              "time                                         \n",
              "2018-01-02 00:00:00  254.901123  277.214264  \n",
              "2018-01-02 01:00:00  255.174683  277.385498  \n",
              "2018-01-02 02:00:00  255.084564  278.089752  \n",
              "2018-01-02 03:00:00  254.978058  278.433868  \n",
              "2018-01-02 04:00:00  255.305695  279.794739  \n",
              "...                         ...         ...  \n",
              "2022-12-30 19:00:00  258.165497  280.460114  \n",
              "2022-12-30 20:00:00  257.989868  280.390503  \n",
              "2022-12-30 21:00:00  257.925873  280.522491  \n",
              "2022-12-30 22:00:00  257.914612  280.573181  \n",
              "2022-12-30 23:00:00  257.952118  280.362427  \n",
              "\n",
              "[43478 rows x 101 columns]"
            ],
            "text/html": [
              "\n",
              "  <div id=\"df-ad57cef3-08c7-4d26-8519-f15ddb3930a1\">\n",
              "    <div class=\"colab-df-container\">\n",
              "      <div>\n",
              "<style scoped>\n",
              "    .dataframe tbody tr th:only-of-type {\n",
              "        vertical-align: middle;\n",
              "    }\n",
              "\n",
              "    .dataframe tbody tr th {\n",
              "        vertical-align: top;\n",
              "    }\n",
              "\n",
              "    .dataframe thead th {\n",
              "        text-align: right;\n",
              "    }\n",
              "</style>\n",
              "<table border=\"1\" class=\"dataframe\">\n",
              "  <thead>\n",
              "    <tr style=\"text-align: right;\">\n",
              "      <th></th>\n",
              "      <th>mslp_o</th>\n",
              "      <th>dir0</th>\n",
              "      <th>snow_prec0</th>\n",
              "      <th>snowlevel0</th>\n",
              "      <th>mod0</th>\n",
              "      <th>wind_gust0</th>\n",
              "      <th>mslp0</th>\n",
              "      <th>temp0</th>\n",
              "      <th>rh0</th>\n",
              "      <th>visibility0</th>\n",
              "      <th>...</th>\n",
              "      <th>cape3</th>\n",
              "      <th>cin3</th>\n",
              "      <th>cfh3</th>\n",
              "      <th>cfl3</th>\n",
              "      <th>cfm3</th>\n",
              "      <th>cft3</th>\n",
              "      <th>HGT5003</th>\n",
              "      <th>HGT8503</th>\n",
              "      <th>T5003</th>\n",
              "      <th>T8503</th>\n",
              "    </tr>\n",
              "    <tr>\n",
              "      <th>time</th>\n",
              "      <th></th>\n",
              "      <th></th>\n",
              "      <th></th>\n",
              "      <th></th>\n",
              "      <th></th>\n",
              "      <th></th>\n",
              "      <th></th>\n",
              "      <th></th>\n",
              "      <th></th>\n",
              "      <th></th>\n",
              "      <th></th>\n",
              "      <th></th>\n",
              "      <th></th>\n",
              "      <th></th>\n",
              "      <th></th>\n",
              "      <th></th>\n",
              "      <th></th>\n",
              "      <th></th>\n",
              "      <th></th>\n",
              "      <th></th>\n",
              "      <th></th>\n",
              "    </tr>\n",
              "  </thead>\n",
              "  <tbody>\n",
              "    <tr>\n",
              "      <th>2018-01-02 00:00:00</th>\n",
              "      <td>1030.0</td>\n",
              "      <td>233.963104</td>\n",
              "      <td>0.0</td>\n",
              "      <td>1431.277588</td>\n",
              "      <td>8.529214</td>\n",
              "      <td>12.747702</td>\n",
              "      <td>103069.140625</td>\n",
              "      <td>284.533936</td>\n",
              "      <td>0.996536</td>\n",
              "      <td>14435.375977</td>\n",
              "      <td>...</td>\n",
              "      <td>27.370001</td>\n",
              "      <td>-0.000438</td>\n",
              "      <td>0.500000</td>\n",
              "      <td>0.624215</td>\n",
              "      <td>0.000000</td>\n",
              "      <td>0.624215</td>\n",
              "      <td>5684.005859</td>\n",
              "      <td>1578.303955</td>\n",
              "      <td>254.901123</td>\n",
              "      <td>277.214264</td>\n",
              "    </tr>\n",
              "    <tr>\n",
              "      <th>2018-01-02 01:00:00</th>\n",
              "      <td>1030.0</td>\n",
              "      <td>232.617645</td>\n",
              "      <td>0.0</td>\n",
              "      <td>1450.688721</td>\n",
              "      <td>9.038249</td>\n",
              "      <td>13.097809</td>\n",
              "      <td>103024.101562</td>\n",
              "      <td>284.793640</td>\n",
              "      <td>0.991839</td>\n",
              "      <td>13233.881836</td>\n",
              "      <td>...</td>\n",
              "      <td>30.280001</td>\n",
              "      <td>-0.000438</td>\n",
              "      <td>0.000000</td>\n",
              "      <td>0.652011</td>\n",
              "      <td>0.000000</td>\n",
              "      <td>0.652011</td>\n",
              "      <td>5682.228027</td>\n",
              "      <td>1575.284058</td>\n",
              "      <td>255.174683</td>\n",
              "      <td>277.385498</td>\n",
              "    </tr>\n",
              "    <tr>\n",
              "      <th>2018-01-02 02:00:00</th>\n",
              "      <td>1029.0</td>\n",
              "      <td>229.386154</td>\n",
              "      <td>0.0</td>\n",
              "      <td>1506.658691</td>\n",
              "      <td>9.148539</td>\n",
              "      <td>13.241504</td>\n",
              "      <td>102974.367188</td>\n",
              "      <td>284.805237</td>\n",
              "      <td>0.992409</td>\n",
              "      <td>12632.814453</td>\n",
              "      <td>...</td>\n",
              "      <td>8.658000</td>\n",
              "      <td>-0.000105</td>\n",
              "      <td>0.000000</td>\n",
              "      <td>0.703125</td>\n",
              "      <td>0.100000</td>\n",
              "      <td>0.703125</td>\n",
              "      <td>5680.491211</td>\n",
              "      <td>1573.386963</td>\n",
              "      <td>255.084564</td>\n",
              "      <td>278.089752</td>\n",
              "    </tr>\n",
              "    <tr>\n",
              "      <th>2018-01-02 03:00:00</th>\n",
              "      <td>1029.0</td>\n",
              "      <td>224.010574</td>\n",
              "      <td>0.0</td>\n",
              "      <td>1530.089111</td>\n",
              "      <td>9.545937</td>\n",
              "      <td>13.720991</td>\n",
              "      <td>102908.781250</td>\n",
              "      <td>284.816742</td>\n",
              "      <td>0.996087</td>\n",
              "      <td>1235.833618</td>\n",
              "      <td>...</td>\n",
              "      <td>2.990000</td>\n",
              "      <td>-0.000125</td>\n",
              "      <td>0.000000</td>\n",
              "      <td>0.769529</td>\n",
              "      <td>0.200000</td>\n",
              "      <td>0.769529</td>\n",
              "      <td>5680.566895</td>\n",
              "      <td>1570.076050</td>\n",
              "      <td>254.978058</td>\n",
              "      <td>278.433868</td>\n",
              "    </tr>\n",
              "    <tr>\n",
              "      <th>2018-01-02 04:00:00</th>\n",
              "      <td>1029.0</td>\n",
              "      <td>220.319962</td>\n",
              "      <td>0.0</td>\n",
              "      <td>1629.957764</td>\n",
              "      <td>8.721576</td>\n",
              "      <td>12.831500</td>\n",
              "      <td>102884.570312</td>\n",
              "      <td>284.905121</td>\n",
              "      <td>0.993239</td>\n",
              "      <td>14433.916016</td>\n",
              "      <td>...</td>\n",
              "      <td>1.244000</td>\n",
              "      <td>0.000562</td>\n",
              "      <td>0.296875</td>\n",
              "      <td>0.609375</td>\n",
              "      <td>0.600000</td>\n",
              "      <td>0.609375</td>\n",
              "      <td>5681.469238</td>\n",
              "      <td>1570.291016</td>\n",
              "      <td>255.305695</td>\n",
              "      <td>279.794739</td>\n",
              "    </tr>\n",
              "    <tr>\n",
              "      <th>...</th>\n",
              "      <td>...</td>\n",
              "      <td>...</td>\n",
              "      <td>...</td>\n",
              "      <td>...</td>\n",
              "      <td>...</td>\n",
              "      <td>...</td>\n",
              "      <td>...</td>\n",
              "      <td>...</td>\n",
              "      <td>...</td>\n",
              "      <td>...</td>\n",
              "      <td>...</td>\n",
              "      <td>...</td>\n",
              "      <td>...</td>\n",
              "      <td>...</td>\n",
              "      <td>...</td>\n",
              "      <td>...</td>\n",
              "      <td>...</td>\n",
              "      <td>...</td>\n",
              "      <td>...</td>\n",
              "      <td>...</td>\n",
              "      <td>...</td>\n",
              "    </tr>\n",
              "    <tr>\n",
              "      <th>2022-12-30 19:00:00</th>\n",
              "      <td>1015.0</td>\n",
              "      <td>203.312912</td>\n",
              "      <td>0.0</td>\n",
              "      <td>2052.007812</td>\n",
              "      <td>13.638724</td>\n",
              "      <td>21.316725</td>\n",
              "      <td>101481.078125</td>\n",
              "      <td>287.015625</td>\n",
              "      <td>0.955191</td>\n",
              "      <td>15237.156250</td>\n",
              "      <td>...</td>\n",
              "      <td>13.450000</td>\n",
              "      <td>-0.153680</td>\n",
              "      <td>0.200000</td>\n",
              "      <td>0.718750</td>\n",
              "      <td>0.109375</td>\n",
              "      <td>0.718750</td>\n",
              "      <td>5590.645020</td>\n",
              "      <td>1488.197021</td>\n",
              "      <td>258.165497</td>\n",
              "      <td>280.460114</td>\n",
              "    </tr>\n",
              "    <tr>\n",
              "      <th>2022-12-30 20:00:00</th>\n",
              "      <td>1015.0</td>\n",
              "      <td>201.815460</td>\n",
              "      <td>0.0</td>\n",
              "      <td>2043.720459</td>\n",
              "      <td>13.186010</td>\n",
              "      <td>22.361063</td>\n",
              "      <td>101532.601562</td>\n",
              "      <td>287.144867</td>\n",
              "      <td>0.945404</td>\n",
              "      <td>15238.056641</td>\n",
              "      <td>...</td>\n",
              "      <td>17.870001</td>\n",
              "      <td>-0.202000</td>\n",
              "      <td>0.100000</td>\n",
              "      <td>0.726562</td>\n",
              "      <td>0.023438</td>\n",
              "      <td>0.726562</td>\n",
              "      <td>5594.009766</td>\n",
              "      <td>1491.375977</td>\n",
              "      <td>257.989868</td>\n",
              "      <td>280.390503</td>\n",
              "    </tr>\n",
              "    <tr>\n",
              "      <th>2022-12-30 21:00:00</th>\n",
              "      <td>1015.0</td>\n",
              "      <td>200.847214</td>\n",
              "      <td>0.0</td>\n",
              "      <td>2055.141113</td>\n",
              "      <td>12.703165</td>\n",
              "      <td>21.816742</td>\n",
              "      <td>101544.117188</td>\n",
              "      <td>287.186951</td>\n",
              "      <td>0.940966</td>\n",
              "      <td>12834.199219</td>\n",
              "      <td>...</td>\n",
              "      <td>25.750000</td>\n",
              "      <td>-0.350734</td>\n",
              "      <td>0.000000</td>\n",
              "      <td>0.796875</td>\n",
              "      <td>0.062500</td>\n",
              "      <td>0.796875</td>\n",
              "      <td>5593.878906</td>\n",
              "      <td>1492.337036</td>\n",
              "      <td>257.925873</td>\n",
              "      <td>280.522491</td>\n",
              "    </tr>\n",
              "    <tr>\n",
              "      <th>2022-12-30 22:00:00</th>\n",
              "      <td>1015.0</td>\n",
              "      <td>200.076248</td>\n",
              "      <td>0.0</td>\n",
              "      <td>2059.032227</td>\n",
              "      <td>12.405934</td>\n",
              "      <td>21.539074</td>\n",
              "      <td>101530.500000</td>\n",
              "      <td>287.223450</td>\n",
              "      <td>0.946108</td>\n",
              "      <td>11433.263672</td>\n",
              "      <td>...</td>\n",
              "      <td>39.820000</td>\n",
              "      <td>-0.170746</td>\n",
              "      <td>0.100000</td>\n",
              "      <td>0.828125</td>\n",
              "      <td>0.078125</td>\n",
              "      <td>0.828125</td>\n",
              "      <td>5591.584961</td>\n",
              "      <td>1491.985962</td>\n",
              "      <td>257.914612</td>\n",
              "      <td>280.573181</td>\n",
              "    </tr>\n",
              "    <tr>\n",
              "      <th>2022-12-30 23:00:00</th>\n",
              "      <td>1016.0</td>\n",
              "      <td>197.137436</td>\n",
              "      <td>0.0</td>\n",
              "      <td>2040.777954</td>\n",
              "      <td>12.688440</td>\n",
              "      <td>21.523283</td>\n",
              "      <td>101538.101562</td>\n",
              "      <td>287.261047</td>\n",
              "      <td>0.935192</td>\n",
              "      <td>15834.581055</td>\n",
              "      <td>...</td>\n",
              "      <td>45.290001</td>\n",
              "      <td>-0.472965</td>\n",
              "      <td>0.200000</td>\n",
              "      <td>0.781250</td>\n",
              "      <td>0.000000</td>\n",
              "      <td>0.781250</td>\n",
              "      <td>5591.786133</td>\n",
              "      <td>1491.775024</td>\n",
              "      <td>257.952118</td>\n",
              "      <td>280.362427</td>\n",
              "    </tr>\n",
              "  </tbody>\n",
              "</table>\n",
              "<p>43478 rows × 101 columns</p>\n",
              "</div>\n",
              "      <button class=\"colab-df-convert\" onclick=\"convertToInteractive('df-ad57cef3-08c7-4d26-8519-f15ddb3930a1')\"\n",
              "              title=\"Convert this dataframe to an interactive table.\"\n",
              "              style=\"display:none;\">\n",
              "        \n",
              "  <svg xmlns=\"http://www.w3.org/2000/svg\" height=\"24px\"viewBox=\"0 0 24 24\"\n",
              "       width=\"24px\">\n",
              "    <path d=\"M0 0h24v24H0V0z\" fill=\"none\"/>\n",
              "    <path d=\"M18.56 5.44l.94 2.06.94-2.06 2.06-.94-2.06-.94-.94-2.06-.94 2.06-2.06.94zm-11 1L8.5 8.5l.94-2.06 2.06-.94-2.06-.94L8.5 2.5l-.94 2.06-2.06.94zm10 10l.94 2.06.94-2.06 2.06-.94-2.06-.94-.94-2.06-.94 2.06-2.06.94z\"/><path d=\"M17.41 7.96l-1.37-1.37c-.4-.4-.92-.59-1.43-.59-.52 0-1.04.2-1.43.59L10.3 9.45l-7.72 7.72c-.78.78-.78 2.05 0 2.83L4 21.41c.39.39.9.59 1.41.59.51 0 1.02-.2 1.41-.59l7.78-7.78 2.81-2.81c.8-.78.8-2.07 0-2.86zM5.41 20L4 18.59l7.72-7.72 1.47 1.35L5.41 20z\"/>\n",
              "  </svg>\n",
              "      </button>\n",
              "      \n",
              "  <style>\n",
              "    .colab-df-container {\n",
              "      display:flex;\n",
              "      flex-wrap:wrap;\n",
              "      gap: 12px;\n",
              "    }\n",
              "\n",
              "    .colab-df-convert {\n",
              "      background-color: #E8F0FE;\n",
              "      border: none;\n",
              "      border-radius: 50%;\n",
              "      cursor: pointer;\n",
              "      display: none;\n",
              "      fill: #1967D2;\n",
              "      height: 32px;\n",
              "      padding: 0 0 0 0;\n",
              "      width: 32px;\n",
              "    }\n",
              "\n",
              "    .colab-df-convert:hover {\n",
              "      background-color: #E2EBFA;\n",
              "      box-shadow: 0px 1px 2px rgba(60, 64, 67, 0.3), 0px 1px 3px 1px rgba(60, 64, 67, 0.15);\n",
              "      fill: #174EA6;\n",
              "    }\n",
              "\n",
              "    [theme=dark] .colab-df-convert {\n",
              "      background-color: #3B4455;\n",
              "      fill: #D2E3FC;\n",
              "    }\n",
              "\n",
              "    [theme=dark] .colab-df-convert:hover {\n",
              "      background-color: #434B5C;\n",
              "      box-shadow: 0px 1px 3px 1px rgba(0, 0, 0, 0.15);\n",
              "      filter: drop-shadow(0px 1px 2px rgba(0, 0, 0, 0.3));\n",
              "      fill: #FFFFFF;\n",
              "    }\n",
              "  </style>\n",
              "\n",
              "      <script>\n",
              "        const buttonEl =\n",
              "          document.querySelector('#df-ad57cef3-08c7-4d26-8519-f15ddb3930a1 button.colab-df-convert');\n",
              "        buttonEl.style.display =\n",
              "          google.colab.kernel.accessAllowed ? 'block' : 'none';\n",
              "\n",
              "        async function convertToInteractive(key) {\n",
              "          const element = document.querySelector('#df-ad57cef3-08c7-4d26-8519-f15ddb3930a1');\n",
              "          const dataTable =\n",
              "            await google.colab.kernel.invokeFunction('convertToInteractive',\n",
              "                                                     [key], {});\n",
              "          if (!dataTable) return;\n",
              "\n",
              "          const docLinkHtml = 'Like what you see? Visit the ' +\n",
              "            '<a target=\"_blank\" href=https://colab.research.google.com/notebooks/data_table.ipynb>data table notebook</a>'\n",
              "            + ' to learn more about interactive tables.';\n",
              "          element.innerHTML = '';\n",
              "          dataTable['output_type'] = 'display_data';\n",
              "          await google.colab.output.renderOutput(dataTable, element);\n",
              "          const docLink = document.createElement('div');\n",
              "          docLink.innerHTML = docLinkHtml;\n",
              "          element.appendChild(docLink);\n",
              "        }\n",
              "      </script>\n",
              "    </div>\n",
              "  </div>\n",
              "  "
            ]
          },
          "metadata": {},
          "execution_count": 4
        }
      ]
    },
    {
      "cell_type": "markdown",
      "source": [
        "**Observed pressure (mslp_o) Vs forecasted pressure from meteorological model point 0 (mslp00)**"
      ],
      "metadata": {
        "id": "vXx7Pvwmx1g3"
      }
    },
    {
      "cell_type": "code",
      "source": [
        "pd.concat([df_all1k[\"mslp_o\"],df_all1k[\"mslp0\"]/100],axis = 1)[0::24].plot(figsize = (18, 8),grid = True,);"
      ],
      "metadata": {
        "colab": {
          "base_uri": "https://localhost:8080/",
          "height": 385
        },
        "id": "xcTPWg1XwllZ",
        "outputId": "1a6b259b-2bca-475c-d9ad-0460de6d8c0a"
      },
      "execution_count": 5,
      "outputs": [
        {
          "output_type": "display_data",
          "data": {
            "text/plain": [
              "<Figure size 1296x576 with 1 Axes>"
            ],
            "image/png": "[encoded data removed]"
          },
          "metadata": {
            "needs_background": "light"
          }
        }
      ]
    },
    {
      "cell_type": "markdown",
      "source": [
        "**Meteorological model scores (Point 0)**"
      ],
      "metadata": {
        "id": "1Lwji_3AffES"
      }
    },
    {
      "cell_type": "code",
      "source": [
        "from sklearn.metrics import mean_absolute_error\n",
        "from sklearn.metrics import mean_squared_error\n",
        "from sklearn.metrics import r2_score\n",
        "from sklearn.metrics import median_absolute_error\n",
        "import seaborn as sns\n",
        "\n",
        "#Mean absolute error\n",
        "Mean_AE = round(mean_absolute_error(df_all1k[\"mslp_o\"], df_all1k[\"mslp0\"]/100),2)\n",
        "\n",
        "#MSE \n",
        "MSE = round(mean_squared_error(df_all1k[\"mslp_o\"], df_all1k[\"mslp0\"]/100),2)\n",
        "\n",
        "#R2\n",
        "R2 = round(r2_score(df_all1k[\"mslp_o\"], df_all1k[\"mslp0\"]/100),2)\n",
        "\n",
        "#Median absolute error\n",
        "Median_AE = round(median_absolute_error(df_all1k[\"mslp_o\"], df_all1k[\"mslp0\"]/100),2)\n",
        "\n",
        "\n",
        "#random seed 1\n",
        "np.random.seed(1)\n",
        "\n",
        "res = pd.concat([df_all1k[\"mslp_o\"],df_all1k[\"mslp0\"]/100],axis = 1)\n",
        "sns.set_theme(style=\"darkgrid\")\n",
        "g = sns.jointplot(x=\"mslp0\", y=\"mslp_o\", data=res.sample(100),\n",
        "                  kind=\"reg\", truncate=False,\n",
        "                  color=\"m\", height=7)\n",
        "\n",
        "print(pd.DataFrame({\"Mean_AE\":Mean_AE,\"MSE\":MSE,\"R2\":R2,\"Median_AE\":Median_AE},index=[\"results point 0\"]))\n"
      ],
      "metadata": {
        "colab": {
          "base_uri": "https://localhost:8080/",
          "height": 544
        },
        "id": "giwyzjm-zVbh",
        "outputId": "51785909-ae01-4306-ad8e-c97f91a96165"
      },
      "execution_count": 6,
      "outputs": [
        {
          "output_type": "stream",
          "name": "stdout",
          "text": [
            "                 Mean_AE   MSE    R2  Median_AE\n",
            "results point 0     1.04  1.83  0.96       0.84\n"
          ]
        },
        {
          "output_type": "display_data",
          "data": {
            "text/plain": [
              "<Figure size 504x504 with 3 Axes>"
            ],
            "image/png": "[encoded data removed]"
          },
          "metadata": {}
        }
      ]
    },
    {
      "cell_type": "markdown",
      "source": [
        "**Meteorological model scores (Point 1)**"
      ],
      "metadata": {
        "id": "lLKgtDBM0HTA"
      }
    },
    {
      "cell_type": "code",
      "source": [
        "\n",
        "#Mean absolute error\n",
        "Mean_AE = round(mean_absolute_error(df_all1k[\"mslp_o\"], df_all1k[\"mslp1\"]/100),2)\n",
        "\n",
        "#MSE \n",
        "MSE = round(mean_squared_error(df_all1k[\"mslp_o\"], df_all1k[\"mslp1\"]/100),2)\n",
        "\n",
        "#R2\n",
        "R2 = round(r2_score(df_all1k[\"mslp_o\"], df_all1k[\"mslp1\"]/100),2)\n",
        "\n",
        "#Median absolute error\n",
        "Median_AE = round(median_absolute_error(df_all1k[\"mslp_o\"], df_all1k[\"mslp1\"]/100),2)\n",
        "\n",
        "#random seed 1\n",
        "np.random.seed(1)\n",
        "\n",
        "res = pd.concat([df_all1k[\"mslp_o\"],df_all1k[\"mslp1\"]/100],axis = 1)\n",
        "sns.set_theme(style=\"darkgrid\")\n",
        "g = sns.jointplot(x=\"mslp1\", y=\"mslp_o\", data=res.sample(100),\n",
        "                  kind=\"reg\", truncate=False,\n",
        "                  color=\"m\", height=7)\n",
        "\n",
        "\n",
        "print(pd.DataFrame({\"Mean_AE\":Mean_AE,\"MSE\":MSE,\"R2\":R2,\"Median_AE\":Median_AE},index=[\"results point 1\"]))"
      ],
      "metadata": {
        "colab": {
          "base_uri": "https://localhost:8080/",
          "height": 544
        },
        "id": "Ig8J2qWT0Mys",
        "outputId": "33d8d8bb-6b8d-4e9f-986c-c8c9ac9bd811"
      },
      "execution_count": 7,
      "outputs": [
        {
          "output_type": "stream",
          "name": "stdout",
          "text": [
            "                 Mean_AE   MSE    R2  Median_AE\n",
            "results point 1     1.05  1.88  0.96       0.85\n"
          ]
        },
        {
          "output_type": "display_data",
          "data": {
            "text/plain": [
              "<Figure size 504x504 with 3 Axes>"
            ],
            "image/png": "[encoded data removed]"
          },
          "metadata": {}
        }
      ]
    },
    {
      "cell_type": "markdown",
      "source": [
        "**Meteorological model independent variables X**"
      ],
      "metadata": {
        "id": "uu6AJ_C51NXM"
      }
    },
    {
      "cell_type": "code",
      "source": [
        "df_all1k.iloc[:,1:].columns\n"
      ],
      "metadata": {
        "id": "RN6Ibn-t8l1o",
        "colab": {
          "base_uri": "https://localhost:8080/"
        },
        "outputId": "961065ff-1e62-4c76-a9ad-6b382553c994"
      },
      "execution_count": 8,
      "outputs": [
        {
          "output_type": "execute_result",
          "data": {
            "text/plain": [
              "Index(['dir0', 'snow_prec0', 'snowlevel0', 'mod0', 'wind_gust0', 'mslp0',\n",
              "       'temp0', 'rh0', 'visibility0', 'lhflx0', 'lwflx0', 'conv_prec0',\n",
              "       'prec0', 'swflx0', 'shflx0', 'cape0', 'cin0', 'cfh0', 'cfl0', 'cfm0',\n",
              "       'cft0', 'HGT5000', 'HGT8500', 'T5000', 'T8500', 'dir1', 'snow_prec1',\n",
              "       'snowlevel1', 'mod1', 'wind_gust1', 'mslp1', 'temp1', 'rh1',\n",
              "       'visibility1', 'lhflx1', 'lwflx1', 'conv_prec1', 'prec1', 'swflx1',\n",
              "       'shflx1', 'cape1', 'cin1', 'cfh1', 'cfl1', 'cfm1', 'cft1', 'HGT5001',\n",
              "       'HGT8501', 'T5001', 'T8501', 'dir2', 'snow_prec2', 'snowlevel2', 'mod2',\n",
              "       'wind_gust2', 'mslp2', 'temp2', 'rh2', 'visibility2', 'lhflx2',\n",
              "       'lwflx2', 'conv_prec2', 'prec2', 'swflx2', 'shflx2', 'cape2', 'cin2',\n",
              "       'cfh2', 'cfl2', 'cfm2', 'cft2', 'HGT5002', 'HGT8502', 'T5002', 'T8502',\n",
              "       'dir3', 'snow_prec3', 'snowlevel3', 'mod3', 'wind_gust3', 'mslp3',\n",
              "       'temp3', 'rh3', 'visibility3', 'lhflx3', 'lwflx3', 'conv_prec3',\n",
              "       'prec3', 'swflx3', 'shflx3', 'cape3', 'cin3', 'cfh3', 'cfl3', 'cfm3',\n",
              "       'cft3', 'HGT5003', 'HGT8503', 'T5003', 'T8503'],\n",
              "      dtype='object')"
            ]
          },
          "metadata": {},
          "execution_count": 8
        }
      ]
    },
    {
      "cell_type": "markdown",
      "source": [
        "**Find ML algorithm**"
      ],
      "metadata": {
        "id": "ChfMtedU1i6z"
      }
    },
    {
      "cell_type": "code",
      "source": [
        "from sklearn.model_selection import train_test_split\n",
        "import lazypredict\n",
        "from lazypredict.Supervised import LazyRegressor\n",
        "\n",
        "# X and Y\n",
        "Y = df_all1k[\"mslp_o\"]\n",
        "X = df_all1k.iloc[:,1:]\n",
        "\n",
        "\n",
        "X_train, X_test, y_train, y_test = train_test_split(X,Y, test_size=0.2, )\n",
        "\n",
        "\n",
        "multiple_model = LazyRegressor(verbose =0, ignore_warnings = True,predictions=True)\n",
        "models,predictions = multiple_model.fit(X_train,X_test,y_train,y_test)"
      ],
      "metadata": {
        "colab": {
          "base_uri": "https://localhost:8080/"
        },
        "id": "yDXLnryb71O1",
        "outputId": "58207801-edd6-4671-c8ee-f62c0ae66c12"
      },
      "execution_count": null,
      "outputs": [
        {
          "output_type": "stream",
          "name": "stderr",
          "text": [
            " 95%|█████████▌| 39/41 [05:25<00:12,  6.28s/it]"
          ]
        },
        {
          "output_type": "stream",
          "name": "stdout",
          "text": [
            "[08:58:02] WARNING: /workspace/src/objective/regression_obj.cu:152: reg:linear is now deprecated in favor of reg:squarederror.\n"
          ]
        },
        {
          "output_type": "stream",
          "name": "stderr",
          "text": [
            "100%|██████████| 41/41 [05:32<00:00,  8.12s/it]\n"
          ]
        }
      ]
    },
    {
      "cell_type": "code",
      "source": [
        "models"
      ],
      "metadata": {
        "id": "UOjWiLjS_zvi"
      },
      "execution_count": null,
      "outputs": []
    },
    {
      "cell_type": "markdown",
      "source": [
        "**LGBMRegressor (y_test from lazypredict)**"
      ],
      "metadata": {
        "id": "GLB6qlndgjob"
      }
    },
    {
      "cell_type": "code",
      "source": [
        "Mean_AE = round(mean_absolute_error(y_test, predictions.LGBMRegressor),2)\n",
        "MSE = round(mean_squared_error(y_test, predictions.LGBMRegressor),2)\n",
        "R2 = round(r2_score(y_test, predictions.LGBMRegressor),2)\n",
        "Median_AE = round(median_absolute_error(y_test, predictions.LGBMRegressor),2)\n",
        "\n",
        "print(pd.DataFrame({\"Mean_AE\":Mean_AE,\"MSE\":MSE,\"R2\":R2,\"Median_AE\":Median_AE},index=[\"results LGBMRegressor\"]))\n",
        "\n"
      ],
      "metadata": {
        "colab": {
          "base_uri": "https://localhost:8080/"
        },
        "id": "UdxLyqh8ARgH",
        "outputId": "e0616f30-2812-457b-b060-98d1a3922ac3"
      },
      "execution_count": null,
      "outputs": [
        {
          "output_type": "stream",
          "name": "stdout",
          "text": [
            "                       Mean_AE  MSE   R2  Median_AE\n",
            "results LGBMRegressor     0.55 0.51 0.99       0.45\n"
          ]
        }
      ]
    },
    {
      "cell_type": "markdown",
      "source": [
        "**ExtraTreesRegressor (y_test from lazypredict)**"
      ],
      "metadata": {
        "id": "CrCi7JXsg22q"
      }
    },
    {
      "cell_type": "code",
      "source": [
        "Mean_AE = round(mean_absolute_error(y_test, predictions.ExtraTreesRegressor),2)\n",
        "MSE = round(mean_squared_error(y_test, predictions.ExtraTreesRegressor),2)\n",
        "R2 = round(r2_score(y_test, predictions.ExtraTreesRegressor),2)\n",
        "Median_AE = round(median_absolute_error(y_test, predictions.ExtraTreesRegressor),2)\n",
        "\n",
        "print(pd.DataFrame({\"Mean_AE\":Mean_AE,\"MSE\":MSE,\"R2\":R2,\"Median_AE\":Median_AE},index=[\"results ExtraTreesRegressor\"]))"
      ],
      "metadata": {
        "colab": {
          "base_uri": "https://localhost:8080/"
        },
        "id": "v_1CrEyPg9t4",
        "outputId": "5d6af77a-2cea-4bea-91df-cc7ae0b54d30"
      },
      "execution_count": null,
      "outputs": [
        {
          "output_type": "stream",
          "name": "stdout",
          "text": [
            "                             Mean_AE  MSE   R2  Median_AE\n",
            "results ExtraTreesRegressor     0.51 0.46 0.99       0.39\n"
          ]
        }
      ]
    },
    {
      "cell_type": "markdown",
      "source": [
        "**lgbmregressor ML algorithm selected**"
      ],
      "metadata": {
        "id": "39WWhfb66PSv"
      }
    },
    {
      "cell_type": "code",
      "source": [
        "from lightgbm.sklearn import LGBMRegressor\n",
        "from sklearn.model_selection import train_test_split\n",
        "\n",
        "#random seed 1\n",
        "np.random.seed(1)\n",
        "\n",
        "# X and Y\n",
        "Y = df_all1k.mslp_o\n",
        "X = df_all1k.iloc[:,1:]\n",
        "\n",
        "# loop random\n",
        "Median_AE_ml = []\n",
        "Mean_AE_ml =[]\n",
        "MSE_ml = []\n",
        "R2_ml = []\n",
        "\n",
        "#20 samples to test algorithm\n",
        "for t in range (0,5):\n",
        "  #split variables\n",
        "  X_train, X_test, y_train, y_test = train_test_split(X,Y, test_size=0.15, )\n",
        "\n",
        "  #machine learning model\n",
        "  ml_model = LGBMRegressor().fit(X_train,y_train)\n",
        "  y_pred = ml_model.predict(X_test)\n",
        "  \n",
        "  #Score calculation\n",
        "  Mean_AE_ml.append(round(mean_absolute_error(y_test, y_pred),2))\n",
        "  Median_AE_ml.append(round(median_absolute_error(y_test, y_pred),2))\n",
        "  MSE_ml.append (round(mean_squared_error(y_test, y_pred),2))\n",
        "  R2_ml.append(round(r2_score(y_test, y_pred),2))\n",
        "  \n",
        "  \n",
        "print(pd.DataFrame({\"Median_AE\":Median_AE_ml,\" Mean_AE\":Mean_AE_ml,\"MSE\":MSE_ml,\"R2\":R2_ml}))"
      ],
      "metadata": {
        "colab": {
          "base_uri": "https://localhost:8080/"
        },
        "id": "AmaGouiY4907",
        "outputId": "a88f5cb5-fa4e-4383-9d4e-298c1b4905b4"
      },
      "execution_count": 9,
      "outputs": [
        {
          "output_type": "stream",
          "name": "stdout",
          "text": [
            "   Median_AE   Mean_AE   MSE    R2\n",
            "0       0.59      0.72  0.88  0.98\n",
            "1       0.58      0.73  0.95  0.98\n",
            "2       0.58      0.72  0.87  0.98\n",
            "3       0.58      0.72  0.89  0.98\n",
            "4       0.57      0.73  0.92  0.98\n"
          ]
        }
      ]
    },
    {
      "cell_type": "markdown",
      "source": [
        "**T test (1sample) compare machine learning median absolute error in a sample (n=\n",
        "5) versus meteorological model median absolute error at point 0 (0.8) and at point 1 (0.8). the alternative hypothesis is: the mean of the underlying distribution of the sample is less than the given population mean (popmean). Significance level (alpha) = 0.01**"
      ],
      "metadata": {
        "id": "3j5DH1765--U"
      }
    },
    {
      "cell_type": "code",
      "source": [
        "from scipy import stats\n",
        "\n",
        "alpha = 0.01\n",
        "sta0, p_value0 = stats.ttest_1samp(Median_AE_ml, popmean=0.8, alternative=\"less\")\n",
        "sta1, p_value1 = stats.ttest_1samp(Median_AE_ml, popmean=0.8, alternative=\"less\")\n",
        "\n",
        "print(\"\\nalpha: \",alpha)\n",
        "\n",
        "print(\"\\nMedian Absolute error list from machine learning test:\",Median_AE_ml)\n",
        "print(\"\\n**** Point 0 ****\")\n",
        "print(\"\\np_value point 0:\",p_value0)\n",
        "if p_value0 < alpha:    \n",
        "    print(\"\\nwe are rejecting null hypothesis  H0: Median Absolute Error machine learning = Median Absolute Error meteorological model point 0\")\n",
        "    print(\"\\nwe are accepting alternative hypothesis: Median Absolute Error machine learning is less than Median Absolute Error meteorological point 0\")\n",
        "else:\n",
        "    print(\"\\nwe are accepting null hypothesis:  H0:  Median Absolute Error machine learning = Median Absolute Error meteorological model point 0 \")\n",
        "\n",
        "print(\"\\n**** Point 1 ****\")\n",
        "print(\"\\np value point 1:\",p_value1 )\n",
        "if p_value1 < alpha:    \n",
        "    print(\"\\nwe are rejecting null hypothesis  H0: Median Absolute Error machine learning = Median Absolute Error meteorological model point 1\")\n",
        "    print(\"\\nwe are accepting alternative hypothesis: Median Absolute Error machine learning is less than Median Absolute Error meteorological point 1\")\n",
        "else:\n",
        "    print(\"\\nwe are accepting null hypothesis:  H0  Median Absolute Error machine learning = Median Absolute Error meteorological model point 1\")"
      ],
      "metadata": {
        "colab": {
          "base_uri": "https://localhost:8080/"
        },
        "id": "Rsrp3_FM6Uea",
        "outputId": "7049e13c-880f-48ae-a123-e3266f2c6d84"
      },
      "execution_count": 11,
      "outputs": [
        {
          "output_type": "stream",
          "name": "stdout",
          "text": [
            "\n",
            "alpha:  0.01\n",
            "\n",
            "Median Absolute error list from machine learning test: [0.59, 0.58, 0.58, 0.58, 0.57]\n",
            "\n",
            "**** Point 0 ****\n",
            "\n",
            "p_value point 0: 1.2788881592914676e-07\n",
            "\n",
            "we are rejecting null hypothesis  H0: Median Absolute Error machine learning = Median Absolute Error meteorological model point 0\n",
            "\n",
            "we are accepting alternative hypothesis: Median Absolute Error machine learning is less than Median Absolute Error meteorological point 0\n",
            "\n",
            "**** Point 1 ****\n",
            "\n",
            "p value point 1: 1.2788881592914676e-07\n",
            "\n",
            "we are rejecting null hypothesis  H0: Median Absolute Error machine learning = Median Absolute Error meteorological model point 1\n",
            "\n",
            "we are accepting alternative hypothesis: Median Absolute Error machine learning is less than Median Absolute Error meteorological point 1\n"
          ]
        }
      ]
    },
    {
      "cell_type": "markdown",
      "source": [
        "**Add time variables**"
      ],
      "metadata": {
        "id": "3LB7ooEm7KY7"
      }
    },
    {
      "cell_type": "code",
      "source": [
        "df_all1k[\"hour\"] = df_all1k.index.hour\n",
        "df_all1k[\"month\"] = df_all1k.index.month\n",
        "df_all1k[\"dayofyear\"] = df_all1k.index.dayofyear\n",
        "df_all1k[\"weekofyear\"] = df_all1k.index.isocalendar().week.astype(int)"
      ],
      "metadata": {
        "id": "53SehPaetF9j"
      },
      "execution_count": 12,
      "outputs": []
    },
    {
      "cell_type": "markdown",
      "source": [
        "**Machine learning with time variables**"
      ],
      "metadata": {
        "id": "-hXqalG-8edT"
      }
    },
    {
      "cell_type": "markdown",
      "source": [
        " **X variables**"
      ],
      "metadata": {
        "id": "xsz1bScg8ILz"
      }
    },
    {
      "cell_type": "code",
      "source": [
        " df_all1k.iloc[:,1:].columns"
      ],
      "metadata": {
        "colab": {
          "base_uri": "https://localhost:8080/"
        },
        "id": "jQ0o2l828Q_a",
        "outputId": "227670f0-e66f-4d1e-b82e-5db4035a4776"
      },
      "execution_count": 13,
      "outputs": [
        {
          "output_type": "execute_result",
          "data": {
            "text/plain": [
              "Index(['dir0', 'snow_prec0', 'snowlevel0', 'mod0', 'wind_gust0', 'mslp0',\n",
              "       'temp0', 'rh0', 'visibility0', 'lhflx0',\n",
              "       ...\n",
              "       'cfm3', 'cft3', 'HGT5003', 'HGT8503', 'T5003', 'T8503', 'hour', 'month',\n",
              "       'dayofyear', 'weekofyear'],\n",
              "      dtype='object', length=104)"
            ]
          },
          "metadata": {},
          "execution_count": 13
        }
      ]
    },
    {
      "cell_type": "code",
      "source": [
        "#random seed 1\n",
        "np.random.seed(1)\n",
        "\n",
        "# X and Y\n",
        "Y = df_all1k.mslp_o\n",
        "X = df_all1k.iloc[:,1:]\n",
        "\n",
        "# loop random\n",
        "Median_AE_ml_t = []\n",
        "Mean_AE_ml_t =[]\n",
        "MSE_ml_t = []\n",
        "R2_ml_t = []\n",
        "\n",
        "#20 samples to test algorithm\n",
        "for t in range (0,5):\n",
        "  #split variables\n",
        "  X_train, X_test, y_train, y_test = train_test_split(X,Y, test_size=0.15, )\n",
        "\n",
        "  #machine learning model\n",
        "  ml_model = LGBMRegressor().fit(X_train,y_train)\n",
        "  y_pred = ml_model.predict(X_test)\n",
        "  \n",
        "  #Score calculation\n",
        "  Mean_AE_ml_t.append(round(mean_absolute_error(y_test, y_pred),2))\n",
        "  Median_AE_ml_t.append(round(median_absolute_error(y_test, y_pred),2))\n",
        "  MSE_ml_t.append (round(mean_squared_error(y_test, y_pred),2))\n",
        "  R2_ml_t.append(round(r2_score(y_test, y_pred),2))\n",
        "  \n",
        "  \n",
        "print(pd.DataFrame({\"Median_AE\":Median_AE_ml_t,\" Mean_AE\":Mean_AE_ml_t,\"MSE\":MSE_ml_t,\"R2\":R2_ml_t}))"
      ],
      "metadata": {
        "colab": {
          "base_uri": "https://localhost:8080/"
        },
        "id": "XXKcR59T71M8",
        "outputId": "5087201e-3274-4d66-aef3-eb662c490b4c"
      },
      "execution_count": 14,
      "outputs": [
        {
          "output_type": "stream",
          "name": "stdout",
          "text": [
            "   Median_AE   Mean_AE   MSE    R2\n",
            "0       0.55      0.68  0.77  0.99\n",
            "1       0.54      0.69  0.83  0.98\n",
            "2       0.55      0.67  0.76  0.99\n",
            "3       0.54      0.68  0.79  0.98\n",
            "4       0.54      0.69  0.82  0.98\n"
          ]
        }
      ]
    },
    {
      "cell_type": "code",
      "source": [
        "feature_importances = ml_model.feature_importances_\n",
        "total_sum = sum(feature_importances)\n",
        "feature_importances_perc = [(importance/total_sum)*100 for importance in feature_importances]\n",
        "# Print the feature importances as a percentage of total feature importance\n",
        "\n",
        "for name, importance in zip(X.columns, feature_importances_perc):\n",
        "    print(f\"{name}: {importance:.1f}%\")"
      ],
      "metadata": {
        "colab": {
          "base_uri": "https://localhost:8080/"
        },
        "id": "Z3u6Ab6JUkZd",
        "outputId": "c0ec4b9d-545e-436b-afd6-cff617da1e98"
      },
      "execution_count": 15,
      "outputs": [
        {
          "output_type": "stream",
          "name": "stdout",
          "text": [
            "dir0: 1.6%\n",
            "snow_prec0: 0.0%\n",
            "snowlevel0: 1.2%\n",
            "mod0: 0.5%\n",
            "wind_gust0: 1.0%\n",
            "mslp0: 7.4%\n",
            "temp0: 0.5%\n",
            "rh0: 1.1%\n",
            "visibility0: 0.5%\n",
            "lhflx0: 0.3%\n",
            "lwflx0: 1.0%\n",
            "conv_prec0: 0.1%\n",
            "prec0: 0.3%\n",
            "swflx0: 0.0%\n",
            "shflx0: 0.6%\n",
            "cape0: 0.7%\n",
            "cin0: 0.7%\n",
            "cfh0: 0.4%\n",
            "cfl0: 0.2%\n",
            "cfm0: 0.3%\n",
            "cft0: 0.1%\n",
            "HGT5000: 0.9%\n",
            "HGT8500: 2.2%\n",
            "T5000: 2.0%\n",
            "T8500: 1.3%\n",
            "dir1: 2.3%\n",
            "snow_prec1: 0.0%\n",
            "snowlevel1: 1.1%\n",
            "mod1: 1.2%\n",
            "wind_gust1: 0.9%\n",
            "mslp1: 2.7%\n",
            "temp1: 1.1%\n",
            "rh1: 0.6%\n",
            "visibility1: 0.7%\n",
            "lhflx1: 0.2%\n",
            "lwflx1: 0.8%\n",
            "conv_prec1: 0.3%\n",
            "prec1: 0.3%\n",
            "swflx1: 0.1%\n",
            "shflx1: 1.2%\n",
            "cape1: 1.0%\n",
            "cin1: 0.7%\n",
            "cfh1: 0.5%\n",
            "cfl1: 0.4%\n",
            "cfm1: 0.3%\n",
            "cft1: 0.1%\n",
            "HGT5001: 0.4%\n",
            "HGT8501: 1.2%\n",
            "T5001: 1.1%\n",
            "T8501: 1.0%\n",
            "dir2: 1.3%\n",
            "snow_prec2: 0.0%\n",
            "snowlevel2: 1.3%\n",
            "mod2: 0.4%\n",
            "wind_gust2: 0.7%\n",
            "mslp2: 3.1%\n",
            "temp2: 0.3%\n",
            "rh2: 0.6%\n",
            "visibility2: 0.5%\n",
            "lhflx2: 0.3%\n",
            "lwflx2: 1.0%\n",
            "conv_prec2: 0.3%\n",
            "prec2: 0.1%\n",
            "swflx2: 0.1%\n",
            "shflx2: 0.4%\n",
            "cape2: 0.7%\n",
            "cin2: 0.6%\n",
            "cfh2: 0.2%\n",
            "cfl2: 0.2%\n",
            "cfm2: 0.5%\n",
            "cft2: 0.4%\n",
            "HGT5002: 0.8%\n",
            "HGT8502: 3.0%\n",
            "T5002: 1.6%\n",
            "T8502: 1.5%\n",
            "dir3: 1.8%\n",
            "snow_prec3: 0.0%\n",
            "snowlevel3: 0.9%\n",
            "mod3: 0.6%\n",
            "wind_gust3: 0.5%\n",
            "mslp3: 2.8%\n",
            "temp3: 0.7%\n",
            "rh3: 0.5%\n",
            "visibility3: 0.2%\n",
            "lhflx3: 0.2%\n",
            "lwflx3: 1.1%\n",
            "conv_prec3: 0.2%\n",
            "prec3: 0.2%\n",
            "swflx3: 0.1%\n",
            "shflx3: 0.6%\n",
            "cape3: 0.7%\n",
            "cin3: 0.2%\n",
            "cfh3: 0.3%\n",
            "cfl3: 0.3%\n",
            "cfm3: 0.4%\n",
            "cft3: 0.2%\n",
            "HGT5003: 0.3%\n",
            "HGT8503: 0.9%\n",
            "T5003: 1.4%\n",
            "T8503: 1.1%\n",
            "hour: 1.4%\n",
            "month: 0.7%\n",
            "dayofyear: 12.4%\n",
            "weekofyear: 4.4%\n"
          ]
        }
      ]
    },
    {
      "cell_type": "markdown",
      "source": [
        "**T test two related samples. This is a test for the null hypothesis that two related samples have identical Median Absolute Error. Alternative hypothesis the Median Absolute Error of the distribution underlying the sample with time variables is less than the Median Absolute Error of the distribution underlying the sample without time variables. Significance level (alpha) = 0.01**"
      ],
      "metadata": {
        "id": "-uQb1jDO84oc"
      }
    },
    {
      "cell_type": "code",
      "source": [
        "from scipy import stats\n",
        "\n",
        "alpha = 0.01\n",
        "sta, p_value = stats.ttest_rel(Median_AE_ml_t, Median_AE_ml, alternative=\"less\")\n",
        "\n",
        "print(\"\\nMedian absolute error without time variables:\", Median_AE_ml)\n",
        "print(\"\\nMedian absolute error with time variables:\", Median_AE_ml_t)\n",
        "\n",
        "print(\"\\nalpha: \",alpha)\n",
        "\n",
        "print(\"\\np_value point: \",p_value)\n",
        "if p_value < alpha:    \n",
        "    print(\"\\nwe are rejecting null hypothesis  H0: Median absolute error machine learning without time variables = Median absolute error machine learning with time variables\")\n",
        "    print(\"\\nwe are accepting alternative hypothesis: Median absolute error of the sample with time variables inputs is less than the Median absolute error of the sample without time variables inputs\")\n",
        "else:\n",
        "    print(\"\\nwe are accepting null hypothesis:  H0: Median absolute error machine learning without time variables = Median absolute error machine learning with time variables\")\n",
        "     "
      ],
      "metadata": {
        "colab": {
          "base_uri": "https://localhost:8080/"
        },
        "id": "_AW7s4T19JEO",
        "outputId": "7073e437-06ae-4504-d869-69683e534ff9"
      },
      "execution_count": 16,
      "outputs": [
        {
          "output_type": "stream",
          "name": "stdout",
          "text": [
            "\n",
            "Median absolute error without time variables: [0.59, 0.58, 0.58, 0.58, 0.57]\n",
            "\n",
            "Median absolute error with time variables: [0.55, 0.54, 0.55, 0.54, 0.54]\n",
            "\n",
            "alpha:  0.01\n",
            "\n",
            "p_value point:  6.236301762079848e-05\n",
            "\n",
            "we are rejecting null hypothesis  H0: Median absolute error machine learning without time variables = Median absolute error machine learning with time variables\n",
            "\n",
            "we are accepting alternative hypothesis: Median absolute error of the sample with time variables inputs is less than the Median absolute error of the sample without time variables inputs\n"
          ]
        }
      ]
    },
    {
      "cell_type": "markdown",
      "source": [
        "**Save algorithm**"
      ],
      "metadata": {
        "id": "owVD0zsI_1JD"
      }
    },
    {
      "cell_type": "code",
      "source": [
        "import pickle\n",
        "from sklearn.pipeline import Pipeline\n",
        "\n",
        "x_var = df_all1k.iloc[:,1:].columns\n",
        "estimators = [('ml_model', ml_model)]\n",
        "pipe = Pipeline(estimators)\n",
        "print(pipe)\n",
        "al_file={\"x_var\":x_var,\"coor\":coor,\"pipe\":pipe}\n",
        "pickle.dump(al_file, open(\"pres_LEST_d1.al\", 'wb'))"
      ],
      "metadata": {
        "colab": {
          "base_uri": "https://localhost:8080/"
        },
        "id": "ZXM71i31__XS",
        "outputId": "6ce96892-6d64-4e0f-e596-38ed80d29b8c"
      },
      "execution_count": 17,
      "outputs": [
        {
          "output_type": "stream",
          "name": "stdout",
          "text": [
            "Pipeline(steps=[('ml_model', LGBMRegressor())])\n"
          ]
        }
      ]
    }
  ]
}