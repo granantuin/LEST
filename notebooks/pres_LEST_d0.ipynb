{
  "nbformat": 4,
  "nbformat_minor": 0,
  "metadata": {
    "colab": {
      "provenance": []
    },
    "kernelspec": {
      "name": "python3",
      "display_name": "Python 3"
    },
    "language_info": {
      "name": "python"
    }
  },
  "cells": [
    {
      "cell_type": "code",
      "source": [
        "!pip install -r \"/content/drive/MyDrive/Colab Notebooks/LEVX_1km/requirements.txt\""
      ],
      "metadata": {
        "id": "EdGOq9bNcIsN"
      },
      "execution_count": null,
      "outputs": []
    },
    {
      "cell_type": "code",
      "source": [
        "!pip install lazypredict"
      ],
      "metadata": {
        "id": "Z5pVd9re32fK"
      },
      "execution_count": null,
      "outputs": []
    },
    {
      "cell_type": "code",
      "source": [
        "import plotly.express as px\n",
        "import pandas as pd\n",
        "import numpy as np\n",
        "\n",
        "\n",
        "coor = pd.read_csv(\"/content/drive/MyDrive/Colab Notebooks/LEST/input_files/distan_lat42.896lon-8.415p4R4Km.csv\")\n",
        "px.set_mapbox_access_token(\"pk.eyJ1IjoiZ3JhbmFudHVpbiIsImEiOiJja3B4dGU4OTkwMTFmMm9ycnNhMjJvaGJqIn0.VWzx_PkD9A5cSUVsn_ijCA\")\n",
        "px.scatter_mapbox(coor, hover_data=['distance'],lat='lat', lon='lon',color='distance', title=\"Nearest points\",\n",
        "                           color_continuous_scale=px.colors.cyclical.IceFire,)"
      ],
      "metadata": {
        "id": "L5ZGyKtdklV4",
        "colab": {
          "base_uri": "https://localhost:8080/",
          "height": 542
        },
        "outputId": "6c87b94f-94fa-4de4-f021-f5bbe71e07d5"
      },
      "execution_count": 1,
      "outputs": [
        {
          "output_type": "display_data",
          "data": {
            "text/html": [
              "<html>\n",
              "<head><meta charset=\"utf-8\" /></head>\n",
              "<body>\n",
              "    <div>            <script src=\"https://cdnjs.cloudflare.com/ajax/libs/mathjax/2.7.5/MathJax.js?config=TeX-AMS-MML_SVG\"></script><script type=\"text/javascript\">if (window.MathJax) {MathJax.Hub.Config({SVG: {font: \"STIX-Web\"}});}</script>                <script type=\"text/javascript\">window.PlotlyConfig = {MathJaxConfig: 'local'};</script>\n",
              "        <script src=\"https://cdn.plot.ly/plotly-2.8.3.min.js\"></script>                <div id=\"4bdbd8ad-ce21-4445-b60b-422d1f612a3d\" class=\"plotly-graph-div\" style=\"height:525px; width:100%;\"></div>            <script type=\"text/javascript\">                                    window.PLOTLYENV=window.PLOTLYENV || {};                                    if (document.getElementById(\"4bdbd8ad-ce21-4445-b60b-422d1f612a3d\")) {                    Plotly.newPlot(                        \"4bdbd8ad-ce21-4445-b60b-422d1f612a3d\",                        [{\"customdata\":[[2.15],[2.64],[3.18],[3.53]],\"hovertemplate\":\"lat=%{lat}<br>lon=%{lon}<br>distance=%{marker.color}<extra></extra>\",\"lat\":[42.88149887862141,42.91738852548408,42.87906360284184,42.914951826465234],\"legendgroup\":\"\",\"lon\":[-8.432536009471237,-8.429224938795953,-8.38355936586536,-8.380219858087338],\"marker\":{\"color\":[2.15,2.64,3.18,3.53],\"coloraxis\":\"coloraxis\"},\"mode\":\"markers\",\"name\":\"\",\"showlegend\":false,\"subplot\":\"mapbox\",\"type\":\"scattermapbox\"}],                        {\"template\":{\"data\":{\"bar\":[{\"error_x\":{\"color\":\"#2a3f5f\"},\"error_y\":{\"color\":\"#2a3f5f\"},\"marker\":{\"line\":{\"color\":\"#E5ECF6\",\"width\":0.5},\"pattern\":{\"fillmode\":\"overlay\",\"size\":10,\"solidity\":0.2}},\"type\":\"bar\"}],\"barpolar\":[{\"marker\":{\"line\":{\"color\":\"#E5ECF6\",\"width\":0.5},\"pattern\":{\"fillmode\":\"overlay\",\"size\":10,\"solidity\":0.2}},\"type\":\"barpolar\"}],\"carpet\":[{\"aaxis\":{\"endlinecolor\":\"#2a3f5f\",\"gridcolor\":\"white\",\"linecolor\":\"white\",\"minorgridcolor\":\"white\",\"startlinecolor\":\"#2a3f5f\"},\"baxis\":{\"endlinecolor\":\"#2a3f5f\",\"gridcolor\":\"white\",\"linecolor\":\"white\",\"minorgridcolor\":\"white\",\"startlinecolor\":\"#2a3f5f\"},\"type\":\"carpet\"}],\"choropleth\":[{\"colorbar\":{\"outlinewidth\":0,\"ticks\":\"\"},\"type\":\"choropleth\"}],\"contour\":[{\"colorbar\":{\"outlinewidth\":0,\"ticks\":\"\"},\"colorscale\":[[0.0,\"#0d0887\"],[0.1111111111111111,\"#46039f\"],[0.2222222222222222,\"#7201a8\"],[0.3333333333333333,\"#9c179e\"],[0.4444444444444444,\"#bd3786\"],[0.5555555555555556,\"#d8576b\"],[0.6666666666666666,\"#ed7953\"],[0.7777777777777778,\"#fb9f3a\"],[0.8888888888888888,\"#fdca26\"],[1.0,\"#f0f921\"]],\"type\":\"contour\"}],\"contourcarpet\":[{\"colorbar\":{\"outlinewidth\":0,\"ticks\":\"\"},\"type\":\"contourcarpet\"}],\"heatmap\":[{\"colorbar\":{\"outlinewidth\":0,\"ticks\":\"\"},\"colorscale\":[[0.0,\"#0d0887\"],[0.1111111111111111,\"#46039f\"],[0.2222222222222222,\"#7201a8\"],[0.3333333333333333,\"#9c179e\"],[0.4444444444444444,\"#bd3786\"],[0.5555555555555556,\"#d8576b\"],[0.6666666666666666,\"#ed7953\"],[0.7777777777777778,\"#fb9f3a\"],[0.8888888888888888,\"#fdca26\"],[1.0,\"#f0f921\"]],\"type\":\"heatmap\"}],\"heatmapgl\":[{\"colorbar\":{\"outlinewidth\":0,\"ticks\":\"\"},\"colorscale\":[[0.0,\"#0d0887\"],[0.1111111111111111,\"#46039f\"],[0.2222222222222222,\"#7201a8\"],[0.3333333333333333,\"#9c179e\"],[0.4444444444444444,\"#bd3786\"],[0.5555555555555556,\"#d8576b\"],[0.6666666666666666,\"#ed7953\"],[0.7777777777777778,\"#fb9f3a\"],[0.8888888888888888,\"#fdca26\"],[1.0,\"#f0f921\"]],\"type\":\"heatmapgl\"}],\"histogram\":[{\"marker\":{\"pattern\":{\"fillmode\":\"overlay\",\"size\":10,\"solidity\":0.2}},\"type\":\"histogram\"}],\"histogram2d\":[{\"colorbar\":{\"outlinewidth\":0,\"ticks\":\"\"},\"colorscale\":[[0.0,\"#0d0887\"],[0.1111111111111111,\"#46039f\"],[0.2222222222222222,\"#7201a8\"],[0.3333333333333333,\"#9c179e\"],[0.4444444444444444,\"#bd3786\"],[0.5555555555555556,\"#d8576b\"],[0.6666666666666666,\"#ed7953\"],[0.7777777777777778,\"#fb9f3a\"],[0.8888888888888888,\"#fdca26\"],[1.0,\"#f0f921\"]],\"type\":\"histogram2d\"}],\"histogram2dcontour\":[{\"colorbar\":{\"outlinewidth\":0,\"ticks\":\"\"},\"colorscale\":[[0.0,\"#0d0887\"],[0.1111111111111111,\"#46039f\"],[0.2222222222222222,\"#7201a8\"],[0.3333333333333333,\"#9c179e\"],[0.4444444444444444,\"#bd3786\"],[0.5555555555555556,\"#d8576b\"],[0.6666666666666666,\"#ed7953\"],[0.7777777777777778,\"#fb9f3a\"],[0.8888888888888888,\"#fdca26\"],[1.0,\"#f0f921\"]],\"type\":\"histogram2dcontour\"}],\"mesh3d\":[{\"colorbar\":{\"outlinewidth\":0,\"ticks\":\"\"},\"type\":\"mesh3d\"}],\"parcoords\":[{\"line\":{\"colorbar\":{\"outlinewidth\":0,\"ticks\":\"\"}},\"type\":\"parcoords\"}],\"pie\":[{\"automargin\":true,\"type\":\"pie\"}],\"scatter\":[{\"marker\":{\"colorbar\":{\"outlinewidth\":0,\"ticks\":\"\"}},\"type\":\"scatter\"}],\"scatter3d\":[{\"line\":{\"colorbar\":{\"outlinewidth\":0,\"ticks\":\"\"}},\"marker\":{\"colorbar\":{\"outlinewidth\":0,\"ticks\":\"\"}},\"type\":\"scatter3d\"}],\"scattercarpet\":[{\"marker\":{\"colorbar\":{\"outlinewidth\":0,\"ticks\":\"\"}},\"type\":\"scattercarpet\"}],\"scattergeo\":[{\"marker\":{\"colorbar\":{\"outlinewidth\":0,\"ticks\":\"\"}},\"type\":\"scattergeo\"}],\"scattergl\":[{\"marker\":{\"colorbar\":{\"outlinewidth\":0,\"ticks\":\"\"}},\"type\":\"scattergl\"}],\"scattermapbox\":[{\"marker\":{\"colorbar\":{\"outlinewidth\":0,\"ticks\":\"\"}},\"type\":\"scattermapbox\"}],\"scatterpolar\":[{\"marker\":{\"colorbar\":{\"outlinewidth\":0,\"ticks\":\"\"}},\"type\":\"scatterpolar\"}],\"scatterpolargl\":[{\"marker\":{\"colorbar\":{\"outlinewidth\":0,\"ticks\":\"\"}},\"type\":\"scatterpolargl\"}],\"scatterternary\":[{\"marker\":{\"colorbar\":{\"outlinewidth\":0,\"ticks\":\"\"}},\"type\":\"scatterternary\"}],\"surface\":[{\"colorbar\":{\"outlinewidth\":0,\"ticks\":\"\"},\"colorscale\":[[0.0,\"#0d0887\"],[0.1111111111111111,\"#46039f\"],[0.2222222222222222,\"#7201a8\"],[0.3333333333333333,\"#9c179e\"],[0.4444444444444444,\"#bd3786\"],[0.5555555555555556,\"#d8576b\"],[0.6666666666666666,\"#ed7953\"],[0.7777777777777778,\"#fb9f3a\"],[0.8888888888888888,\"#fdca26\"],[1.0,\"#f0f921\"]],\"type\":\"surface\"}],\"table\":[{\"cells\":{\"fill\":{\"color\":\"#EBF0F8\"},\"line\":{\"color\":\"white\"}},\"header\":{\"fill\":{\"color\":\"#C8D4E3\"},\"line\":{\"color\":\"white\"}},\"type\":\"table\"}]},\"layout\":{\"annotationdefaults\":{\"arrowcolor\":\"#2a3f5f\",\"arrowhead\":0,\"arrowwidth\":1},\"autotypenumbers\":\"strict\",\"coloraxis\":{\"colorbar\":{\"outlinewidth\":0,\"ticks\":\"\"}},\"colorscale\":{\"diverging\":[[0,\"#8e0152\"],[0.1,\"#c51b7d\"],[0.2,\"#de77ae\"],[0.3,\"#f1b6da\"],[0.4,\"#fde0ef\"],[0.5,\"#f7f7f7\"],[0.6,\"#e6f5d0\"],[0.7,\"#b8e186\"],[0.8,\"#7fbc41\"],[0.9,\"#4d9221\"],[1,\"#276419\"]],\"sequential\":[[0.0,\"#0d0887\"],[0.1111111111111111,\"#46039f\"],[0.2222222222222222,\"#7201a8\"],[0.3333333333333333,\"#9c179e\"],[0.4444444444444444,\"#bd3786\"],[0.5555555555555556,\"#d8576b\"],[0.6666666666666666,\"#ed7953\"],[0.7777777777777778,\"#fb9f3a\"],[0.8888888888888888,\"#fdca26\"],[1.0,\"#f0f921\"]],\"sequentialminus\":[[0.0,\"#0d0887\"],[0.1111111111111111,\"#46039f\"],[0.2222222222222222,\"#7201a8\"],[0.3333333333333333,\"#9c179e\"],[0.4444444444444444,\"#bd3786\"],[0.5555555555555556,\"#d8576b\"],[0.6666666666666666,\"#ed7953\"],[0.7777777777777778,\"#fb9f3a\"],[0.8888888888888888,\"#fdca26\"],[1.0,\"#f0f921\"]]},\"colorway\":[\"#636efa\",\"#EF553B\",\"#00cc96\",\"#ab63fa\",\"#FFA15A\",\"#19d3f3\",\"#FF6692\",\"#B6E880\",\"#FF97FF\",\"#FECB52\"],\"font\":{\"color\":\"#2a3f5f\"},\"geo\":{\"bgcolor\":\"white\",\"lakecolor\":\"white\",\"landcolor\":\"#E5ECF6\",\"showlakes\":true,\"showland\":true,\"subunitcolor\":\"white\"},\"hoverlabel\":{\"align\":\"left\"},\"hovermode\":\"closest\",\"mapbox\":{\"style\":\"light\"},\"paper_bgcolor\":\"white\",\"plot_bgcolor\":\"#E5ECF6\",\"polar\":{\"angularaxis\":{\"gridcolor\":\"white\",\"linecolor\":\"white\",\"ticks\":\"\"},\"bgcolor\":\"#E5ECF6\",\"radialaxis\":{\"gridcolor\":\"white\",\"linecolor\":\"white\",\"ticks\":\"\"}},\"scene\":{\"xaxis\":{\"backgroundcolor\":\"#E5ECF6\",\"gridcolor\":\"white\",\"gridwidth\":2,\"linecolor\":\"white\",\"showbackground\":true,\"ticks\":\"\",\"zerolinecolor\":\"white\"},\"yaxis\":{\"backgroundcolor\":\"#E5ECF6\",\"gridcolor\":\"white\",\"gridwidth\":2,\"linecolor\":\"white\",\"showbackground\":true,\"ticks\":\"\",\"zerolinecolor\":\"white\"},\"zaxis\":{\"backgroundcolor\":\"#E5ECF6\",\"gridcolor\":\"white\",\"gridwidth\":2,\"linecolor\":\"white\",\"showbackground\":true,\"ticks\":\"\",\"zerolinecolor\":\"white\"}},\"shapedefaults\":{\"line\":{\"color\":\"#2a3f5f\"}},\"ternary\":{\"aaxis\":{\"gridcolor\":\"white\",\"linecolor\":\"white\",\"ticks\":\"\"},\"baxis\":{\"gridcolor\":\"white\",\"linecolor\":\"white\",\"ticks\":\"\"},\"bgcolor\":\"#E5ECF6\",\"caxis\":{\"gridcolor\":\"white\",\"linecolor\":\"white\",\"ticks\":\"\"}},\"title\":{\"x\":0.05},\"xaxis\":{\"automargin\":true,\"gridcolor\":\"white\",\"linecolor\":\"white\",\"ticks\":\"\",\"title\":{\"standoff\":15},\"zerolinecolor\":\"white\",\"zerolinewidth\":2},\"yaxis\":{\"automargin\":true,\"gridcolor\":\"white\",\"linecolor\":\"white\",\"ticks\":\"\",\"title\":{\"standoff\":15},\"zerolinecolor\":\"white\",\"zerolinewidth\":2}}},\"mapbox\":{\"domain\":{\"x\":[0.0,1.0],\"y\":[0.0,1.0]},\"center\":{\"lat\":42.89822570835314,\"lon\":-8.406385043054971},\"accesstoken\":\"pk.eyJ1IjoiZ3JhbmFudHVpbiIsImEiOiJja3B4dGU4OTkwMTFmMm9ycnNhMjJvaGJqIn0.VWzx_PkD9A5cSUVsn_ijCA\",\"zoom\":8},\"coloraxis\":{\"colorbar\":{\"title\":{\"text\":\"distance\"}},\"colorscale\":[[0.0,\"#000000\"],[0.0625,\"#001f4d\"],[0.125,\"#003786\"],[0.1875,\"#0e58a8\"],[0.25,\"#217eb8\"],[0.3125,\"#30a4ca\"],[0.375,\"#54c8df\"],[0.4375,\"#9be4ef\"],[0.5,\"#e1e9d1\"],[0.5625,\"#f3d573\"],[0.625,\"#e7b000\"],[0.6875,\"#da8200\"],[0.75,\"#c65400\"],[0.8125,\"#ac2301\"],[0.875,\"#820000\"],[0.9375,\"#4c0000\"],[1.0,\"#000000\"]]},\"legend\":{\"tracegroupgap\":0},\"title\":{\"text\":\"Nearest points\"}},                        {\"responsive\": true}                    ).then(function(){\n",
              "                            \n",
              "var gd = document.getElementById('4bdbd8ad-ce21-4445-b60b-422d1f612a3d');\n",
              "var x = new MutationObserver(function (mutations, observer) {{\n",
              "        var display = window.getComputedStyle(gd).display;\n",
              "        if (!display || display === 'none') {{\n",
              "            console.log([gd, 'removed!']);\n",
              "            Plotly.purge(gd);\n",
              "            observer.disconnect();\n",
              "        }}\n",
              "}});\n",
              "\n",
              "// Listen for the removal of the full notebook cells\n",
              "var notebookContainer = gd.closest('#notebook-container');\n",
              "if (notebookContainer) {{\n",
              "    x.observe(notebookContainer, {childList: true});\n",
              "}}\n",
              "\n",
              "// Listen for the clearing of the current output cell\n",
              "var outputEl = gd.closest('.output');\n",
              "if (outputEl) {{\n",
              "    x.observe(outputEl, {childList: true});\n",
              "}}\n",
              "\n",
              "                        })                };                            </script>        </div>\n",
              "</body>\n",
              "</html>"
            ]
          },
          "metadata": {}
        }
      ]
    },
    {
      "cell_type": "code",
      "source": [
        "from scipy.stats import shapiro\n",
        "import pandas as pd\n",
        "\n",
        "\n",
        "station = pd.read_csv(\"/content/drive/MyDrive/Colab Notebooks/LEST/input_files/LESTY2018Y2022.csv\",\n",
        "                          usecols = [\"time\",\"mslp_o\"],\n",
        "                          parse_dates=[\"time\"]).set_index(\"time\")\n",
        "\n",
        "#Shapiro test normality\n",
        "print(\"Shapiro test normality\")\n",
        "\n",
        "\n",
        "sta, p = shapiro(station.mslp_o.sample(500))\n",
        "\n",
        "print(\"\\np value:\",p)\n",
        "#significance level alpha=0.01\n",
        "alpha = 0.01\n",
        "if p>alpha:\n",
        "  print(\"Accept null hypothesis: normal distribution pressure variable\\n\")\n",
        "else:\n",
        "  print(\"Reject null Hypothesis. Alternative hypothesis variable no normal distribution pressure variable\\n\")  \n",
        "\n",
        "                        \n",
        "station[\"mslp_o\"].describe()"
      ],
      "metadata": {
        "id": "OEX1x76AU35s",
        "colab": {
          "base_uri": "https://localhost:8080/"
        },
        "outputId": "2abb7b0f-dc1b-487b-cb85-7eec29acaf96"
      },
      "execution_count": 2,
      "outputs": [
        {
          "output_type": "stream",
          "name": "stdout",
          "text": [
            "Shapiro test normality\n",
            "\n",
            "p value: 6.72243816168816e-09\n",
            "Reject null Hypothesis. Alternative hypothesis variable no normal distribution pressure variable\n",
            "\n"
          ]
        },
        {
          "output_type": "execute_result",
          "data": {
            "text/plain": [
              "count    90842.000000\n",
              "mean      1018.134805\n",
              "std          7.305043\n",
              "min        975.000000\n",
              "25%       1015.000000\n",
              "50%       1019.000000\n",
              "75%       1023.000000\n",
              "max       1037.000000\n",
              "Name: mslp_o, dtype: float64"
            ]
          },
          "metadata": {},
          "execution_count": 2
        }
      ]
    },
    {
      "cell_type": "markdown",
      "source": [
        "**Forecast **"
      ],
      "metadata": {
        "id": "eXs3F5ZTnQ8M"
      }
    },
    {
      "cell_type": "code",
      "source": [
        "#Load\n",
        "mody2018 = pd.read_csv(\"/content/drive/MyDrive/Colab Notebooks/LEST/input_files/lat42.896lon-8.415p4R4KmD0Y2018.csv\",parse_dates=[\"time\"])\n",
        "mody2019 = pd.read_csv(\"/content/drive/MyDrive/Colab Notebooks/LEST/input_files/lat42.896lon-8.415p4R4KmD0Y2019.csv\",parse_dates=[\"time\"])\n",
        "mody2020 = pd.read_csv(\"/content/drive/MyDrive/Colab Notebooks/LEST/input_files/lat42.896lon-8.415p4R4KmD0Y2020.csv\",parse_dates=[\"time\"])\n",
        "mody2021 = pd.read_csv(\"/content/drive/MyDrive/Colab Notebooks/LEST/input_files/lat42.896lon-8.415p4R4KmD0Y2021.csv\",parse_dates=[\"time\"])\n",
        "mody2022 = pd.read_csv(\"/content/drive/MyDrive/Colab Notebooks/LEST/input_files/lat42.896lon-8.415p4R4KmD0Y2022.csv\",parse_dates=[\"time\"])\n",
        "model1k = pd.concat([mody2018,mody2019,mody2020,mody2021,mody2022]).drop(columns=[\"Unnamed: 0\"]).set_index(\"time\")\n",
        "\n",
        "model1k"
      ],
      "metadata": {
        "id": "o5ZTRduTZ36H",
        "colab": {
          "base_uri": "https://localhost:8080/",
          "height": 866
        },
        "outputId": "9b1935d9-e146-4013-b816-2b00c5559286"
      },
      "execution_count": 3,
      "outputs": [
        {
          "output_type": "execute_result",
          "data": {
            "text/plain": [
              "                           dir0  snow_prec0   snowlevel0       mod0  \\\n",
              "time                                                                  \n",
              "2018-01-01 01:00:00  203.429932         0.0   854.856445   4.810002   \n",
              "2018-01-01 02:00:00  215.205261         0.0   896.619629   5.700827   \n",
              "2018-01-01 03:00:00  224.525986         0.0   921.870178   7.366050   \n",
              "2018-01-01 04:00:00  227.065903         0.0   940.589844   8.982346   \n",
              "2018-01-01 05:00:00  231.667892         0.0   983.509766  10.026832   \n",
              "...                         ...         ...          ...        ...   \n",
              "2022-12-31 19:00:00  192.131683         0.0  1647.268433   8.436563   \n",
              "2022-12-31 20:00:00  210.602203         0.0  1613.758667   5.970586   \n",
              "2022-12-31 21:00:00  204.022858         0.0  1617.162964   7.379550   \n",
              "2022-12-31 22:00:00  193.998978         0.0  1612.199951   8.814530   \n",
              "2022-12-31 23:00:00  191.251251         0.0  1660.963379   8.793265   \n",
              "\n",
              "                     wind_gust0          mslp0       temp0       rh0  \\\n",
              "time                                                                   \n",
              "2018-01-01 01:00:00   11.869287  102894.039062  280.189117  0.941392   \n",
              "2018-01-01 02:00:00   12.852463  102861.617188  280.347931  0.988324   \n",
              "2018-01-01 03:00:00   16.131567  102839.406250  281.068298  0.952302   \n",
              "2018-01-01 04:00:00   17.282509  102842.039062  281.655243  0.923813   \n",
              "2018-01-01 05:00:00   18.146084  102827.226562  282.484192  0.924759   \n",
              "...                         ...            ...         ...       ...   \n",
              "2022-12-31 19:00:00   14.080066  101383.421875  283.931366  0.971286   \n",
              "2022-12-31 20:00:00    9.454391  101500.343750  284.023376  0.981433   \n",
              "2022-12-31 21:00:00   13.501737  101569.578125  284.019989  0.973716   \n",
              "2022-12-31 22:00:00   14.208216  101560.812500  284.046631  0.936637   \n",
              "2022-12-31 23:00:00   14.219928  101573.843750  283.863434  0.864967   \n",
              "\n",
              "                      visibility0     lhflx0  ...      cape3       cin3  cfh3  \\\n",
              "time                                          ...                               \n",
              "2018-01-01 01:00:00  24051.365234  -0.485709  ...   0.000000  -0.000477   0.2   \n",
              "2018-01-01 02:00:00  24039.359375  -4.395393  ...  26.730000 -14.053461   0.2   \n",
              "2018-01-01 03:00:00  24040.320312  -3.568437  ...  30.040001 -11.045238   0.2   \n",
              "2018-01-01 04:00:00  24042.085938  -1.595969  ...  32.810001  -8.397157   0.1   \n",
              "2018-01-01 05:00:00  24040.648438   0.638913  ...  58.730000  -4.643547   0.1   \n",
              "...                           ...        ...  ...        ...        ...   ...   \n",
              "2022-12-31 19:00:00   4439.524902   6.396758  ...  16.520000 -12.663813   0.1   \n",
              "2022-12-31 20:00:00   8239.185547   3.192404  ...  50.250000  -0.009562   0.2   \n",
              "2022-12-31 21:00:00   9444.787109   3.996242  ...  53.689999  -0.000937   0.1   \n",
              "2022-12-31 22:00:00  18240.322266   7.779180  ...  24.830000  -0.683930   0.1   \n",
              "2022-12-31 23:00:00  24035.822266  16.232986  ...   0.000000  -0.000500   0.0   \n",
              "\n",
              "                         cfl3      cfm3      cft3      HGT5003      HGT8503  \\\n",
              "time                                                                          \n",
              "2018-01-01 01:00:00  0.000000  0.000000  0.200000  5556.550781  1547.730957   \n",
              "2018-01-01 02:00:00  0.120898  0.000000  0.200000  5565.350098  1546.713013   \n",
              "2018-01-01 03:00:00  0.164062  0.000000  0.200000  5573.533203  1546.541992   \n",
              "2018-01-01 04:00:00  0.437500  0.000000  0.437500  5580.626953  1548.500977   \n",
              "2018-01-01 05:00:00  0.375000  0.000000  0.375000  5585.084961  1548.863037   \n",
              "...                       ...       ...       ...          ...          ...   \n",
              "2022-12-31 19:00:00  0.484375  0.328125  0.484375  5534.582031  1469.921997   \n",
              "2022-12-31 20:00:00  0.480000  0.203125  0.480000  5538.076172  1474.437012   \n",
              "2022-12-31 21:00:00  0.439746  0.203125  0.439746  5541.597168  1477.406982   \n",
              "2022-12-31 22:00:00  0.168918  0.140625  0.168918  5540.023926  1476.083008   \n",
              "2022-12-31 23:00:00  0.000000  0.164062  0.164062  5537.918945  1474.991943   \n",
              "\n",
              "                          T5003       T8503  \n",
              "time                                         \n",
              "2018-01-01 01:00:00  249.389938  273.540863  \n",
              "2018-01-01 02:00:00  249.959381  273.725189  \n",
              "2018-01-01 03:00:00  250.329880  273.646881  \n",
              "2018-01-01 04:00:00  250.527191  273.661194  \n",
              "2018-01-01 05:00:00  250.680435  273.858765  \n",
              "...                         ...         ...  \n",
              "2022-12-31 19:00:00  255.214996  277.491058  \n",
              "2022-12-31 20:00:00  255.085251  276.761200  \n",
              "2022-12-31 21:00:00  255.229691  276.760620  \n",
              "2022-12-31 22:00:00  254.972122  276.907074  \n",
              "2022-12-31 23:00:00  254.743500  277.479492  \n",
              "\n",
              "[41906 rows x 100 columns]"
            ],
            "text/html": [
              "\n",
              "  <div id=\"df-41e65c97-9c69-4b9f-839b-5603753590fa\">\n",
              "    <div class=\"colab-df-container\">\n",
              "      <div>\n",
              "<style scoped>\n",
              "    .dataframe tbody tr th:only-of-type {\n",
              "        vertical-align: middle;\n",
              "    }\n",
              "\n",
              "    .dataframe tbody tr th {\n",
              "        vertical-align: top;\n",
              "    }\n",
              "\n",
              "    .dataframe thead th {\n",
              "        text-align: right;\n",
              "    }\n",
              "</style>\n",
              "<table border=\"1\" class=\"dataframe\">\n",
              "  <thead>\n",
              "    <tr style=\"text-align: right;\">\n",
              "      <th></th>\n",
              "      <th>dir0</th>\n",
              "      <th>snow_prec0</th>\n",
              "      <th>snowlevel0</th>\n",
              "      <th>mod0</th>\n",
              "      <th>wind_gust0</th>\n",
              "      <th>mslp0</th>\n",
              "      <th>temp0</th>\n",
              "      <th>rh0</th>\n",
              "      <th>visibility0</th>\n",
              "      <th>lhflx0</th>\n",
              "      <th>...</th>\n",
              "      <th>cape3</th>\n",
              "      <th>cin3</th>\n",
              "      <th>cfh3</th>\n",
              "      <th>cfl3</th>\n",
              "      <th>cfm3</th>\n",
              "      <th>cft3</th>\n",
              "      <th>HGT5003</th>\n",
              "      <th>HGT8503</th>\n",
              "      <th>T5003</th>\n",
              "      <th>T8503</th>\n",
              "    </tr>\n",
              "    <tr>\n",
              "      <th>time</th>\n",
              "      <th></th>\n",
              "      <th></th>\n",
              "      <th></th>\n",
              "      <th></th>\n",
              "      <th></th>\n",
              "      <th></th>\n",
              "      <th></th>\n",
              "      <th></th>\n",
              "      <th></th>\n",
              "      <th></th>\n",
              "      <th></th>\n",
              "      <th></th>\n",
              "      <th></th>\n",
              "      <th></th>\n",
              "      <th></th>\n",
              "      <th></th>\n",
              "      <th></th>\n",
              "      <th></th>\n",
              "      <th></th>\n",
              "      <th></th>\n",
              "      <th></th>\n",
              "    </tr>\n",
              "  </thead>\n",
              "  <tbody>\n",
              "    <tr>\n",
              "      <th>2018-01-01 01:00:00</th>\n",
              "      <td>203.429932</td>\n",
              "      <td>0.0</td>\n",
              "      <td>854.856445</td>\n",
              "      <td>4.810002</td>\n",
              "      <td>11.869287</td>\n",
              "      <td>102894.039062</td>\n",
              "      <td>280.189117</td>\n",
              "      <td>0.941392</td>\n",
              "      <td>24051.365234</td>\n",
              "      <td>-0.485709</td>\n",
              "      <td>...</td>\n",
              "      <td>0.000000</td>\n",
              "      <td>-0.000477</td>\n",
              "      <td>0.2</td>\n",
              "      <td>0.000000</td>\n",
              "      <td>0.000000</td>\n",
              "      <td>0.200000</td>\n",
              "      <td>5556.550781</td>\n",
              "      <td>1547.730957</td>\n",
              "      <td>249.389938</td>\n",
              "      <td>273.540863</td>\n",
              "    </tr>\n",
              "    <tr>\n",
              "      <th>2018-01-01 02:00:00</th>\n",
              "      <td>215.205261</td>\n",
              "      <td>0.0</td>\n",
              "      <td>896.619629</td>\n",
              "      <td>5.700827</td>\n",
              "      <td>12.852463</td>\n",
              "      <td>102861.617188</td>\n",
              "      <td>280.347931</td>\n",
              "      <td>0.988324</td>\n",
              "      <td>24039.359375</td>\n",
              "      <td>-4.395393</td>\n",
              "      <td>...</td>\n",
              "      <td>26.730000</td>\n",
              "      <td>-14.053461</td>\n",
              "      <td>0.2</td>\n",
              "      <td>0.120898</td>\n",
              "      <td>0.000000</td>\n",
              "      <td>0.200000</td>\n",
              "      <td>5565.350098</td>\n",
              "      <td>1546.713013</td>\n",
              "      <td>249.959381</td>\n",
              "      <td>273.725189</td>\n",
              "    </tr>\n",
              "    <tr>\n",
              "      <th>2018-01-01 03:00:00</th>\n",
              "      <td>224.525986</td>\n",
              "      <td>0.0</td>\n",
              "      <td>921.870178</td>\n",
              "      <td>7.366050</td>\n",
              "      <td>16.131567</td>\n",
              "      <td>102839.406250</td>\n",
              "      <td>281.068298</td>\n",
              "      <td>0.952302</td>\n",
              "      <td>24040.320312</td>\n",
              "      <td>-3.568437</td>\n",
              "      <td>...</td>\n",
              "      <td>30.040001</td>\n",
              "      <td>-11.045238</td>\n",
              "      <td>0.2</td>\n",
              "      <td>0.164062</td>\n",
              "      <td>0.000000</td>\n",
              "      <td>0.200000</td>\n",
              "      <td>5573.533203</td>\n",
              "      <td>1546.541992</td>\n",
              "      <td>250.329880</td>\n",
              "      <td>273.646881</td>\n",
              "    </tr>\n",
              "    <tr>\n",
              "      <th>2018-01-01 04:00:00</th>\n",
              "      <td>227.065903</td>\n",
              "      <td>0.0</td>\n",
              "      <td>940.589844</td>\n",
              "      <td>8.982346</td>\n",
              "      <td>17.282509</td>\n",
              "      <td>102842.039062</td>\n",
              "      <td>281.655243</td>\n",
              "      <td>0.923813</td>\n",
              "      <td>24042.085938</td>\n",
              "      <td>-1.595969</td>\n",
              "      <td>...</td>\n",
              "      <td>32.810001</td>\n",
              "      <td>-8.397157</td>\n",
              "      <td>0.1</td>\n",
              "      <td>0.437500</td>\n",
              "      <td>0.000000</td>\n",
              "      <td>0.437500</td>\n",
              "      <td>5580.626953</td>\n",
              "      <td>1548.500977</td>\n",
              "      <td>250.527191</td>\n",
              "      <td>273.661194</td>\n",
              "    </tr>\n",
              "    <tr>\n",
              "      <th>2018-01-01 05:00:00</th>\n",
              "      <td>231.667892</td>\n",
              "      <td>0.0</td>\n",
              "      <td>983.509766</td>\n",
              "      <td>10.026832</td>\n",
              "      <td>18.146084</td>\n",
              "      <td>102827.226562</td>\n",
              "      <td>282.484192</td>\n",
              "      <td>0.924759</td>\n",
              "      <td>24040.648438</td>\n",
              "      <td>0.638913</td>\n",
              "      <td>...</td>\n",
              "      <td>58.730000</td>\n",
              "      <td>-4.643547</td>\n",
              "      <td>0.1</td>\n",
              "      <td>0.375000</td>\n",
              "      <td>0.000000</td>\n",
              "      <td>0.375000</td>\n",
              "      <td>5585.084961</td>\n",
              "      <td>1548.863037</td>\n",
              "      <td>250.680435</td>\n",
              "      <td>273.858765</td>\n",
              "    </tr>\n",
              "    <tr>\n",
              "      <th>...</th>\n",
              "      <td>...</td>\n",
              "      <td>...</td>\n",
              "      <td>...</td>\n",
              "      <td>...</td>\n",
              "      <td>...</td>\n",
              "      <td>...</td>\n",
              "      <td>...</td>\n",
              "      <td>...</td>\n",
              "      <td>...</td>\n",
              "      <td>...</td>\n",
              "      <td>...</td>\n",
              "      <td>...</td>\n",
              "      <td>...</td>\n",
              "      <td>...</td>\n",
              "      <td>...</td>\n",
              "      <td>...</td>\n",
              "      <td>...</td>\n",
              "      <td>...</td>\n",
              "      <td>...</td>\n",
              "      <td>...</td>\n",
              "      <td>...</td>\n",
              "    </tr>\n",
              "    <tr>\n",
              "      <th>2022-12-31 19:00:00</th>\n",
              "      <td>192.131683</td>\n",
              "      <td>0.0</td>\n",
              "      <td>1647.268433</td>\n",
              "      <td>8.436563</td>\n",
              "      <td>14.080066</td>\n",
              "      <td>101383.421875</td>\n",
              "      <td>283.931366</td>\n",
              "      <td>0.971286</td>\n",
              "      <td>4439.524902</td>\n",
              "      <td>6.396758</td>\n",
              "      <td>...</td>\n",
              "      <td>16.520000</td>\n",
              "      <td>-12.663813</td>\n",
              "      <td>0.1</td>\n",
              "      <td>0.484375</td>\n",
              "      <td>0.328125</td>\n",
              "      <td>0.484375</td>\n",
              "      <td>5534.582031</td>\n",
              "      <td>1469.921997</td>\n",
              "      <td>255.214996</td>\n",
              "      <td>277.491058</td>\n",
              "    </tr>\n",
              "    <tr>\n",
              "      <th>2022-12-31 20:00:00</th>\n",
              "      <td>210.602203</td>\n",
              "      <td>0.0</td>\n",
              "      <td>1613.758667</td>\n",
              "      <td>5.970586</td>\n",
              "      <td>9.454391</td>\n",
              "      <td>101500.343750</td>\n",
              "      <td>284.023376</td>\n",
              "      <td>0.981433</td>\n",
              "      <td>8239.185547</td>\n",
              "      <td>3.192404</td>\n",
              "      <td>...</td>\n",
              "      <td>50.250000</td>\n",
              "      <td>-0.009562</td>\n",
              "      <td>0.2</td>\n",
              "      <td>0.480000</td>\n",
              "      <td>0.203125</td>\n",
              "      <td>0.480000</td>\n",
              "      <td>5538.076172</td>\n",
              "      <td>1474.437012</td>\n",
              "      <td>255.085251</td>\n",
              "      <td>276.761200</td>\n",
              "    </tr>\n",
              "    <tr>\n",
              "      <th>2022-12-31 21:00:00</th>\n",
              "      <td>204.022858</td>\n",
              "      <td>0.0</td>\n",
              "      <td>1617.162964</td>\n",
              "      <td>7.379550</td>\n",
              "      <td>13.501737</td>\n",
              "      <td>101569.578125</td>\n",
              "      <td>284.019989</td>\n",
              "      <td>0.973716</td>\n",
              "      <td>9444.787109</td>\n",
              "      <td>3.996242</td>\n",
              "      <td>...</td>\n",
              "      <td>53.689999</td>\n",
              "      <td>-0.000937</td>\n",
              "      <td>0.1</td>\n",
              "      <td>0.439746</td>\n",
              "      <td>0.203125</td>\n",
              "      <td>0.439746</td>\n",
              "      <td>5541.597168</td>\n",
              "      <td>1477.406982</td>\n",
              "      <td>255.229691</td>\n",
              "      <td>276.760620</td>\n",
              "    </tr>\n",
              "    <tr>\n",
              "      <th>2022-12-31 22:00:00</th>\n",
              "      <td>193.998978</td>\n",
              "      <td>0.0</td>\n",
              "      <td>1612.199951</td>\n",
              "      <td>8.814530</td>\n",
              "      <td>14.208216</td>\n",
              "      <td>101560.812500</td>\n",
              "      <td>284.046631</td>\n",
              "      <td>0.936637</td>\n",
              "      <td>18240.322266</td>\n",
              "      <td>7.779180</td>\n",
              "      <td>...</td>\n",
              "      <td>24.830000</td>\n",
              "      <td>-0.683930</td>\n",
              "      <td>0.1</td>\n",
              "      <td>0.168918</td>\n",
              "      <td>0.140625</td>\n",
              "      <td>0.168918</td>\n",
              "      <td>5540.023926</td>\n",
              "      <td>1476.083008</td>\n",
              "      <td>254.972122</td>\n",
              "      <td>276.907074</td>\n",
              "    </tr>\n",
              "    <tr>\n",
              "      <th>2022-12-31 23:00:00</th>\n",
              "      <td>191.251251</td>\n",
              "      <td>0.0</td>\n",
              "      <td>1660.963379</td>\n",
              "      <td>8.793265</td>\n",
              "      <td>14.219928</td>\n",
              "      <td>101573.843750</td>\n",
              "      <td>283.863434</td>\n",
              "      <td>0.864967</td>\n",
              "      <td>24035.822266</td>\n",
              "      <td>16.232986</td>\n",
              "      <td>...</td>\n",
              "      <td>0.000000</td>\n",
              "      <td>-0.000500</td>\n",
              "      <td>0.0</td>\n",
              "      <td>0.000000</td>\n",
              "      <td>0.164062</td>\n",
              "      <td>0.164062</td>\n",
              "      <td>5537.918945</td>\n",
              "      <td>1474.991943</td>\n",
              "      <td>254.743500</td>\n",
              "      <td>277.479492</td>\n",
              "    </tr>\n",
              "  </tbody>\n",
              "</table>\n",
              "<p>41906 rows × 100 columns</p>\n",
              "</div>\n",
              "      <button class=\"colab-df-convert\" onclick=\"convertToInteractive('df-41e65c97-9c69-4b9f-839b-5603753590fa')\"\n",
              "              title=\"Convert this dataframe to an interactive table.\"\n",
              "              style=\"display:none;\">\n",
              "        \n",
              "  <svg xmlns=\"http://www.w3.org/2000/svg\" height=\"24px\"viewBox=\"0 0 24 24\"\n",
              "       width=\"24px\">\n",
              "    <path d=\"M0 0h24v24H0V0z\" fill=\"none\"/>\n",
              "    <path d=\"M18.56 5.44l.94 2.06.94-2.06 2.06-.94-2.06-.94-.94-2.06-.94 2.06-2.06.94zm-11 1L8.5 8.5l.94-2.06 2.06-.94-2.06-.94L8.5 2.5l-.94 2.06-2.06.94zm10 10l.94 2.06.94-2.06 2.06-.94-2.06-.94-.94-2.06-.94 2.06-2.06.94z\"/><path d=\"M17.41 7.96l-1.37-1.37c-.4-.4-.92-.59-1.43-.59-.52 0-1.04.2-1.43.59L10.3 9.45l-7.72 7.72c-.78.78-.78 2.05 0 2.83L4 21.41c.39.39.9.59 1.41.59.51 0 1.02-.2 1.41-.59l7.78-7.78 2.81-2.81c.8-.78.8-2.07 0-2.86zM5.41 20L4 18.59l7.72-7.72 1.47 1.35L5.41 20z\"/>\n",
              "  </svg>\n",
              "      </button>\n",
              "      \n",
              "  <style>\n",
              "    .colab-df-container {\n",
              "      display:flex;\n",
              "      flex-wrap:wrap;\n",
              "      gap: 12px;\n",
              "    }\n",
              "\n",
              "    .colab-df-convert {\n",
              "      background-color: #E8F0FE;\n",
              "      border: none;\n",
              "      border-radius: 50%;\n",
              "      cursor: pointer;\n",
              "      display: none;\n",
              "      fill: #1967D2;\n",
              "      height: 32px;\n",
              "      padding: 0 0 0 0;\n",
              "      width: 32px;\n",
              "    }\n",
              "\n",
              "    .colab-df-convert:hover {\n",
              "      background-color: #E2EBFA;\n",
              "      box-shadow: 0px 1px 2px rgba(60, 64, 67, 0.3), 0px 1px 3px 1px rgba(60, 64, 67, 0.15);\n",
              "      fill: #174EA6;\n",
              "    }\n",
              "\n",
              "    [theme=dark] .colab-df-convert {\n",
              "      background-color: #3B4455;\n",
              "      fill: #D2E3FC;\n",
              "    }\n",
              "\n",
              "    [theme=dark] .colab-df-convert:hover {\n",
              "      background-color: #434B5C;\n",
              "      box-shadow: 0px 1px 3px 1px rgba(0, 0, 0, 0.15);\n",
              "      filter: drop-shadow(0px 1px 2px rgba(0, 0, 0, 0.3));\n",
              "      fill: #FFFFFF;\n",
              "    }\n",
              "  </style>\n",
              "\n",
              "      <script>\n",
              "        const buttonEl =\n",
              "          document.querySelector('#df-41e65c97-9c69-4b9f-839b-5603753590fa button.colab-df-convert');\n",
              "        buttonEl.style.display =\n",
              "          google.colab.kernel.accessAllowed ? 'block' : 'none';\n",
              "\n",
              "        async function convertToInteractive(key) {\n",
              "          const element = document.querySelector('#df-41e65c97-9c69-4b9f-839b-5603753590fa');\n",
              "          const dataTable =\n",
              "            await google.colab.kernel.invokeFunction('convertToInteractive',\n",
              "                                                     [key], {});\n",
              "          if (!dataTable) return;\n",
              "\n",
              "          const docLinkHtml = 'Like what you see? Visit the ' +\n",
              "            '<a target=\"_blank\" href=https://colab.research.google.com/notebooks/data_table.ipynb>data table notebook</a>'\n",
              "            + ' to learn more about interactive tables.';\n",
              "          element.innerHTML = '';\n",
              "          dataTable['output_type'] = 'display_data';\n",
              "          await google.colab.output.renderOutput(dataTable, element);\n",
              "          const docLink = document.createElement('div');\n",
              "          docLink.innerHTML = docLinkHtml;\n",
              "          element.appendChild(docLink);\n",
              "        }\n",
              "      </script>\n",
              "    </div>\n",
              "  </div>\n",
              "  "
            ]
          },
          "metadata": {},
          "execution_count": 3
        }
      ]
    },
    {
      "cell_type": "code",
      "source": [
        "#concat station model\n",
        "df_all1k = pd.concat([station,model1k],axis=1).dropna()\n",
        "df_all1k"
      ],
      "metadata": {
        "colab": {
          "base_uri": "https://localhost:8080/",
          "height": 866
        },
        "id": "Pew3L8PHgA0R",
        "outputId": "49110370-f570-47c8-b8a8-67e8642016f2"
      },
      "execution_count": 4,
      "outputs": [
        {
          "output_type": "execute_result",
          "data": {
            "text/plain": [
              "                     mslp_o        dir0  snow_prec0   snowlevel0       mod0  \\\n",
              "time                                                                          \n",
              "2018-01-01 01:00:00  1028.0  203.429932         0.0   854.856445   4.810002   \n",
              "2018-01-01 02:00:00  1028.0  215.205261         0.0   896.619629   5.700827   \n",
              "2018-01-01 03:00:00  1028.0  224.525986         0.0   921.870178   7.366050   \n",
              "2018-01-01 04:00:00  1028.0  227.065903         0.0   940.589844   8.982346   \n",
              "2018-01-01 05:00:00  1027.0  231.667892         0.0   983.509766  10.026832   \n",
              "...                     ...         ...         ...          ...        ...   \n",
              "2022-12-30 19:00:00  1015.0  206.390732         0.0  2074.267090  13.522949   \n",
              "2022-12-30 20:00:00  1015.0  203.653366         0.0  2074.872559  13.675614   \n",
              "2022-12-30 21:00:00  1015.0  203.530945         0.0  2036.689697  12.965158   \n",
              "2022-12-30 22:00:00  1015.0  197.450180         0.0  2028.675049  12.965653   \n",
              "2022-12-30 23:00:00  1016.0  196.941666         0.0  2009.779907  13.588340   \n",
              "\n",
              "                     wind_gust0          mslp0       temp0       rh0  \\\n",
              "time                                                                   \n",
              "2018-01-01 01:00:00   11.869287  102894.039062  280.189117  0.941392   \n",
              "2018-01-01 02:00:00   12.852463  102861.617188  280.347931  0.988324   \n",
              "2018-01-01 03:00:00   16.131567  102839.406250  281.068298  0.952302   \n",
              "2018-01-01 04:00:00   17.282509  102842.039062  281.655243  0.923813   \n",
              "2018-01-01 05:00:00   18.146084  102827.226562  282.484192  0.924759   \n",
              "...                         ...            ...         ...       ...   \n",
              "2022-12-30 19:00:00   21.508442  101436.859375  286.881622  0.966220   \n",
              "2022-12-30 20:00:00   21.609047  101487.148438  286.931366  0.958984   \n",
              "2022-12-30 21:00:00   20.540071  101528.273438  286.895935  0.955559   \n",
              "2022-12-30 22:00:00   21.837671  101523.757812  286.958008  0.937995   \n",
              "2022-12-30 23:00:00   22.322779  101522.742188  286.808929  0.927622   \n",
              "\n",
              "                      visibility0  ...      cape3       cin3  cfh3      cfl3  \\\n",
              "time                               ...                                         \n",
              "2018-01-01 01:00:00  24051.365234  ...   0.000000  -0.000477   0.2  0.000000   \n",
              "2018-01-01 02:00:00  24039.359375  ...  26.730000 -14.053461   0.2  0.120898   \n",
              "2018-01-01 03:00:00  24040.320312  ...  30.040001 -11.045238   0.2  0.164062   \n",
              "2018-01-01 04:00:00  24042.085938  ...  32.810001  -8.397157   0.1  0.437500   \n",
              "2018-01-01 05:00:00  24040.648438  ...  58.730000  -4.643547   0.1  0.375000   \n",
              "...                           ...  ...        ...        ...   ...       ...   \n",
              "2022-12-30 19:00:00   6238.053223  ...   8.360000  -3.452000   0.2  0.828125   \n",
              "2022-12-30 20:00:00   9636.106445  ...   9.360000  -1.589551   0.1  0.781250   \n",
              "2022-12-30 21:00:00   8634.944336  ...  11.790000  -0.158887   0.1  0.890625   \n",
              "2022-12-30 22:00:00  13234.662109  ...  11.742000  -0.609902   0.2  0.781250   \n",
              "2022-12-30 23:00:00  12036.122070  ...   9.650000  -0.951535   0.2  0.703125   \n",
              "\n",
              "                         cfm3      cft3      HGT5003      HGT8503       T5003  \\\n",
              "time                                                                            \n",
              "2018-01-01 01:00:00  0.000000  0.200000  5556.550781  1547.730957  249.389938   \n",
              "2018-01-01 02:00:00  0.000000  0.200000  5565.350098  1546.713013  249.959381   \n",
              "2018-01-01 03:00:00  0.000000  0.200000  5573.533203  1546.541992  250.329880   \n",
              "2018-01-01 04:00:00  0.000000  0.437500  5580.626953  1548.500977  250.527191   \n",
              "2018-01-01 05:00:00  0.000000  0.375000  5585.084961  1548.863037  250.680435   \n",
              "...                       ...       ...          ...          ...         ...   \n",
              "2022-12-30 19:00:00  0.656250  0.828125  5584.145020  1486.342041  257.560760   \n",
              "2022-12-30 20:00:00  0.671875  0.781250  5587.791992  1489.608032  257.591125   \n",
              "2022-12-30 21:00:00  0.796875  0.890625  5590.491211  1491.394043  257.582001   \n",
              "2022-12-30 22:00:00  0.531250  0.781250  5590.894043  1489.050049  257.865448   \n",
              "2022-12-30 23:00:00  0.062500  0.703125  5592.726074  1486.350952  258.293427   \n",
              "\n",
              "                          T8503  \n",
              "time                             \n",
              "2018-01-01 01:00:00  273.540863  \n",
              "2018-01-01 02:00:00  273.725189  \n",
              "2018-01-01 03:00:00  273.646881  \n",
              "2018-01-01 04:00:00  273.661194  \n",
              "2018-01-01 05:00:00  273.858765  \n",
              "...                         ...  \n",
              "2022-12-30 19:00:00  280.863312  \n",
              "2022-12-30 20:00:00  280.822876  \n",
              "2022-12-30 21:00:00  280.443878  \n",
              "2022-12-30 22:00:00  280.340515  \n",
              "2022-12-30 23:00:00  280.015808  \n",
              "\n",
              "[41667 rows x 101 columns]"
            ],
            "text/html": [
              "\n",
              "  <div id=\"df-fd27a6ef-949c-436b-91c4-07931dedde70\">\n",
              "    <div class=\"colab-df-container\">\n",
              "      <div>\n",
              "<style scoped>\n",
              "    .dataframe tbody tr th:only-of-type {\n",
              "        vertical-align: middle;\n",
              "    }\n",
              "\n",
              "    .dataframe tbody tr th {\n",
              "        vertical-align: top;\n",
              "    }\n",
              "\n",
              "    .dataframe thead th {\n",
              "        text-align: right;\n",
              "    }\n",
              "</style>\n",
              "<table border=\"1\" class=\"dataframe\">\n",
              "  <thead>\n",
              "    <tr style=\"text-align: right;\">\n",
              "      <th></th>\n",
              "      <th>mslp_o</th>\n",
              "      <th>dir0</th>\n",
              "      <th>snow_prec0</th>\n",
              "      <th>snowlevel0</th>\n",
              "      <th>mod0</th>\n",
              "      <th>wind_gust0</th>\n",
              "      <th>mslp0</th>\n",
              "      <th>temp0</th>\n",
              "      <th>rh0</th>\n",
              "      <th>visibility0</th>\n",
              "      <th>...</th>\n",
              "      <th>cape3</th>\n",
              "      <th>cin3</th>\n",
              "      <th>cfh3</th>\n",
              "      <th>cfl3</th>\n",
              "      <th>cfm3</th>\n",
              "      <th>cft3</th>\n",
              "      <th>HGT5003</th>\n",
              "      <th>HGT8503</th>\n",
              "      <th>T5003</th>\n",
              "      <th>T8503</th>\n",
              "    </tr>\n",
              "    <tr>\n",
              "      <th>time</th>\n",
              "      <th></th>\n",
              "      <th></th>\n",
              "      <th></th>\n",
              "      <th></th>\n",
              "      <th></th>\n",
              "      <th></th>\n",
              "      <th></th>\n",
              "      <th></th>\n",
              "      <th></th>\n",
              "      <th></th>\n",
              "      <th></th>\n",
              "      <th></th>\n",
              "      <th></th>\n",
              "      <th></th>\n",
              "      <th></th>\n",
              "      <th></th>\n",
              "      <th></th>\n",
              "      <th></th>\n",
              "      <th></th>\n",
              "      <th></th>\n",
              "      <th></th>\n",
              "    </tr>\n",
              "  </thead>\n",
              "  <tbody>\n",
              "    <tr>\n",
              "      <th>2018-01-01 01:00:00</th>\n",
              "      <td>1028.0</td>\n",
              "      <td>203.429932</td>\n",
              "      <td>0.0</td>\n",
              "      <td>854.856445</td>\n",
              "      <td>4.810002</td>\n",
              "      <td>11.869287</td>\n",
              "      <td>102894.039062</td>\n",
              "      <td>280.189117</td>\n",
              "      <td>0.941392</td>\n",
              "      <td>24051.365234</td>\n",
              "      <td>...</td>\n",
              "      <td>0.000000</td>\n",
              "      <td>-0.000477</td>\n",
              "      <td>0.2</td>\n",
              "      <td>0.000000</td>\n",
              "      <td>0.000000</td>\n",
              "      <td>0.200000</td>\n",
              "      <td>5556.550781</td>\n",
              "      <td>1547.730957</td>\n",
              "      <td>249.389938</td>\n",
              "      <td>273.540863</td>\n",
              "    </tr>\n",
              "    <tr>\n",
              "      <th>2018-01-01 02:00:00</th>\n",
              "      <td>1028.0</td>\n",
              "      <td>215.205261</td>\n",
              "      <td>0.0</td>\n",
              "      <td>896.619629</td>\n",
              "      <td>5.700827</td>\n",
              "      <td>12.852463</td>\n",
              "      <td>102861.617188</td>\n",
              "      <td>280.347931</td>\n",
              "      <td>0.988324</td>\n",
              "      <td>24039.359375</td>\n",
              "      <td>...</td>\n",
              "      <td>26.730000</td>\n",
              "      <td>-14.053461</td>\n",
              "      <td>0.2</td>\n",
              "      <td>0.120898</td>\n",
              "      <td>0.000000</td>\n",
              "      <td>0.200000</td>\n",
              "      <td>5565.350098</td>\n",
              "      <td>1546.713013</td>\n",
              "      <td>249.959381</td>\n",
              "      <td>273.725189</td>\n",
              "    </tr>\n",
              "    <tr>\n",
              "      <th>2018-01-01 03:00:00</th>\n",
              "      <td>1028.0</td>\n",
              "      <td>224.525986</td>\n",
              "      <td>0.0</td>\n",
              "      <td>921.870178</td>\n",
              "      <td>7.366050</td>\n",
              "      <td>16.131567</td>\n",
              "      <td>102839.406250</td>\n",
              "      <td>281.068298</td>\n",
              "      <td>0.952302</td>\n",
              "      <td>24040.320312</td>\n",
              "      <td>...</td>\n",
              "      <td>30.040001</td>\n",
              "      <td>-11.045238</td>\n",
              "      <td>0.2</td>\n",
              "      <td>0.164062</td>\n",
              "      <td>0.000000</td>\n",
              "      <td>0.200000</td>\n",
              "      <td>5573.533203</td>\n",
              "      <td>1546.541992</td>\n",
              "      <td>250.329880</td>\n",
              "      <td>273.646881</td>\n",
              "    </tr>\n",
              "    <tr>\n",
              "      <th>2018-01-01 04:00:00</th>\n",
              "      <td>1028.0</td>\n",
              "      <td>227.065903</td>\n",
              "      <td>0.0</td>\n",
              "      <td>940.589844</td>\n",
              "      <td>8.982346</td>\n",
              "      <td>17.282509</td>\n",
              "      <td>102842.039062</td>\n",
              "      <td>281.655243</td>\n",
              "      <td>0.923813</td>\n",
              "      <td>24042.085938</td>\n",
              "      <td>...</td>\n",
              "      <td>32.810001</td>\n",
              "      <td>-8.397157</td>\n",
              "      <td>0.1</td>\n",
              "      <td>0.437500</td>\n",
              "      <td>0.000000</td>\n",
              "      <td>0.437500</td>\n",
              "      <td>5580.626953</td>\n",
              "      <td>1548.500977</td>\n",
              "      <td>250.527191</td>\n",
              "      <td>273.661194</td>\n",
              "    </tr>\n",
              "    <tr>\n",
              "      <th>2018-01-01 05:00:00</th>\n",
              "      <td>1027.0</td>\n",
              "      <td>231.667892</td>\n",
              "      <td>0.0</td>\n",
              "      <td>983.509766</td>\n",
              "      <td>10.026832</td>\n",
              "      <td>18.146084</td>\n",
              "      <td>102827.226562</td>\n",
              "      <td>282.484192</td>\n",
              "      <td>0.924759</td>\n",
              "      <td>24040.648438</td>\n",
              "      <td>...</td>\n",
              "      <td>58.730000</td>\n",
              "      <td>-4.643547</td>\n",
              "      <td>0.1</td>\n",
              "      <td>0.375000</td>\n",
              "      <td>0.000000</td>\n",
              "      <td>0.375000</td>\n",
              "      <td>5585.084961</td>\n",
              "      <td>1548.863037</td>\n",
              "      <td>250.680435</td>\n",
              "      <td>273.858765</td>\n",
              "    </tr>\n",
              "    <tr>\n",
              "      <th>...</th>\n",
              "      <td>...</td>\n",
              "      <td>...</td>\n",
              "      <td>...</td>\n",
              "      <td>...</td>\n",
              "      <td>...</td>\n",
              "      <td>...</td>\n",
              "      <td>...</td>\n",
              "      <td>...</td>\n",
              "      <td>...</td>\n",
              "      <td>...</td>\n",
              "      <td>...</td>\n",
              "      <td>...</td>\n",
              "      <td>...</td>\n",
              "      <td>...</td>\n",
              "      <td>...</td>\n",
              "      <td>...</td>\n",
              "      <td>...</td>\n",
              "      <td>...</td>\n",
              "      <td>...</td>\n",
              "      <td>...</td>\n",
              "      <td>...</td>\n",
              "    </tr>\n",
              "    <tr>\n",
              "      <th>2022-12-30 19:00:00</th>\n",
              "      <td>1015.0</td>\n",
              "      <td>206.390732</td>\n",
              "      <td>0.0</td>\n",
              "      <td>2074.267090</td>\n",
              "      <td>13.522949</td>\n",
              "      <td>21.508442</td>\n",
              "      <td>101436.859375</td>\n",
              "      <td>286.881622</td>\n",
              "      <td>0.966220</td>\n",
              "      <td>6238.053223</td>\n",
              "      <td>...</td>\n",
              "      <td>8.360000</td>\n",
              "      <td>-3.452000</td>\n",
              "      <td>0.2</td>\n",
              "      <td>0.828125</td>\n",
              "      <td>0.656250</td>\n",
              "      <td>0.828125</td>\n",
              "      <td>5584.145020</td>\n",
              "      <td>1486.342041</td>\n",
              "      <td>257.560760</td>\n",
              "      <td>280.863312</td>\n",
              "    </tr>\n",
              "    <tr>\n",
              "      <th>2022-12-30 20:00:00</th>\n",
              "      <td>1015.0</td>\n",
              "      <td>203.653366</td>\n",
              "      <td>0.0</td>\n",
              "      <td>2074.872559</td>\n",
              "      <td>13.675614</td>\n",
              "      <td>21.609047</td>\n",
              "      <td>101487.148438</td>\n",
              "      <td>286.931366</td>\n",
              "      <td>0.958984</td>\n",
              "      <td>9636.106445</td>\n",
              "      <td>...</td>\n",
              "      <td>9.360000</td>\n",
              "      <td>-1.589551</td>\n",
              "      <td>0.1</td>\n",
              "      <td>0.781250</td>\n",
              "      <td>0.671875</td>\n",
              "      <td>0.781250</td>\n",
              "      <td>5587.791992</td>\n",
              "      <td>1489.608032</td>\n",
              "      <td>257.591125</td>\n",
              "      <td>280.822876</td>\n",
              "    </tr>\n",
              "    <tr>\n",
              "      <th>2022-12-30 21:00:00</th>\n",
              "      <td>1015.0</td>\n",
              "      <td>203.530945</td>\n",
              "      <td>0.0</td>\n",
              "      <td>2036.689697</td>\n",
              "      <td>12.965158</td>\n",
              "      <td>20.540071</td>\n",
              "      <td>101528.273438</td>\n",
              "      <td>286.895935</td>\n",
              "      <td>0.955559</td>\n",
              "      <td>8634.944336</td>\n",
              "      <td>...</td>\n",
              "      <td>11.790000</td>\n",
              "      <td>-0.158887</td>\n",
              "      <td>0.1</td>\n",
              "      <td>0.890625</td>\n",
              "      <td>0.796875</td>\n",
              "      <td>0.890625</td>\n",
              "      <td>5590.491211</td>\n",
              "      <td>1491.394043</td>\n",
              "      <td>257.582001</td>\n",
              "      <td>280.443878</td>\n",
              "    </tr>\n",
              "    <tr>\n",
              "      <th>2022-12-30 22:00:00</th>\n",
              "      <td>1015.0</td>\n",
              "      <td>197.450180</td>\n",
              "      <td>0.0</td>\n",
              "      <td>2028.675049</td>\n",
              "      <td>12.965653</td>\n",
              "      <td>21.837671</td>\n",
              "      <td>101523.757812</td>\n",
              "      <td>286.958008</td>\n",
              "      <td>0.937995</td>\n",
              "      <td>13234.662109</td>\n",
              "      <td>...</td>\n",
              "      <td>11.742000</td>\n",
              "      <td>-0.609902</td>\n",
              "      <td>0.2</td>\n",
              "      <td>0.781250</td>\n",
              "      <td>0.531250</td>\n",
              "      <td>0.781250</td>\n",
              "      <td>5590.894043</td>\n",
              "      <td>1489.050049</td>\n",
              "      <td>257.865448</td>\n",
              "      <td>280.340515</td>\n",
              "    </tr>\n",
              "    <tr>\n",
              "      <th>2022-12-30 23:00:00</th>\n",
              "      <td>1016.0</td>\n",
              "      <td>196.941666</td>\n",
              "      <td>0.0</td>\n",
              "      <td>2009.779907</td>\n",
              "      <td>13.588340</td>\n",
              "      <td>22.322779</td>\n",
              "      <td>101522.742188</td>\n",
              "      <td>286.808929</td>\n",
              "      <td>0.927622</td>\n",
              "      <td>12036.122070</td>\n",
              "      <td>...</td>\n",
              "      <td>9.650000</td>\n",
              "      <td>-0.951535</td>\n",
              "      <td>0.2</td>\n",
              "      <td>0.703125</td>\n",
              "      <td>0.062500</td>\n",
              "      <td>0.703125</td>\n",
              "      <td>5592.726074</td>\n",
              "      <td>1486.350952</td>\n",
              "      <td>258.293427</td>\n",
              "      <td>280.015808</td>\n",
              "    </tr>\n",
              "  </tbody>\n",
              "</table>\n",
              "<p>41667 rows × 101 columns</p>\n",
              "</div>\n",
              "      <button class=\"colab-df-convert\" onclick=\"convertToInteractive('df-fd27a6ef-949c-436b-91c4-07931dedde70')\"\n",
              "              title=\"Convert this dataframe to an interactive table.\"\n",
              "              style=\"display:none;\">\n",
              "        \n",
              "  <svg xmlns=\"http://www.w3.org/2000/svg\" height=\"24px\"viewBox=\"0 0 24 24\"\n",
              "       width=\"24px\">\n",
              "    <path d=\"M0 0h24v24H0V0z\" fill=\"none\"/>\n",
              "    <path d=\"M18.56 5.44l.94 2.06.94-2.06 2.06-.94-2.06-.94-.94-2.06-.94 2.06-2.06.94zm-11 1L8.5 8.5l.94-2.06 2.06-.94-2.06-.94L8.5 2.5l-.94 2.06-2.06.94zm10 10l.94 2.06.94-2.06 2.06-.94-2.06-.94-.94-2.06-.94 2.06-2.06.94z\"/><path d=\"M17.41 7.96l-1.37-1.37c-.4-.4-.92-.59-1.43-.59-.52 0-1.04.2-1.43.59L10.3 9.45l-7.72 7.72c-.78.78-.78 2.05 0 2.83L4 21.41c.39.39.9.59 1.41.59.51 0 1.02-.2 1.41-.59l7.78-7.78 2.81-2.81c.8-.78.8-2.07 0-2.86zM5.41 20L4 18.59l7.72-7.72 1.47 1.35L5.41 20z\"/>\n",
              "  </svg>\n",
              "      </button>\n",
              "      \n",
              "  <style>\n",
              "    .colab-df-container {\n",
              "      display:flex;\n",
              "      flex-wrap:wrap;\n",
              "      gap: 12px;\n",
              "    }\n",
              "\n",
              "    .colab-df-convert {\n",
              "      background-color: #E8F0FE;\n",
              "      border: none;\n",
              "      border-radius: 50%;\n",
              "      cursor: pointer;\n",
              "      display: none;\n",
              "      fill: #1967D2;\n",
              "      height: 32px;\n",
              "      padding: 0 0 0 0;\n",
              "      width: 32px;\n",
              "    }\n",
              "\n",
              "    .colab-df-convert:hover {\n",
              "      background-color: #E2EBFA;\n",
              "      box-shadow: 0px 1px 2px rgba(60, 64, 67, 0.3), 0px 1px 3px 1px rgba(60, 64, 67, 0.15);\n",
              "      fill: #174EA6;\n",
              "    }\n",
              "\n",
              "    [theme=dark] .colab-df-convert {\n",
              "      background-color: #3B4455;\n",
              "      fill: #D2E3FC;\n",
              "    }\n",
              "\n",
              "    [theme=dark] .colab-df-convert:hover {\n",
              "      background-color: #434B5C;\n",
              "      box-shadow: 0px 1px 3px 1px rgba(0, 0, 0, 0.15);\n",
              "      filter: drop-shadow(0px 1px 2px rgba(0, 0, 0, 0.3));\n",
              "      fill: #FFFFFF;\n",
              "    }\n",
              "  </style>\n",
              "\n",
              "      <script>\n",
              "        const buttonEl =\n",
              "          document.querySelector('#df-fd27a6ef-949c-436b-91c4-07931dedde70 button.colab-df-convert');\n",
              "        buttonEl.style.display =\n",
              "          google.colab.kernel.accessAllowed ? 'block' : 'none';\n",
              "\n",
              "        async function convertToInteractive(key) {\n",
              "          const element = document.querySelector('#df-fd27a6ef-949c-436b-91c4-07931dedde70');\n",
              "          const dataTable =\n",
              "            await google.colab.kernel.invokeFunction('convertToInteractive',\n",
              "                                                     [key], {});\n",
              "          if (!dataTable) return;\n",
              "\n",
              "          const docLinkHtml = 'Like what you see? Visit the ' +\n",
              "            '<a target=\"_blank\" href=https://colab.research.google.com/notebooks/data_table.ipynb>data table notebook</a>'\n",
              "            + ' to learn more about interactive tables.';\n",
              "          element.innerHTML = '';\n",
              "          dataTable['output_type'] = 'display_data';\n",
              "          await google.colab.output.renderOutput(dataTable, element);\n",
              "          const docLink = document.createElement('div');\n",
              "          docLink.innerHTML = docLinkHtml;\n",
              "          element.appendChild(docLink);\n",
              "        }\n",
              "      </script>\n",
              "    </div>\n",
              "  </div>\n",
              "  "
            ]
          },
          "metadata": {},
          "execution_count": 4
        }
      ]
    },
    {
      "cell_type": "markdown",
      "source": [
        "**Observed pressure (mslp_o) Vs forecasted pressure from meteorological model point 0 (mslp00)**"
      ],
      "metadata": {
        "id": "vXx7Pvwmx1g3"
      }
    },
    {
      "cell_type": "code",
      "source": [
        "pd.concat([df_all1k[\"mslp_o\"],df_all1k[\"mslp0\"]/100],axis = 1)[0::24].plot(figsize = (18, 8),grid = True,);"
      ],
      "metadata": {
        "colab": {
          "base_uri": "https://localhost:8080/",
          "height": 385
        },
        "id": "xcTPWg1XwllZ",
        "outputId": "6a7f0809-d9df-4adf-c302-16e50e6f0899"
      },
      "execution_count": 5,
      "outputs": [
        {
          "output_type": "display_data",
          "data": {
            "text/plain": [
              "<Figure size 1296x576 with 1 Axes>"
            ],
            "image/png": "[encoded data removed]"
          },
          "metadata": {
            "needs_background": "light"
          }
        }
      ]
    },
    {
      "cell_type": "markdown",
      "source": [
        "**Meteorological model scores (Point 0)**"
      ],
      "metadata": {
        "id": "1Lwji_3AffES"
      }
    },
    {
      "cell_type": "code",
      "source": [
        "from sklearn.metrics import mean_absolute_error\n",
        "from sklearn.metrics import mean_squared_error\n",
        "from sklearn.metrics import r2_score\n",
        "from sklearn.metrics import median_absolute_error\n",
        "import seaborn as sns\n",
        "\n",
        "#Mean absolute error\n",
        "Mean_AE = round(mean_absolute_error(df_all1k[\"mslp_o\"], df_all1k[\"mslp0\"]/100),2)\n",
        "\n",
        "#MSE \n",
        "MSE = round(mean_squared_error(df_all1k[\"mslp_o\"], df_all1k[\"mslp0\"]/100),2)\n",
        "\n",
        "#R2\n",
        "R2 = round(r2_score(df_all1k[\"mslp_o\"], df_all1k[\"mslp0\"]/100),2)\n",
        "\n",
        "#Median absolute error\n",
        "Median_AE = round(median_absolute_error(df_all1k[\"mslp_o\"], df_all1k[\"mslp0\"]/100),2)\n",
        "\n",
        "\n",
        "#random seed 1\n",
        "np.random.seed(1)\n",
        "\n",
        "res = pd.concat([df_all1k[\"mslp_o\"],df_all1k[\"mslp0\"]/100],axis = 1)\n",
        "sns.set_theme(style=\"darkgrid\")\n",
        "g = sns.jointplot(x=\"mslp0\", y=\"mslp_o\", data=res.sample(100),\n",
        "                  kind=\"reg\", truncate=False,\n",
        "                  color=\"m\", height=7)\n",
        "\n",
        "print(pd.DataFrame({\"Mean_AE\":Mean_AE,\"MSE\":MSE,\"R2\":R2,\"Median_AE\":Median_AE},index=[\"results point 0\"]))\n"
      ],
      "metadata": {
        "colab": {
          "base_uri": "https://localhost:8080/",
          "height": 544
        },
        "id": "giwyzjm-zVbh",
        "outputId": "5a7a842c-add8-47c6-9503-45825fbd3e32"
      },
      "execution_count": 6,
      "outputs": [
        {
          "output_type": "stream",
          "name": "stdout",
          "text": [
            "                 Mean_AE   MSE    R2  Median_AE\n",
            "results point 0     0.76  0.94  0.98       0.63\n"
          ]
        },
        {
          "output_type": "display_data",
          "data": {
            "text/plain": [
              "<Figure size 504x504 with 3 Axes>"
            ],
            "image/png": "[encoded data removed]"
          },
          "metadata": {}
        }
      ]
    },
    {
      "cell_type": "markdown",
      "source": [
        "**Meteorological model scores (Point 1)**"
      ],
      "metadata": {
        "id": "lLKgtDBM0HTA"
      }
    },
    {
      "cell_type": "code",
      "source": [
        "\n",
        "#Mean absolute error\n",
        "Mean_AE = round(mean_absolute_error(df_all1k[\"mslp_o\"], df_all1k[\"mslp1\"]/100),2)\n",
        "\n",
        "#MSE \n",
        "MSE = round(mean_squared_error(df_all1k[\"mslp_o\"], df_all1k[\"mslp1\"]/100),2)\n",
        "\n",
        "#R2\n",
        "R2 = round(r2_score(df_all1k[\"mslp_o\"], df_all1k[\"mslp1\"]/100),2)\n",
        "\n",
        "#Median absolute error\n",
        "Median_AE = round(median_absolute_error(df_all1k[\"mslp_o\"], df_all1k[\"mslp1\"]/100),2)\n",
        "\n",
        "#random seed 1\n",
        "np.random.seed(1)\n",
        "\n",
        "res = pd.concat([df_all1k[\"mslp_o\"],df_all1k[\"mslp1\"]/100],axis = 1)\n",
        "sns.set_theme(style=\"darkgrid\")\n",
        "g = sns.jointplot(x=\"mslp1\", y=\"mslp_o\", data=res.sample(100),\n",
        "                  kind=\"reg\", truncate=False,\n",
        "                  color=\"m\", height=7)\n",
        "\n",
        "\n",
        "print(pd.DataFrame({\"Mean_AE\":Mean_AE,\"MSE\":MSE,\"R2\":R2,\"Median_AE\":Median_AE},index=[\"results point 1\"]))"
      ],
      "metadata": {
        "colab": {
          "base_uri": "https://localhost:8080/",
          "height": 544
        },
        "id": "Ig8J2qWT0Mys",
        "outputId": "62907150-88fa-424d-b662-db9a29c48acd"
      },
      "execution_count": 7,
      "outputs": [
        {
          "output_type": "stream",
          "name": "stdout",
          "text": [
            "                 Mean_AE   MSE    R2  Median_AE\n",
            "results point 1     0.76  0.96  0.98       0.62\n"
          ]
        },
        {
          "output_type": "display_data",
          "data": {
            "text/plain": [
              "<Figure size 504x504 with 3 Axes>"
            ],
            "image/png": "[encoded data removed]"
          },
          "metadata": {}
        }
      ]
    },
    {
      "cell_type": "markdown",
      "source": [
        "**Meteorological model independent variables X**"
      ],
      "metadata": {
        "id": "uu6AJ_C51NXM"
      }
    },
    {
      "cell_type": "code",
      "source": [
        "df_all1k.iloc[:,1:].columns\n"
      ],
      "metadata": {
        "id": "RN6Ibn-t8l1o",
        "colab": {
          "base_uri": "https://localhost:8080/"
        },
        "outputId": "16ee1f2f-ff64-42b0-e7fe-a25bbf5ecaee"
      },
      "execution_count": 8,
      "outputs": [
        {
          "output_type": "execute_result",
          "data": {
            "text/plain": [
              "Index(['dir0', 'snow_prec0', 'snowlevel0', 'mod0', 'wind_gust0', 'mslp0',\n",
              "       'temp0', 'rh0', 'visibility0', 'lhflx0', 'lwflx0', 'conv_prec0',\n",
              "       'prec0', 'swflx0', 'shflx0', 'cape0', 'cin0', 'cfh0', 'cfl0', 'cfm0',\n",
              "       'cft0', 'HGT5000', 'HGT8500', 'T5000', 'T8500', 'dir1', 'snow_prec1',\n",
              "       'snowlevel1', 'mod1', 'wind_gust1', 'mslp1', 'temp1', 'rh1',\n",
              "       'visibility1', 'lhflx1', 'lwflx1', 'conv_prec1', 'prec1', 'swflx1',\n",
              "       'shflx1', 'cape1', 'cin1', 'cfh1', 'cfl1', 'cfm1', 'cft1', 'HGT5001',\n",
              "       'HGT8501', 'T5001', 'T8501', 'dir2', 'snow_prec2', 'snowlevel2', 'mod2',\n",
              "       'wind_gust2', 'mslp2', 'temp2', 'rh2', 'visibility2', 'lhflx2',\n",
              "       'lwflx2', 'conv_prec2', 'prec2', 'swflx2', 'shflx2', 'cape2', 'cin2',\n",
              "       'cfh2', 'cfl2', 'cfm2', 'cft2', 'HGT5002', 'HGT8502', 'T5002', 'T8502',\n",
              "       'dir3', 'snow_prec3', 'snowlevel3', 'mod3', 'wind_gust3', 'mslp3',\n",
              "       'temp3', 'rh3', 'visibility3', 'lhflx3', 'lwflx3', 'conv_prec3',\n",
              "       'prec3', 'swflx3', 'shflx3', 'cape3', 'cin3', 'cfh3', 'cfl3', 'cfm3',\n",
              "       'cft3', 'HGT5003', 'HGT8503', 'T5003', 'T8503'],\n",
              "      dtype='object')"
            ]
          },
          "metadata": {},
          "execution_count": 8
        }
      ]
    },
    {
      "cell_type": "markdown",
      "source": [
        "**Find ML algorithm**"
      ],
      "metadata": {
        "id": "ChfMtedU1i6z"
      }
    },
    {
      "cell_type": "code",
      "source": [
        "from sklearn.model_selection import train_test_split\n",
        "import lazypredict\n",
        "from lazypredict.Supervised import LazyRegressor\n",
        "\n",
        "# X and Y\n",
        "Y = df_all1k[\"mslp_o\"]\n",
        "X = df_all1k.iloc[:,1:]\n",
        "\n",
        "\n",
        "X_train, X_test, y_train, y_test = train_test_split(X,Y, test_size=0.2, )\n",
        "\n",
        "\n",
        "multiple_model = LazyRegressor(verbose =0, ignore_warnings = True,predictions=True)\n",
        "models,predictions = multiple_model.fit(X_train,X_test,y_train,y_test)"
      ],
      "metadata": {
        "colab": {
          "base_uri": "https://localhost:8080/"
        },
        "id": "yDXLnryb71O1",
        "outputId": "58207801-edd6-4671-c8ee-f62c0ae66c12"
      },
      "execution_count": null,
      "outputs": [
        {
          "output_type": "stream",
          "name": "stderr",
          "text": [
            " 95%|█████████▌| 39/41 [05:25<00:12,  6.28s/it]"
          ]
        },
        {
          "output_type": "stream",
          "name": "stdout",
          "text": [
            "[08:58:02] WARNING: /workspace/src/objective/regression_obj.cu:152: reg:linear is now deprecated in favor of reg:squarederror.\n"
          ]
        },
        {
          "output_type": "stream",
          "name": "stderr",
          "text": [
            "100%|██████████| 41/41 [05:32<00:00,  8.12s/it]\n"
          ]
        }
      ]
    },
    {
      "cell_type": "code",
      "source": [
        "models"
      ],
      "metadata": {
        "id": "UOjWiLjS_zvi"
      },
      "execution_count": null,
      "outputs": []
    },
    {
      "cell_type": "markdown",
      "source": [
        "**LGBMRegressor (y_test from lazypredict)**"
      ],
      "metadata": {
        "id": "GLB6qlndgjob"
      }
    },
    {
      "cell_type": "code",
      "source": [
        "Mean_AE = round(mean_absolute_error(y_test, predictions.LGBMRegressor),2)\n",
        "MSE = round(mean_squared_error(y_test, predictions.LGBMRegressor),2)\n",
        "R2 = round(r2_score(y_test, predictions.LGBMRegressor),2)\n",
        "Median_AE = round(median_absolute_error(y_test, predictions.LGBMRegressor),2)\n",
        "\n",
        "print(pd.DataFrame({\"Mean_AE\":Mean_AE,\"MSE\":MSE,\"R2\":R2,\"Median_AE\":Median_AE},index=[\"results LGBMRegressor\"]))\n",
        "\n"
      ],
      "metadata": {
        "colab": {
          "base_uri": "https://localhost:8080/"
        },
        "id": "UdxLyqh8ARgH",
        "outputId": "e0616f30-2812-457b-b060-98d1a3922ac3"
      },
      "execution_count": null,
      "outputs": [
        {
          "output_type": "stream",
          "name": "stdout",
          "text": [
            "                       Mean_AE  MSE   R2  Median_AE\n",
            "results LGBMRegressor     0.55 0.51 0.99       0.45\n"
          ]
        }
      ]
    },
    {
      "cell_type": "markdown",
      "source": [
        "**ExtraTreesRegressor (y_test from lazypredict)**"
      ],
      "metadata": {
        "id": "CrCi7JXsg22q"
      }
    },
    {
      "cell_type": "code",
      "source": [
        "Mean_AE = round(mean_absolute_error(y_test, predictions.ExtraTreesRegressor),2)\n",
        "MSE = round(mean_squared_error(y_test, predictions.ExtraTreesRegressor),2)\n",
        "R2 = round(r2_score(y_test, predictions.ExtraTreesRegressor),2)\n",
        "Median_AE = round(median_absolute_error(y_test, predictions.ExtraTreesRegressor),2)\n",
        "\n",
        "print(pd.DataFrame({\"Mean_AE\":Mean_AE,\"MSE\":MSE,\"R2\":R2,\"Median_AE\":Median_AE},index=[\"results ExtraTreesRegressor\"]))"
      ],
      "metadata": {
        "colab": {
          "base_uri": "https://localhost:8080/"
        },
        "id": "v_1CrEyPg9t4",
        "outputId": "5d6af77a-2cea-4bea-91df-cc7ae0b54d30"
      },
      "execution_count": null,
      "outputs": [
        {
          "output_type": "stream",
          "name": "stdout",
          "text": [
            "                             Mean_AE  MSE   R2  Median_AE\n",
            "results ExtraTreesRegressor     0.51 0.46 0.99       0.39\n"
          ]
        }
      ]
    },
    {
      "cell_type": "markdown",
      "source": [
        "**lgbmregressor ML algorithm selected**"
      ],
      "metadata": {
        "id": "39WWhfb66PSv"
      }
    },
    {
      "cell_type": "code",
      "source": [
        "from lightgbm.sklearn import LGBMRegressor\n",
        "from sklearn.model_selection import train_test_split\n",
        "\n",
        "#random seed 1\n",
        "np.random.seed(1)\n",
        "\n",
        "# X and Y\n",
        "Y = df_all1k.mslp_o\n",
        "X = df_all1k.iloc[:,1:]\n",
        "\n",
        "# loop random\n",
        "Median_AE_ml = []\n",
        "Mean_AE_ml =[]\n",
        "MSE_ml = []\n",
        "R2_ml = []\n",
        "\n",
        "#20 samples to test algorithm\n",
        "for t in range (0,5):\n",
        "  #split variables\n",
        "  X_train, X_test, y_train, y_test = train_test_split(X,Y, test_size=0.15, )\n",
        "\n",
        "  #machine learning model\n",
        "  ml_model = LGBMRegressor().fit(X_train,y_train)\n",
        "  y_pred = ml_model.predict(X_test)\n",
        "  \n",
        "  #Score calculation\n",
        "  Mean_AE_ml.append(round(mean_absolute_error(y_test, y_pred),2))\n",
        "  Median_AE_ml.append(round(median_absolute_error(y_test, y_pred),2))\n",
        "  MSE_ml.append (round(mean_squared_error(y_test, y_pred),2))\n",
        "  R2_ml.append(round(r2_score(y_test, y_pred),2))\n",
        "  \n",
        "  \n",
        "print(pd.DataFrame({\"Median_AE\":Median_AE_ml,\" Mean_AE\":Mean_AE_ml,\"MSE\":MSE_ml,\"R2\":R2_ml}))"
      ],
      "metadata": {
        "colab": {
          "base_uri": "https://localhost:8080/"
        },
        "id": "AmaGouiY4907",
        "outputId": "06d9e4f8-cdf4-4a2b-df38-0e32460678ac"
      },
      "execution_count": 9,
      "outputs": [
        {
          "output_type": "stream",
          "name": "stdout",
          "text": [
            "   Median_AE   Mean_AE   MSE    R2\n",
            "0       0.41      0.50  0.42  0.99\n",
            "1       0.40      0.50  0.42  0.99\n",
            "2       0.40      0.50  0.44  0.99\n",
            "3       0.39      0.49  0.40  0.99\n",
            "4       0.40      0.49  0.42  0.99\n"
          ]
        }
      ]
    },
    {
      "cell_type": "markdown",
      "source": [
        "**T test (1sample) compare machine learning median absolute error in a sample (n=\n",
        "5) versus meteorological model median absolute error at point 0 (0.6) and at point 1 (0.6). the alternative hypothesis is: the mean of the underlying distribution of the sample is less than the given population mean (popmean). Significance level (alpha) = 0.01**"
      ],
      "metadata": {
        "id": "3j5DH1765--U"
      }
    },
    {
      "cell_type": "code",
      "source": [
        "from scipy import stats\n",
        "\n",
        "alpha = 0.01\n",
        "sta0, p_value0 = stats.ttest_1samp(Median_AE_ml, popmean=0.6, alternative=\"less\")\n",
        "sta1, p_value1 = stats.ttest_1samp(Median_AE_ml, popmean=0.6, alternative=\"less\")\n",
        "\n",
        "print(\"\\nalpha: \",alpha)\n",
        "\n",
        "print(\"\\nMedian Absolute error list from machine learning test:\",Median_AE_ml)\n",
        "print(\"\\n**** Point 0 ****\")\n",
        "print(\"\\np_value point 0:\",p_value0)\n",
        "if p_value0 < alpha:    \n",
        "    print(\"\\nwe are rejecting null hypothesis  H0: Median Absolute Error machine learning = Median Absolute Error meteorological model point 0\")\n",
        "    print(\"\\nwe are accepting alternative hypothesis: Median Absolute Error machine learning is less than Median Absolute Error meteorological point 0\")\n",
        "else:\n",
        "    print(\"\\nwe are accepting null hypothesis:  H0:  Median Absolute Error machine learning = Median Absolute Error meteorological model point 0 \")\n",
        "\n",
        "print(\"\\n**** Point 1 ****\")\n",
        "print(\"\\np value point 1:\",p_value1 )\n",
        "if p_value1 < alpha:    \n",
        "    print(\"\\nwe are rejecting null hypothesis  H0: Median Absolute Error machine learning = Median Absolute Error meteorological model point 1\")\n",
        "    print(\"\\nwe are accepting alternative hypothesis: Median Absolute Error machine learning is less than Median Absolute Error meteorological point 1\")\n",
        "else:\n",
        "    print(\"\\nwe are accepting null hypothesis:  H0  Median Absolute Error machine learning = Median Absolute Error meteorological model point 1\")"
      ],
      "metadata": {
        "colab": {
          "base_uri": "https://localhost:8080/"
        },
        "id": "Rsrp3_FM6Uea",
        "outputId": "069e06ef-b5b3-401a-9c4e-e0a2d7ab21e4"
      },
      "execution_count": 10,
      "outputs": [
        {
          "output_type": "stream",
          "name": "stdout",
          "text": [
            "\n",
            "alpha:  0.01\n",
            "\n",
            "Median Absolute error list from machine learning test: [0.41, 0.4, 0.4, 0.39, 0.4]\n",
            "\n",
            "**** Point 0 ****\n",
            "\n",
            "p_value point 0: 1.871879096646247e-07\n",
            "\n",
            "we are rejecting null hypothesis  H0: Median Absolute Error machine learning = Median Absolute Error meteorological model point 0\n",
            "\n",
            "we are accepting alternative hypothesis: Median Absolute Error machine learning is less than Median Absolute Error meteorological point 0\n",
            "\n",
            "**** Point 1 ****\n",
            "\n",
            "p value point 1: 1.871879096646247e-07\n",
            "\n",
            "we are rejecting null hypothesis  H0: Median Absolute Error machine learning = Median Absolute Error meteorological model point 1\n",
            "\n",
            "we are accepting alternative hypothesis: Median Absolute Error machine learning is less than Median Absolute Error meteorological point 1\n"
          ]
        }
      ]
    },
    {
      "cell_type": "markdown",
      "source": [
        "**Add time variables**"
      ],
      "metadata": {
        "id": "3LB7ooEm7KY7"
      }
    },
    {
      "cell_type": "code",
      "source": [
        "df_all1k[\"hour\"] = df_all1k.index.hour\n",
        "df_all1k[\"month\"] = df_all1k.index.month\n",
        "df_all1k[\"dayofyear\"] = df_all1k.index.dayofyear\n",
        "df_all1k[\"weekofyear\"] = df_all1k.index.isocalendar().week.astype(int)"
      ],
      "metadata": {
        "id": "53SehPaetF9j"
      },
      "execution_count": 11,
      "outputs": []
    },
    {
      "cell_type": "markdown",
      "source": [
        "**Machine learning with time variables**"
      ],
      "metadata": {
        "id": "-hXqalG-8edT"
      }
    },
    {
      "cell_type": "markdown",
      "source": [
        " **X variables**"
      ],
      "metadata": {
        "id": "xsz1bScg8ILz"
      }
    },
    {
      "cell_type": "code",
      "source": [
        " df_all1k.iloc[:,1:].columns"
      ],
      "metadata": {
        "colab": {
          "base_uri": "https://localhost:8080/"
        },
        "id": "jQ0o2l828Q_a",
        "outputId": "32bcc702-bf71-4283-88cc-e9503471b157"
      },
      "execution_count": 12,
      "outputs": [
        {
          "output_type": "execute_result",
          "data": {
            "text/plain": [
              "Index(['dir0', 'snow_prec0', 'snowlevel0', 'mod0', 'wind_gust0', 'mslp0',\n",
              "       'temp0', 'rh0', 'visibility0', 'lhflx0',\n",
              "       ...\n",
              "       'cfm3', 'cft3', 'HGT5003', 'HGT8503', 'T5003', 'T8503', 'hour', 'month',\n",
              "       'dayofyear', 'weekofyear'],\n",
              "      dtype='object', length=104)"
            ]
          },
          "metadata": {},
          "execution_count": 12
        }
      ]
    },
    {
      "cell_type": "code",
      "source": [
        "#random seed 1\n",
        "np.random.seed(1)\n",
        "\n",
        "# X and Y\n",
        "Y = df_all1k.mslp_o\n",
        "X = df_all1k.iloc[:,1:]\n",
        "\n",
        "# loop random\n",
        "Median_AE_ml_t = []\n",
        "Mean_AE_ml_t =[]\n",
        "MSE_ml_t = []\n",
        "R2_ml_t = []\n",
        "\n",
        "#20 samples to test algorithm\n",
        "for t in range (0,5):\n",
        "  #split variables\n",
        "  X_train, X_test, y_train, y_test = train_test_split(X,Y, test_size=0.15, )\n",
        "\n",
        "  #machine learning model\n",
        "  ml_model = LGBMRegressor().fit(X_train,y_train)\n",
        "  y_pred = ml_model.predict(X_test)\n",
        "  \n",
        "  #Score calculation\n",
        "  Mean_AE_ml_t.append(round(mean_absolute_error(y_test, y_pred),2))\n",
        "  Median_AE_ml_t.append(round(median_absolute_error(y_test, y_pred),2))\n",
        "  MSE_ml_t.append (round(mean_squared_error(y_test, y_pred),2))\n",
        "  R2_ml_t.append(round(r2_score(y_test, y_pred),2))\n",
        "  \n",
        "  \n",
        "print(pd.DataFrame({\"Median_AE\":Median_AE_ml_t,\" Mean_AE\":Mean_AE_ml_t,\"MSE\":MSE_ml_t,\"R2\":R2_ml_t}))"
      ],
      "metadata": {
        "colab": {
          "base_uri": "https://localhost:8080/"
        },
        "id": "XXKcR59T71M8",
        "outputId": "ed175759-5100-495b-dceb-312c80966007"
      },
      "execution_count": 13,
      "outputs": [
        {
          "output_type": "stream",
          "name": "stdout",
          "text": [
            "   Median_AE   Mean_AE   MSE    R2\n",
            "0       0.38      0.47  0.38  0.99\n",
            "1       0.38      0.47  0.37  0.99\n",
            "2       0.38      0.47  0.39  0.99\n",
            "3       0.37      0.46  0.36  0.99\n",
            "4       0.38      0.47  0.38  0.99\n"
          ]
        }
      ]
    },
    {
      "cell_type": "code",
      "source": [
        "feature_importances = ml_model.feature_importances_\n",
        "total_sum = sum(feature_importances)\n",
        "feature_importances_perc = [(importance/total_sum)*100 for importance in feature_importances]\n",
        "# Print the feature importances as a percentage of total feature importance\n",
        "\n",
        "for name, importance in zip(X.columns, feature_importances_perc):\n",
        "    print(f\"{name}: {importance:.1f}%\")"
      ],
      "metadata": {
        "colab": {
          "base_uri": "https://localhost:8080/"
        },
        "id": "Z3u6Ab6JUkZd",
        "outputId": "bd09b195-25ac-475c-ca71-499d32fd9663"
      },
      "execution_count": 14,
      "outputs": [
        {
          "output_type": "stream",
          "name": "stdout",
          "text": [
            "dir0: 1.2%\n",
            "snow_prec0: 0.0%\n",
            "snowlevel0: 0.5%\n",
            "mod0: 0.5%\n",
            "wind_gust0: 0.9%\n",
            "mslp0: 6.4%\n",
            "temp0: 0.8%\n",
            "rh0: 1.1%\n",
            "visibility0: 0.5%\n",
            "lhflx0: 0.7%\n",
            "lwflx0: 0.8%\n",
            "conv_prec0: 0.3%\n",
            "prec0: 0.5%\n",
            "swflx0: 0.1%\n",
            "shflx0: 1.3%\n",
            "cape0: 0.9%\n",
            "cin0: 0.5%\n",
            "cfh0: 0.2%\n",
            "cfl0: 0.3%\n",
            "cfm0: 0.2%\n",
            "cft0: 0.2%\n",
            "HGT5000: 0.9%\n",
            "HGT8500: 2.5%\n",
            "T5000: 1.5%\n",
            "T8500: 1.5%\n",
            "dir1: 2.0%\n",
            "snow_prec1: 0.0%\n",
            "snowlevel1: 1.2%\n",
            "mod1: 0.5%\n",
            "wind_gust1: 0.6%\n",
            "mslp1: 3.2%\n",
            "temp1: 2.3%\n",
            "rh1: 0.8%\n",
            "visibility1: 0.7%\n",
            "lhflx1: 0.3%\n",
            "lwflx1: 0.9%\n",
            "conv_prec1: 0.2%\n",
            "prec1: 1.0%\n",
            "swflx1: 0.1%\n",
            "shflx1: 1.0%\n",
            "cape1: 0.7%\n",
            "cin1: 0.4%\n",
            "cfh1: 0.2%\n",
            "cfl1: 0.5%\n",
            "cfm1: 0.5%\n",
            "cft1: 0.3%\n",
            "HGT5001: 0.8%\n",
            "HGT8501: 0.9%\n",
            "T5001: 0.6%\n",
            "T8501: 1.0%\n",
            "dir2: 1.0%\n",
            "snow_prec2: 0.0%\n",
            "snowlevel2: 1.0%\n",
            "mod2: 0.4%\n",
            "wind_gust2: 0.7%\n",
            "mslp2: 4.3%\n",
            "temp2: 1.0%\n",
            "rh2: 0.5%\n",
            "visibility2: 0.4%\n",
            "lhflx2: 0.6%\n",
            "lwflx2: 1.2%\n",
            "conv_prec2: 0.2%\n",
            "prec2: 0.4%\n",
            "swflx2: 0.2%\n",
            "shflx2: 1.0%\n",
            "cape2: 0.9%\n",
            "cin2: 0.3%\n",
            "cfh2: 0.2%\n",
            "cfl2: 0.4%\n",
            "cfm2: 0.5%\n",
            "cft2: 0.3%\n",
            "HGT5002: 0.7%\n",
            "HGT8502: 3.8%\n",
            "T5002: 1.1%\n",
            "T8502: 1.1%\n",
            "dir3: 1.4%\n",
            "snow_prec3: 0.0%\n",
            "snowlevel3: 0.7%\n",
            "mod3: 0.4%\n",
            "wind_gust3: 0.6%\n",
            "mslp3: 2.8%\n",
            "temp3: 1.4%\n",
            "rh3: 0.5%\n",
            "visibility3: 0.6%\n",
            "lhflx3: 0.2%\n",
            "lwflx3: 0.8%\n",
            "conv_prec3: 0.2%\n",
            "prec3: 0.5%\n",
            "swflx3: 0.1%\n",
            "shflx3: 0.7%\n",
            "cape3: 0.7%\n",
            "cin3: 0.4%\n",
            "cfh3: 0.3%\n",
            "cfl3: 0.3%\n",
            "cfm3: 0.3%\n",
            "cft3: 0.2%\n",
            "HGT5003: 0.8%\n",
            "HGT8503: 1.4%\n",
            "T5003: 0.9%\n",
            "T8503: 0.8%\n",
            "hour: 7.1%\n",
            "month: 0.4%\n",
            "dayofyear: 6.4%\n",
            "weekofyear: 1.9%\n"
          ]
        }
      ]
    },
    {
      "cell_type": "markdown",
      "source": [
        "**T test two related samples. This is a test for the null hypothesis that two related samples have identical Median Absolute Error. Alternative hypothesis the Median Absolute Error of the distribution underlying the sample with time variables is less than the Median Absolute Error of the distribution underlying the sample without time variables. Significance level (alpha) = 0.01**"
      ],
      "metadata": {
        "id": "-uQb1jDO84oc"
      }
    },
    {
      "cell_type": "code",
      "source": [
        "from scipy import stats\n",
        "\n",
        "alpha = 0.01\n",
        "sta, p_value = stats.ttest_rel(Median_AE_ml_t, Median_AE_ml, alternative=\"less\")\n",
        "\n",
        "print(\"\\nMedian absolute error without time variables:\", Median_AE_ml)\n",
        "print(\"\\nMedian absolute error with time variables:\", Median_AE_ml_t)\n",
        "\n",
        "print(\"\\nalpha: \",alpha)\n",
        "\n",
        "print(\"\\np_value point: \",p_value)\n",
        "if p_value < alpha:    \n",
        "    print(\"\\nwe are rejecting null hypothesis  H0: Median absolute error machine learning without time variables = Median absolute error machine learning with time variables\")\n",
        "    print(\"\\nwe are accepting alternative hypothesis: Median absolute error of the sample with time variables inputs is less than the Median absolute error of the sample without time variables inputs\")\n",
        "else:\n",
        "    print(\"\\nwe are accepting null hypothesis:  H0: Median absolute error machine learning without time variables = Median absolute error machine learning with time variables\")\n",
        "     "
      ],
      "metadata": {
        "colab": {
          "base_uri": "https://localhost:8080/"
        },
        "id": "_AW7s4T19JEO",
        "outputId": "78d8808e-2b52-4156-f08a-0bc669611dff"
      },
      "execution_count": 15,
      "outputs": [
        {
          "output_type": "stream",
          "name": "stdout",
          "text": [
            "\n",
            "Median absolute error without time variables: [0.41, 0.4, 0.4, 0.39, 0.4]\n",
            "\n",
            "Median absolute error with time variables: [0.38, 0.38, 0.38, 0.37, 0.38]\n",
            "\n",
            "alpha:  0.01\n",
            "\n",
            "p_value point:  0.00019408566924700312\n",
            "\n",
            "we are rejecting null hypothesis  H0: Median absolute error machine learning without time variables = Median absolute error machine learning with time variables\n",
            "\n",
            "we are accepting alternative hypothesis: Median absolute error of the sample with time variables inputs is less than the Median absolute error of the sample without time variables inputs\n"
          ]
        }
      ]
    },
    {
      "cell_type": "markdown",
      "source": [
        "**Save algorithm**"
      ],
      "metadata": {
        "id": "owVD0zsI_1JD"
      }
    },
    {
      "cell_type": "code",
      "source": [
        "import pickle\n",
        "from sklearn.pipeline import Pipeline\n",
        "\n",
        "x_var = df_all1k.iloc[:,1:].columns\n",
        "estimators = [('ml_model', ml_model)]\n",
        "pipe = Pipeline(estimators)\n",
        "print(pipe)\n",
        "al_file={\"x_var\":x_var,\"coor\":coor,\"pipe\":pipe}\n",
        "pickle.dump(al_file, open(\"pres_LEST_d0.al\", 'wb'))"
      ],
      "metadata": {
        "colab": {
          "base_uri": "https://localhost:8080/"
        },
        "id": "ZXM71i31__XS",
        "outputId": "feedb4df-26f9-402b-dbc4-19e93f3d7b17"
      },
      "execution_count": 16,
      "outputs": [
        {
          "output_type": "stream",
          "name": "stdout",
          "text": [
            "Pipeline(steps=[('ml_model', LGBMRegressor())])\n"
          ]
        }
      ]
    }
  ]
}